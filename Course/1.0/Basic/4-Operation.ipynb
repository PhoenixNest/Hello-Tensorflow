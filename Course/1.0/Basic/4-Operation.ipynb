{
 "cells": [
  {
   "cell_type": "code",
   "execution_count": 1,
   "metadata": {},
   "outputs": [],
   "source": [
    "import tensorflow as tf\n",
    "\n",
    "# 清除 TensorBoard 的默认图和不断增加的节点\n",
    "tf.reset_default_graph()\n",
    "\n",
    "# [4 * (a + 1)] - (a + 1)\n",
    "# 定义变量 a\n",
    "a = tf.Variable(1, name=\"a\")\n",
    "\n",
    "# 定义操作 b = a + 1\n",
    "b = tf.add(a, 1, name=\"b\")\n",
    "\n",
    "# 定义操作 c = b * 4\n",
    "c = tf.multiply(b, 4, name=\"c\")\n",
    "\n",
    "# 定义操作 d = c - b\n",
    "d = tf.subtract(c, b, name=\"d\")\n",
    "\n",
    "# logdir 改为本地合适路径\n",
    "logdir = \"D:/log\"\n",
    "\n",
    "# 生成一个用于写日志的 writer，并将当前的 TensorFlow计算图 写入日志\n",
    "writer = tf.summary.FileWriter(logdir, tf.get_default_graph())\n",
    "\n",
    "writer.close()"
   ]
  }
 ],
 "metadata": {
  "interpreter": {
   "hash": "fcf1d46d271c46101d6967829d4a5f475342a2ce08e4944f989fbcdc9bb23690"
  },
  "kernelspec": {
   "display_name": "Python 3.9.9 64-bit",
   "language": "python",
   "name": "python3"
  },
  "language_info": {
   "codemirror_mode": {
    "name": "ipython",
    "version": 3
   },
   "file_extension": ".py",
   "mimetype": "text/x-python",
   "name": "python",
   "nbconvert_exporter": "python",
   "pygments_lexer": "ipython3",
   "version": "3.9.9"
  },
  "orig_nbformat": 4
 },
 "nbformat": 4,
 "nbformat_minor": 2
}