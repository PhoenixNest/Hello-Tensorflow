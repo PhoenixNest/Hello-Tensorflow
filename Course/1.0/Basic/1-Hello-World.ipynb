{
 "cells": [
  {
   "cell_type": "code",
   "execution_count": 1,
   "metadata": {},
   "outputs": [
    {
     "name": "stdout",
     "output_type": "stream",
     "text": [
      "b'Hello World'\n"
     ]
    }
   ],
   "source": [
    "import tensorflow as tf\n",
    "\n",
    "# 确保 当前 TF 运行环境为静态模式\n",
    "tf.compat.v1.disable_eager_execution()\n",
    "\n",
    "# 定义常量，将其作为一个静态结点加入默认计算图中\n",
    "hello = tf.constant(\"Hello World\")\n",
    "\n",
    "# 定义会话\n",
    "session = tf.compat.v1.Session()\n",
    "\n",
    "# 输出\n",
    "print(session.run(hello))"
   ]
  }
 ],
 "metadata": {
  "interpreter": {
   "hash": "fcf1d46d271c46101d6967829d4a5f475342a2ce08e4944f989fbcdc9bb23690"
  },
  "kernelspec": {
   "display_name": "Python 3.9.9 64-bit",
   "language": "python",
   "name": "python3"
  },
  "language_info": {
   "codemirror_mode": {
    "name": "ipython",
    "version": 3
   },
   "file_extension": ".py",
   "mimetype": "text/x-python",
   "name": "python",
   "nbconvert_exporter": "python",
   "pygments_lexer": "ipython3",
   "version": "3.9.9"
  },
  "orig_nbformat": 4
 },
 "nbformat": 4,
 "nbformat_minor": 2
}