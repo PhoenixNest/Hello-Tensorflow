{
 "cells": [
  {
   "cell_type": "code",
   "execution_count": 1,
   "metadata": {},
   "outputs": [],
   "source": [
    "import tensorflow as tf"
   ]
  },
  {
   "cell_type": "code",
   "execution_count": 2,
   "metadata": {},
   "outputs": [
    {
     "name": "stdout",
     "output_type": "stream",
     "text": [
      "7\n"
     ]
    }
   ],
   "source": [
    "# 常量\n",
    "# constValue = tf.constant(3)\n",
    "constValue1 = tf.constant(3, tf.int32, name=\"constValue1\")\n",
    "constValue2 = tf.constant(4, tf.int32, name=\"constValue2\")\n",
    "\n",
    "constResult = tf.add(constValue1, constValue2)\n",
    "\n",
    "constSession = tf.Session()\n",
    "\n",
    "print(constSession.run(constResult))"
   ]
  },
  {
   "cell_type": "code",
   "execution_count": 3,
   "metadata": {},
   "outputs": [
    {
     "name": "stdout",
     "output_type": "stream",
     "text": [
      "3.0\n"
     ]
    }
   ],
   "source": [
    "# 变量 - 全局初始化\n",
    "variableValue1 = tf.Variable(1.0, tf.float32, name=\"variableValue1\")\n",
    "variableValue2 = tf.Variable(2.0, tf.float32, name=\"variableValue2\")\n",
    "\n",
    "variableResult = tf.add(variableValue1, variableValue2)\n",
    "\n",
    "# 全局变量初始化\n",
    "init = tf.global_variables_initializer()\n",
    "\n",
    "variableSession = tf.Session()\n",
    "\n",
    "variableSession.run(init)\n",
    "\n",
    "print(variableSession.run(variableResult))"
   ]
  }
 ],
 "metadata": {
  "interpreter": {
   "hash": "fcf1d46d271c46101d6967829d4a5f475342a2ce08e4944f989fbcdc9bb23690"
  },
  "kernelspec": {
   "display_name": "Python 3.9.9 64-bit",
   "language": "python",
   "name": "python3"
  },
  "language_info": {
   "codemirror_mode": {
    "name": "ipython",
    "version": 3
   },
   "file_extension": ".py",
   "mimetype": "text/x-python",
   "name": "python",
   "nbconvert_exporter": "python",
   "pygments_lexer": "ipython3",
   "version": "3.9.9"
  },
  "orig_nbformat": 4
 },
 "nbformat": 4,
 "nbformat_minor": 2
}