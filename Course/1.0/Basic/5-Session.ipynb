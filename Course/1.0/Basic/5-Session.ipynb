{
 "cells": [
  {
   "cell_type": "code",
   "execution_count": 1,
   "metadata": {},
   "outputs": [],
   "source": [
    "import tensorflow as tf"
   ]
  },
  {
   "cell_type": "code",
   "execution_count": 2,
   "metadata": {},
   "outputs": [
    {
     "name": "stdout",
     "output_type": "stream",
     "text": [
      "[1 2 3]\n"
     ]
    }
   ],
   "source": [
    "# Session 写法一\n",
    "\n",
    "tens1 = tf.constant([1, 2, 3])\n",
    "\n",
    "# 创建一个会话\n",
    "session1 = tf.Session()\n",
    "\n",
    "# 使用该创建会话执行想要得到的结果语句\n",
    "# 如：session.run(result)\n",
    "\n",
    "# 此处为得到上述张量的结果\n",
    "try:\n",
    "    print(session1.run(tens1))\n",
    "\n",
    "except:\n",
    "    print(\"Exception !\")\n",
    "\n",
    "# 关闭会话，释放资源\n",
    "finally:\n",
    "    session1.close()"
   ]
  },
  {
   "cell_type": "code",
   "execution_count": 3,
   "metadata": {},
   "outputs": [
    {
     "name": "stdout",
     "output_type": "stream",
     "text": [
      "7.0\n"
     ]
    }
   ],
   "source": [
    "# Session 写法二\n",
    "\n",
    "node1 = tf.constant(3.0, tf.float32, name=\"node1\")\n",
    "node2 = tf.constant(4.0, tf.float32, name=\"node2\")\n",
    "\n",
    "result = tf.add(node1, node2)\n",
    "\n",
    "# 通过 Python 上下文管理器管理会话\n",
    "# 此方法不需要调用 session.close()方法 关闭会话，系统将自动释放资源\n",
    "with tf.Session() as sessions:\n",
    "    # 使用该会话计算结果\n",
    "    print(sessions.run(result))"
   ]
  },
  {
   "cell_type": "code",
   "execution_count": 4,
   "metadata": {},
   "outputs": [
    {
     "name": "stdout",
     "output_type": "stream",
     "text": [
      "7.0\n",
      "7.0\n",
      "7.0\n"
     ]
    }
   ],
   "source": [
    "# Session 默认会话\n",
    "\n",
    "# 当指定默认会话时，可通过 tf.Tensor.eval() 计算所需张量值 \n",
    "\n",
    "node1 = tf.constant(3.0, tf.float32, name=\"node1\")\n",
    "node2 = tf.constant(4.0, tf.float32, name=\"node2\")\n",
    "\n",
    "result = tf.add(node1, node2)\n",
    "\n",
    "session2 = tf.compat.v1.Session()\n",
    "\n",
    "with session2.as_default():\n",
    "    print(result.eval())\n",
    "\n",
    "session3 = tf.compat.v1.Session()\n",
    "\n",
    "# 下面写法均可得到相同的输出结果\n",
    "print(session3.run(result))\n",
    "\n",
    "# 无缺省会话，需要手动指定\n",
    "print(result.eval(session=session3))"
   ]
  },
  {
   "cell_type": "code",
   "execution_count": 5,
   "metadata": {},
   "outputs": [
    {
     "name": "stdout",
     "output_type": "stream",
     "text": [
      "7.0\n"
     ]
    }
   ],
   "source": [
    "# Session 交互环境下设置默认会话\n",
    "\n",
    "node1 = tf.constant(3.0, tf.float32, name=\"node1\")\n",
    "node2 = tf.constant(4.0, tf.float32, name=\"node2\")\n",
    "\n",
    "result = tf.add(node1, node2)\n",
    "\n",
    "# tf.compat.v1.InteractiveSession() 会将生成的会话自动注册为一个默认会话\n",
    "session4 = tf.compat.v1.InteractiveSession()\n",
    "\n",
    "print(result.eval())\n",
    "\n",
    "session4.close()"
   ]
  }
 ],
 "metadata": {
  "interpreter": {
   "hash": "fcf1d46d271c46101d6967829d4a5f475342a2ce08e4944f989fbcdc9bb23690"
  },
  "kernelspec": {
   "display_name": "Python 3.9.9 64-bit",
   "language": "python",
   "name": "python3"
  },
  "language_info": {
   "codemirror_mode": {
    "name": "ipython",
    "version": 3
   },
   "file_extension": ".py",
   "mimetype": "text/x-python",
   "name": "python",
   "nbconvert_exporter": "python",
   "pygments_lexer": "ipython3",
   "version": "3.9.9"
  },
  "orig_nbformat": 4
 },
 "nbformat": 4,
 "nbformat_minor": 2
}