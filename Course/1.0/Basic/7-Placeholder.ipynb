{
 "cells": [
  {
   "cell_type": "code",
   "execution_count": 1,
   "metadata": {},
   "outputs": [],
   "source": [
    "import tensorflow as tf\n"
   ]
  },
  {
   "cell_type": "code",
   "execution_count": 2,
   "metadata": {},
   "outputs": [],
   "source": [
    "# 占位符定义\n",
    "# tf.placeholder(dataType, shape=None, name=None)\n",
    "\n",
    "# 生成一个 2 * 3 的二维数组，矩阵中的每个元素的类型都是 tf.float32，内部对应符号为 “example”\n",
    "example = tf.placeholder(tf.float32, [2, 3], name=\"example\")"
   ]
  },
  {
   "cell_type": "code",
   "execution_count": 3,
   "metadata": {},
   "outputs": [
    {
     "name": "stdout",
     "output_type": "stream",
     "text": [
      "56.0\n"
     ]
    }
   ],
   "source": [
    "# Feed 投喂（提交）数据\n",
    "\n",
    "a = tf.placeholder(tf.float32, name=\"a\")\n",
    "b = tf.placeholder(tf.float32, name=\"b\")\n",
    "\n",
    "# c = a * b，其中 a 与 b 均为需传递参数\n",
    "c = tf.multiply(a, b, name=\"c\")\n",
    "\n",
    "init = tf.global_variables_initializer()\n",
    "\n",
    "with tf.Session() as sessions:\n",
    "    sessions.run(init)\n",
    "\n",
    "    # 为 c 的参数列表赋值\n",
    "    result = sessions.run(c, feed_dict={a: 8.0, b: 7.0})\n",
    "\n",
    "    print(result)"
   ]
  },
  {
   "cell_type": "code",
   "execution_count": 4,
   "metadata": {
    "pycharm": {
     "name": "#%%\n"
    }
   },
   "outputs": [
    {
     "name": "stdout",
     "output_type": "stream",
     "text": [
      "[array([12.,  4., 14.], dtype=float32), array([ 6.5,  0. , -0.5], dtype=float32)]\n",
      "[12.  4. 14.]\n"
     ]
    }
   ],
   "source": [
    "# 多个操作可通过一次 Feed 完成执行\n",
    "\n",
    "a = tf.placeholder(tf.float32, name=\"a\")\n",
    "b = tf.placeholder(tf.float32, name=\"b\")\n",
    "\n",
    "# c = a * b，其中 a 与 b 均为需传递参数\n",
    "c = tf.multiply(a, b, name=\"c\")\n",
    "\n",
    "# d = a - b\n",
    "d = tf.subtract(a, b, name=\"d\")\n",
    "\n",
    "init = tf.global_variables_initializer()\n",
    "\n",
    "with tf.Session() as sessions:\n",
    "    sessions.run(init)\n",
    "\n",
    "    # 为 c，d 的参数列表赋值\n",
    "    result = sessions.run([c, d], feed_dict={a: [8.0, 2.0, 3.5], b: [1.5, 2.0, 4.0]})\n",
    "\n",
    "    print(result)\n",
    "\n",
    "    # 取第一个结果\n",
    "    print(result[0])"
   ]
  },
  {
   "cell_type": "code",
   "execution_count": 5,
   "outputs": [
    {
     "name": "stdout",
     "output_type": "stream",
     "text": [
      "value of C:  [12.  4. 14.] value of D:  [ 6.5  0.  -0.5]\n"
     ]
    }
   ],
   "source": [
    "# 一次返回多个值分别赋给多个变量\n",
    "\n",
    "a = tf.placeholder(tf.float32, name=\"a\")\n",
    "b = tf.placeholder(tf.float32, name=\"b\")\n",
    "\n",
    "# c = a * b，其中 a 与 b 均为需传递参数\n",
    "c = tf.multiply(a, b, name=\"c\")\n",
    "\n",
    "# d = a - b\n",
    "d = tf.subtract(a, b, name=\"d\")\n",
    "\n",
    "init = tf.compat.v1.global_variables_initializer()\n",
    "\n",
    "with tf.compat.v1.Session() as sessions:\n",
    "    sessions.run(init)\n",
    "\n",
    "    resultC, resultD = sessions.run([c, d], feed_dict={a: [8.0, 2.0, 3.5], b: [1.5, 2.0, 4.0]})\n",
    "\n",
    "    print(\"value of C: \", resultC, \"value of D: \", resultD)"
   ],
   "metadata": {
    "collapsed": false,
    "pycharm": {
     "name": "#%%\n"
    }
   }
  }
 ],
 "metadata": {
  "interpreter": {
   "hash": "fcf1d46d271c46101d6967829d4a5f475342a2ce08e4944f989fbcdc9bb23690"
  },
  "kernelspec": {
   "display_name": "Python 3.9.9 64-bit",
   "language": "python",
   "name": "python3"
  },
  "language_info": {
   "codemirror_mode": {
    "name": "ipython",
    "version": 3
   },
   "file_extension": ".py",
   "mimetype": "text/x-python",
   "name": "python",
   "nbconvert_exporter": "python",
   "pygments_lexer": "ipython3",
   "version": "3.9.9"
  },
  "orig_nbformat": 4
 },
 "nbformat": 4,
 "nbformat_minor": 2
}