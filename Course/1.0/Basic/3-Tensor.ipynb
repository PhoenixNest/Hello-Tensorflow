{
 "cells": [
  {
   "cell_type": "code",
   "execution_count": 13,
   "metadata": {},
   "outputs": [],
   "source": [
    "import tensorflow as tf\n",
    "\n",
    "tf.compat.v1.disable_eager_execution()"
   ]
  },
  {
   "cell_type": "markdown",
   "metadata": {},
   "source": [
    "| 阶 | 形状               | 维数  | 例子                    |\n",
    "|---|------------------|-----|-----------------------|\n",
    "| 0 | ()               | 0-D | 4                     |\n",
    "| 1 | (D0)             | 1-D | [2,3,5]               |\n",
    "| 2 | (D0,D1)          | 2-D | [[2,3],[3,4]]         |\n",
    "| 3 | (D0,D1,D2)       | 3-D | [[[7],[3]],[[2],[4]]] |\n",
    "| N | (D0,D1,...,Dn-1) | n-D | 形为(D0,D1,..,Dn-1)的张量  |"
   ]
  },
  {
   "cell_type": "code",
   "execution_count": 14,
   "metadata": {},
   "outputs": [
    {
     "name": "stdout",
     "output_type": "stream",
     "text": [
      "Tensor(\"tensor1_1:0\", shape=(4, 2, 3), dtype=int32)\n"
     ]
    }
   ],
   "source": [
    "# 3维数组\n",
    "tensor1 = tf.constant([\n",
    "    [[1, 2, 2], [2, 2, 3]],\n",
    "    [[3, 5, 6], [5, 4, 3]],\n",
    "    [[7, 0, 1], [9, 1, 9]],\n",
    "    [[11, 12, 7], [1, 3, 14]]\n",
    "], name=\"tensor1\")\n",
    "\n",
    "# 输出信息为：名字（name） + 形状（shape） + 类型（type）\n",
    "print(tensor1)"
   ]
  },
  {
   "cell_type": "code",
   "execution_count": 15,
   "metadata": {},
   "outputs": [
    {
     "name": "stdout",
     "output_type": "stream",
     "text": [
      "()\n",
      "(3,)\n",
      "(2, 3)\n",
      "(2, 2, 2)\n"
     ]
    }
   ],
   "source": [
    "scalar = tf.constant(100)\n",
    "vector = tf.constant([1, 2, 3])\n",
    "matrix = tf.constant([[1, 2, 3], [4, 5, 6]])\n",
    "cube_matrix = tf.constant([[[1, 2], [3, 4]], [[5, 6], [7, 8]]])\n",
    "\n",
    "print(scalar.get_shape())\n",
    "print(vector.get_shape())\n",
    "print(matrix.get_shape())\n",
    "print(cube_matrix.get_shape())"
   ]
  },
  {
   "cell_type": "markdown",
   "metadata": {},
   "source": [
    "需注意的张量的阶（rank）表征了张量的维度\n",
    "\n",
    "| 阶 | 数学实体      | 代码示例                                                   |\n",
    "|---|-----------|--------------------------------------------------------|\n",
    "| 0 | Scalar（数） | Scalar = 1000                                          |\n",
    "| 1 | Vetcor    | Vector = [2,8,3]                                       |\n",
    "| 2 | Matrix    | Matrix = [[4,2,1],[5,3,2],[5,5[6]]]                    |\n",
    "| 3 | 3-tensor  | Tensor = [[[4],[3],[2]],[[6],[100],[4]],[[5],[1],[4]]] |\n",
    "| N | N-tensor  | ...                                                    |"
   ]
  },
  {
   "cell_type": "code",
   "execution_count": 17,
   "metadata": {},
   "outputs": [
    {
     "name": "stdout",
     "output_type": "stream",
     "text": [
      "5\n"
     ]
    }
   ],
   "source": [
    "tensor2 = tf.constant([\n",
    "    [[1, 2], [2, 3]],\n",
    "    [[3, 4], [5, 6]]\n",
    "])\n",
    "\n",
    "session = tf.compat.v1.Session()\n",
    "\n",
    "# Tensor 取值类似 Python 数组操作取值\n",
    "print(session.run(tensor2)[1, 1, 0])\n",
    "\n",
    "session.close()"
   ]
  }
 ],
 "metadata": {
  "interpreter": {
   "hash": "fcf1d46d271c46101d6967829d4a5f475342a2ce08e4944f989fbcdc9bb23690"
  },
  "kernelspec": {
   "display_name": "Python 3.9.9 64-bit",
   "language": "python",
   "name": "python3"
  },
  "language_info": {
   "codemirror_mode": {
    "name": "ipython",
    "version": 3
   },
   "file_extension": ".py",
   "mimetype": "text/x-python",
   "name": "python",
   "nbconvert_exporter": "python",
   "pygments_lexer": "ipython3",
   "version": "3.9.9"
  },
  "orig_nbformat": 4
 },
 "nbformat": 4,
 "nbformat_minor": 2
}