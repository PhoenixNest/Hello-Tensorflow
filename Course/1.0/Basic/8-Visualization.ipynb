{
 "cells": [
  {
   "cell_type": "markdown",
   "metadata": {
    "collapsed": true,
    "pycharm": {
     "name": "#%% md\n"
    }
   },
   "source": [
    "# 启动 TensorBoard\n",
    "\n",
    "> TensorBoard 无需额外安装，在 TensorFlow 安装时通常会携带安装 TensorBoard\n",
    "\n",
    "```bash\n",
    "# logdir中填写你的本地日志地址\n",
    "tensorboard --logdir=\"your log path\"\n",
    "\n",
    "# 服务端口默认为6006，使用 --port 参数可修改启动服务的端口\n",
    "```"
   ]
  }
 ],
 "metadata": {
  "kernelspec": {
   "display_name": "Python 3",
   "language": "python",
   "name": "python3"
  },
  "language_info": {
   "codemirror_mode": {
    "name": "ipython",
    "version": 2
   },
   "file_extension": ".py",
   "mimetype": "text/x-python",
   "name": "python",
   "nbconvert_exporter": "python",
   "pygments_lexer": "ipython2",
   "version": "2.7.6"
  }
 },
 "nbformat": 4,
 "nbformat_minor": 0
}