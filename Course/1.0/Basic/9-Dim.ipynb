{
 "cells": [
  {
   "cell_type": "code",
   "execution_count": 1,
   "metadata": {
    "collapsed": true
   },
   "outputs": [],
   "source": [
    "import numpy as np\n",
    "import tensorflow as tf"
   ]
  },
  {
   "cell_type": "markdown",
   "source": [
    "## 有关增加维度的示例"
   ],
   "metadata": {
    "collapsed": false
   }
  },
  {
   "cell_type": "code",
   "execution_count": 2,
   "outputs": [
    {
     "name": "stdout",
     "output_type": "stream",
     "text": [
      "t_shape (2, 3)\n"
     ]
    }
   ],
   "source": [
    "t = [[2, 3, 3], [1, 5, 5]]\n",
    "print(\"t_shape\", np.shape(t))\n",
    "\n",
    "# 将输出（2，3）"
   ],
   "metadata": {
    "collapsed": false,
    "pycharm": {
     "name": "#%%\n"
    }
   }
  },
  {
   "cell_type": "code",
   "execution_count": 3,
   "outputs": [
    {
     "name": "stdout",
     "output_type": "stream",
     "text": [
      "t1_shape:  (1, 2, 3)\n"
     ]
    }
   ],
   "source": [
    "t1 = tf.expand_dims(t, 0)\n",
    "print(\"t1_shape: \", np.shape(t1))"
   ],
   "metadata": {
    "collapsed": false,
    "pycharm": {
     "name": "#%%\n"
    }
   }
  },
  {
   "cell_type": "code",
   "execution_count": 4,
   "outputs": [
    {
     "name": "stdout",
     "output_type": "stream",
     "text": [
      "t1_shape:  (2, 1, 3)\n"
     ]
    }
   ],
   "source": [
    "t2 = tf.expand_dims(t, 1)\n",
    "print(\"t1_shape: \", np.shape(t2))"
   ],
   "metadata": {
    "collapsed": false,
    "pycharm": {
     "name": "#%%\n"
    }
   }
  },
  {
   "cell_type": "code",
   "execution_count": 5,
   "outputs": [
    {
     "name": "stdout",
     "output_type": "stream",
     "text": [
      "t1_shape:  (2, 3, 1)\n"
     ]
    }
   ],
   "source": [
    "t3 = tf.expand_dims(t, 2)\n",
    "print(\"t1_shape: \", np.shape(t3))"
   ],
   "metadata": {
    "collapsed": false,
    "pycharm": {
     "name": "#%%\n"
    }
   }
  },
  {
   "cell_type": "code",
   "execution_count": 6,
   "outputs": [
    {
     "name": "stdout",
     "output_type": "stream",
     "text": [
      "t1_shape:  (2, 3, 1)\n"
     ]
    }
   ],
   "source": [
    "t4 = tf.expand_dims(t, -1)\n",
    "print(\"t1_shape: \", np.shape(t4))"
   ],
   "metadata": {
    "collapsed": false,
    "pycharm": {
     "name": "#%%\n"
    }
   }
  }
 ],
 "metadata": {
  "kernelspec": {
   "display_name": "Python 3",
   "language": "python",
   "name": "python3"
  },
  "language_info": {
   "codemirror_mode": {
    "name": "ipython",
    "version": 2
   },
   "file_extension": ".py",
   "mimetype": "text/x-python",
   "name": "python",
   "nbconvert_exporter": "python",
   "pygments_lexer": "ipython2",
   "version": "2.7.6"
  }
 },
 "nbformat": 4,
 "nbformat_minor": 0
}