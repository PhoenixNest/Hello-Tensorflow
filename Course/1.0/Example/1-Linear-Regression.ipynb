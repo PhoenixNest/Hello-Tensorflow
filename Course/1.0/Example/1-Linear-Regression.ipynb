{
 "cells": [
  {
   "cell_type": "markdown",
   "metadata": {
    "collapsed": false,
    "pycharm": {
     "name": "#%% md\n"
    }
   },
   "source": [
    "# 单变量线性回归\n",
    "\n",
    "假设要学习的函数为线性函数：y = 2x + 1"
   ]
  },
  {
   "cell_type": "code",
   "execution_count": 105,
   "metadata": {
    "collapsed": false,
    "pycharm": {
     "name": "#%%\n"
    }
   },
   "outputs": [],
   "source": [
    "# 在 Jupyter 中，使用 matplotlib 显示图像需要设置为 inline 模式，否则不会显示图像\n",
    "# %matplotlib inline\n",
    "\n",
    "import matplotlib.pyplot as plt\n",
    "import numpy as np\n",
    "\n",
    "# 用于显示函数图像的库\n",
    "import tensorflow as tf\n",
    "\n",
    "tf.compat.v1.disable_eager_execution()"
   ]
  },
  {
   "cell_type": "code",
   "execution_count": 106,
   "metadata": {
    "collapsed": false,
    "pycharm": {
     "name": "#%%\n"
    }
   },
   "outputs": [],
   "source": [
    "np.random.seed(5)"
   ]
  },
  {
   "cell_type": "markdown",
   "metadata": {
    "collapsed": false,
    "pycharm": {
     "name": "#%% md\n"
    }
   },
   "source": [
    "## 生成输入数据\n",
    "\n",
    "构造满足这个函数的 x和y 同时加入一些不满足方程的噪声。"
   ]
  },
  {
   "cell_type": "code",
   "execution_count": 107,
   "metadata": {
    "collapsed": false,
    "pycharm": {
     "name": "#%%\n"
    }
   },
   "outputs": [],
   "source": [
    "# 通过使用 numpy 生成等差数列的方法生成100个点，每个点取值在（-1，+1）之间。\n",
    "x_data = np.linspace(-1, 1, 100)\n",
    "\n",
    "# y = 2x + 1 + 噪声\n",
    "# 其中，噪声的维度与 x_data 一致\n",
    "y_data = 2 * x_data + 1.0 + np.random.randn(*x_data.shape) * 0.4"
   ]
  },
  {
   "cell_type": "code",
   "execution_count": 108,
   "metadata": {
    "collapsed": false,
    "pycharm": {
     "name": "#%%\n"
    }
   },
   "outputs": [
    {
     "data": {
      "text/plain": "array([ 0.79242262,  0.17076445, -1.75374086,  0.63029648,  0.49832921,\n        1.01813761, -0.84646862,  2.52080763, -1.23238611,  0.72695326])"
     },
     "execution_count": 108,
     "metadata": {},
     "output_type": "execute_result"
    }
   ],
   "source": [
    "# np.random.randn(d0, d1, ... , dn)是从标准正态分布中返回一个或多个样本值\n",
    "# 标准正态分布又称为u分布，是以0为均值，1为标准差的正态分布，记为：N（0，1）\n",
    "np.random.randn(10)"
   ]
  },
  {
   "cell_type": "code",
   "execution_count": 109,
   "metadata": {
    "collapsed": false,
    "pycharm": {
     "name": "#%%\n"
    }
   },
   "outputs": [
    {
     "data": {
      "text/plain": "(100,)"
     },
     "execution_count": 109,
     "metadata": {},
     "output_type": "execute_result"
    }
   ],
   "source": [
    "# x_data.shape 为一个元组，表示 x_data 为一个一维数组，且该数组中有100个元素\n",
    "x_data.shape"
   ]
  },
  {
   "cell_type": "code",
   "execution_count": 110,
   "metadata": {
    "collapsed": false,
    "pycharm": {
     "name": "#%%\n"
    }
   },
   "outputs": [
    {
     "data": {
      "text/plain": "array([ 0.04595522, -0.48713265,  0.81613236, -0.28143012, -2.33562182,\n       -1.16727845,  0.45765807,  2.23796561, -1.4812592 , -0.01694532,\n        1.45073354,  0.60687032, -0.37562084, -1.42192455, -1.7811513 ,\n       -0.74790579, -0.36840953, -2.24911813, -1.69367504,  0.30364847,\n       -0.40899234, -0.75483059, -0.40751917, -0.81262476,  0.92751621,\n        1.63995407,  2.07361553,  0.70979786,  0.74715259,  1.46309548,\n        1.73844881,  1.46520488,  1.21228341, -0.6346525 , -1.5996985 ,\n        0.87715281, -0.09383245, -0.05567103, -0.88942073, -1.30095145,\n        1.40216662,  0.46510099, -1.06503262,  0.39042061,  0.30560017,\n        0.52184949,  2.23327081, -0.0347021 , -1.27962318,  0.03654264,\n       -0.64635659,  0.54856784,  0.21054246,  0.34650175, -0.56705117,\n        0.41367881, -0.51025606,  0.51725935, -0.30100513, -1.11840643,\n        0.49852362, -0.70609387,  1.4438811 ,  0.44295626,  0.46770521,\n        0.10134479, -0.05935198, -2.38669774,  1.22217056, -0.81391201,\n        0.95626186, -0.63851056, -0.14312642, -0.22418983, -1.03849524,\n       -0.17170905,  0.47634618, -0.41417827, -1.26408334, -0.57321556,\n        0.24981732,  1.14720208,  0.83594396,  0.28740365, -0.9955963 ,\n        0.90688947,  0.02421074, -0.23998173,  0.91011056,  0.61784475,\n        0.49961804, -1.15154425, -0.6105164 , -1.70388541,  0.19443738,\n        0.02824125,  0.93256051,  0.21204332, -0.36794457,  2.1114884 ])"
     },
     "execution_count": 110,
     "metadata": {},
     "output_type": "execute_result"
    }
   ],
   "source": [
    "# 实参的前面加上 * 和 ** 时，就意味着拆包，单个 * 表示将元组拆成一个个单独的实参\n",
    "np.random.randn(*x_data.shape)"
   ]
  },
  {
   "cell_type": "code",
   "execution_count": 111,
   "metadata": {
    "collapsed": false,
    "pycharm": {
     "name": "#%%\n"
    }
   },
   "outputs": [
    {
     "data": {
      "text/plain": "array([-1.02957349, -1.33628031, -0.61056736,  0.52469426, -0.34930813,\n       -0.44073846, -1.1212876 ,  1.47284473, -0.62337224, -1.08070195,\n       -0.12253009, -0.8077431 , -0.23255622,  1.33515034, -0.44645673,\n       -0.04978868, -0.36854478, -0.19173957,  0.81967992,  0.53163372,\n       -0.34161504, -0.93090048, -0.13421699,  0.83259361, -0.01735327,\n       -0.12765822, -1.80791662,  0.99396898, -1.49112886, -1.28210748,\n       -0.37570741,  0.03464388,  0.04507816, -0.76374689, -0.31313851,\n       -0.60698954, -1.80955123, -0.25551774, -0.69379935,  0.41919776,\n       -0.14520019,  0.9638013 ,  0.69622199,  0.89940546,  1.20837807,\n        0.6932537 , -0.16636061,  1.35311311, -0.92862651, -0.03547249,\n        0.85964595, -0.28749661,  0.71494995, -0.8034526 , -0.54048196,\n        0.54617743,  0.71188926,  1.19715449, -0.07006703,  0.29822712,\n        0.62619261,  0.46743206, -1.30262143, -0.57008965,  1.44295001,\n       -1.24399513,  0.62888033, -0.42559213,  1.00320956, -0.77817761,\n        0.04894463, -2.02640189, -0.04193635,  1.07454278, -1.5008594 ,\n        1.18574443, -0.71508124, -0.05123853, -2.77458336,  1.07862813,\n       -0.87568592, -0.53810932, -1.2782157 , -0.99276945,  1.14342789,\n       -0.5090726 ,  0.89500094, -0.17620337,  0.34608347, -0.50631013,\n        0.42716402,  2.58856959,  0.65289301,  0.50583979, -0.47595083,\n        1.01090874,  1.35920097, -1.70208997, -1.38033223,  2.10177668])"
     },
     "execution_count": 111,
     "metadata": {},
     "output_type": "execute_result"
    }
   ],
   "source": [
    "# 本例中，np.random.randn(*x_data.shape) 与 np.random.randn(100) 功能相同\n",
    "np.random.randn(100)"
   ]
  },
  {
   "cell_type": "markdown",
   "metadata": {
    "collapsed": false,
    "pycharm": {
     "name": "#%% md\n"
    }
   },
   "source": [
    "## 利用 matplotlib 画出生成结果"
   ]
  },
  {
   "cell_type": "code",
   "execution_count": 112,
   "metadata": {
    "collapsed": false,
    "pycharm": {
     "name": "#%%\n"
    }
   },
   "outputs": [
    {
     "data": {
      "text/plain": "[<matplotlib.lines.Line2D at 0x2334bc603a0>]"
     },
     "execution_count": 112,
     "metadata": {},
     "output_type": "execute_result"
    },
    {
     "data": {
      "text/plain": "<Figure size 432x288 with 1 Axes>",
      "image/png": "[encoded data removed]"
     },
     "metadata": {
      "needs_background": "light"
     },
     "output_type": "display_data"
    }
   ],
   "source": [
    "# 绘图\n",
    "\n",
    "# 画出随机散点图\n",
    "plt.scatter(x_data, y_data)\n",
    "\n",
    "# 画出本例中要求的 y = 2x + 1 的图像\n",
    "plt.plot(x_data, 2 * x_data + 1.0, color=\"red\", linewidth=3)\n",
    "\n",
    "# help(plt.plot())"
   ]
  },
  {
   "cell_type": "markdown",
   "metadata": {
    "collapsed": false,
    "pycharm": {
     "name": "#%% md\n"
    }
   },
   "source": [
    "## 构建模型\n",
    "\n",
    "定义 x和y 的占位符"
   ]
  },
  {
   "cell_type": "code",
   "execution_count": 113,
   "metadata": {
    "collapsed": false,
    "pycharm": {
     "name": "#%%\n"
    }
   },
   "outputs": [],
   "source": [
    "# 定义训练数据的占位符，x为特征值，y为标签值\n",
    "x = tf.compat.v1.placeholder(\"float\", name=\"x\")\n",
    "y = tf.compat.v1.placeholder(\"float\", name=\"y\")"
   ]
  },
  {
   "cell_type": "markdown",
   "metadata": {
    "collapsed": false
   },
   "source": [
    "构建回归模型"
   ]
  },
  {
   "cell_type": "code",
   "execution_count": 114,
   "metadata": {
    "collapsed": false,
    "pycharm": {
     "name": "#%%\n"
    }
   },
   "outputs": [],
   "source": [
    "def model(x, w, b):\n",
    "    return tf.multiply(x, w) + b"
   ]
  },
  {
   "cell_type": "markdown",
   "metadata": {
    "collapsed": false
   },
   "source": [
    "创建变量\n",
    "\n",
    "+ TensorFlow变量的声明函数是：tf.Variable\n",
    "+ tf.Variable 的作用是保存和更新参数\n",
    "+ 变量的初始值可以是随机数、常数或是通过其他变量的初始值计算得到的"
   ]
  },
  {
   "cell_type": "code",
   "execution_count": 115,
   "metadata": {
    "collapsed": false,
    "pycharm": {
     "name": "#%%\n"
    }
   },
   "outputs": [],
   "source": [
    "# 目标函数：y = 2x + 1\n",
    "# 模型函数：y = (w)x + (b)\n",
    "\n",
    "# 构建线性函数的斜率，变量w\n",
    "w = tf.Variable(1.0, name=\"w0\")\n",
    "\n",
    "# 构建线性函数的截距，变量b\n",
    "b = tf.Variable(0.0, name=\"b0\")"
   ]
  },
  {
   "cell_type": "code",
   "execution_count": 116,
   "metadata": {
    "collapsed": false,
    "pycharm": {
     "name": "#%%\n"
    }
   },
   "outputs": [],
   "source": [
    "# pred 为预测值，前向计算\n",
    "pred = model(x, w, b)"
   ]
  },
  {
   "cell_type": "markdown",
   "metadata": {
    "collapsed": false,
    "pycharm": {
     "name": "#%% md\n"
    }
   },
   "source": [
    "## 训练模型\n",
    "\n",
    "设置训练参数"
   ]
  },
  {
   "cell_type": "code",
   "execution_count": 117,
   "metadata": {
    "collapsed": false,
    "pycharm": {
     "name": "#%%\n"
    }
   },
   "outputs": [],
   "source": [
    "# 迭代次数（训练轮数）\n",
    "train_epochs = 10\n",
    "\n",
    "# 控制显示 loss 的粒度\n",
    "display_step = 10\n",
    "\n",
    "# 学习率\n",
    "learning_rate = 0.05"
   ]
  },
  {
   "cell_type": "markdown",
   "source": [
    "关于学习率的设置：\n",
    "\n",
    "+ 学习率的作用：控制参数更新的幅度\n",
    "+ 如果学习率设置过大，可能导致参数在极值附近来回摇摆，无法保证收敛\n",
    "+ 如果学习率设置过小，虽然能保证收敛，但优化速度会大大降低，我们需要更多迭代次数才能达到理想的优化结果"
   ],
   "metadata": {
    "collapsed": false,
    "pycharm": {
     "name": "#%% md\n"
    }
   }
  },
  {
   "cell_type": "markdown",
   "metadata": {
    "collapsed": false,
    "pycharm": {
     "name": "#%% md\n"
    }
   },
   "source": [
    "定义损失函数\n",
    "\n",
    "+ 损失函数用于描述预测值与真实值之间的误差，从而指导模型收敛方向\n",
    "+ 常见损失函数：均方差（Mean Square Error，MSE）和 交叉熵（cross-entropy）"
   ]
  },
  {
   "cell_type": "code",
   "execution_count": 118,
   "metadata": {
    "collapsed": false,
    "pycharm": {
     "name": "#%%\n"
    }
   },
   "outputs": [],
   "source": [
    "# L2损失函数\n",
    "# 采用均方差作为损失函数\n",
    "loss_function = tf.reduce_mean(tf.square(y - pred))"
   ]
  },
  {
   "cell_type": "markdown",
   "metadata": {
    "collapsed": false,
    "pycharm": {
     "name": "#%% md\n"
    }
   },
   "source": [
    "定义优化器\n",
    "\n",
    "定于优化器 Optimizer，初始化一个 GradientDescentOptimizer\n",
    "\n",
    "设置学习率和优化目标：最小化损失"
   ]
  },
  {
   "cell_type": "code",
   "execution_count": 119,
   "metadata": {
    "collapsed": false,
    "pycharm": {
     "name": "#%%\n"
    }
   },
   "outputs": [],
   "source": [
    "# 梯度下降优化器\n",
    "optimizer = tf.compat.v1.train.GradientDescentOptimizer(learning_rate).minimize(loss_function)"
   ]
  },
  {
   "cell_type": "markdown",
   "metadata": {
    "collapsed": false,
    "pycharm": {
     "name": "#%% md\n"
    }
   },
   "source": [
    "## 迭代训练"
   ]
  },
  {
   "cell_type": "code",
   "execution_count": 120,
   "metadata": {
    "collapsed": false,
    "pycharm": {
     "name": "#%%\n"
    }
   },
   "outputs": [],
   "source": [
    "# 准备会话窗口与初始化变量\n",
    "session = tf.compat.v1.Session()\n",
    "\n",
    "init = tf.compat.v1.global_variables_initializer()\n",
    "\n",
    "session.run(init)"
   ]
  },
  {
   "cell_type": "markdown",
   "metadata": {
    "collapsed": false,
    "pycharm": {
     "name": "#%% md\n"
    }
   },
   "source": [
    "模型训练阶段，设置迭代轮数，每次通过将样本逐个输入模型，进行梯度下降优化操作\n",
    "\n",
    "每轮迭代后，绘制出模型曲线"
   ]
  },
  {
   "cell_type": "code",
   "execution_count": 121,
   "outputs": [],
   "source": [
    "# 开始训练，轮数为：epoch，采用SGD随机梯度下降优化方法\n",
    "# for epoch in range(train_epochs):\n",
    "#     for xs, ys in zip(x_data, y_data):\n",
    "#         loss = session.run([optimizer, loss_function], feed_dict={x: xs, y: ys})\n",
    "#\n",
    "#     b0temp = b.eval(session=session)\n",
    "#     w0temp = w.eval(session=session)\n",
    "#\n",
    "#     # 绘图\n",
    "#     plt.plot(x_data, w0temp * x_data + b0temp)"
   ],
   "metadata": {
    "collapsed": false,
    "pycharm": {
     "name": "#%%\n"
    }
   }
  },
  {
   "cell_type": "markdown",
   "source": [
    "## 修改训练函数，在训练中显示损失值"
   ],
   "metadata": {
    "collapsed": false
   }
  },
  {
   "cell_type": "code",
   "execution_count": 122,
   "outputs": [
    {
     "name": "stdout",
     "output_type": "stream",
     "text": [
      "Train Epoch:  01 Step: 010 loss=  0.007022\n",
      "Train Epoch:  01 Step: 020 loss=  0.186608\n",
      "Train Epoch:  01 Step: 030 loss=  0.024833\n",
      "Train Epoch:  01 Step: 040 loss=  0.620800\n",
      "Train Epoch:  01 Step: 050 loss=  0.006301\n",
      "Train Epoch:  01 Step: 060 loss=  0.023637\n",
      "Train Epoch:  01 Step: 070 loss=  0.354420\n",
      "Train Epoch:  01 Step: 080 loss=  0.027937\n",
      "Train Epoch:  01 Step: 090 loss=  0.029015\n",
      "Train Epoch:  01 Step: 100 loss=  0.106557\n",
      "Train Epoch:  02 Step: 110 loss=  0.179423\n",
      "Train Epoch:  02 Step: 120 loss=  0.067458\n",
      "Train Epoch:  02 Step: 130 loss=  0.000282\n",
      "Train Epoch:  02 Step: 140 loss=  0.344066\n",
      "Train Epoch:  02 Step: 150 loss=  0.021391\n",
      "Train Epoch:  02 Step: 160 loss=  0.006406\n",
      "Train Epoch:  02 Step: 170 loss=  0.142011\n",
      "Train Epoch:  02 Step: 180 loss=  0.000234\n",
      "Train Epoch:  02 Step: 190 loss=  0.094913\n",
      "Train Epoch:  02 Step: 200 loss=  0.052371\n",
      "Train Epoch:  03 Step: 210 loss=  0.044098\n",
      "Train Epoch:  03 Step: 220 loss=  0.082669\n",
      "Train Epoch:  03 Step: 230 loss=  0.000455\n",
      "Train Epoch:  03 Step: 240 loss=  0.327929\n",
      "Train Epoch:  03 Step: 250 loss=  0.026971\n",
      "Train Epoch:  03 Step: 260 loss=  0.009876\n",
      "Train Epoch:  03 Step: 270 loss=  0.128553\n",
      "Train Epoch:  03 Step: 280 loss=  0.000939\n",
      "Train Epoch:  03 Step: 290 loss=  0.102203\n",
      "Train Epoch:  03 Step: 300 loss=  0.048671\n",
      "Train Epoch:  04 Step: 310 loss=  0.036855\n",
      "Train Epoch:  04 Step: 320 loss=  0.084023\n",
      "Train Epoch:  04 Step: 330 loss=  0.000471\n",
      "Train Epoch:  04 Step: 340 loss=  0.326585\n",
      "Train Epoch:  04 Step: 350 loss=  0.027472\n",
      "Train Epoch:  04 Step: 360 loss=  0.010203\n",
      "Train Epoch:  04 Step: 370 loss=  0.127449\n",
      "Train Epoch:  04 Step: 380 loss=  0.001020\n",
      "Train Epoch:  04 Step: 390 loss=  0.102830\n",
      "Train Epoch:  04 Step: 400 loss=  0.048365\n",
      "Train Epoch:  05 Step: 410 loss=  0.036273\n",
      "Train Epoch:  05 Step: 420 loss=  0.084138\n",
      "Train Epoch:  05 Step: 430 loss=  0.000473\n",
      "Train Epoch:  05 Step: 440 loss=  0.326472\n",
      "Train Epoch:  05 Step: 450 loss=  0.027514\n",
      "Train Epoch:  05 Step: 460 loss=  0.010231\n",
      "Train Epoch:  05 Step: 470 loss=  0.127356\n",
      "Train Epoch:  05 Step: 480 loss=  0.001027\n",
      "Train Epoch:  05 Step: 490 loss=  0.102883\n",
      "Train Epoch:  05 Step: 500 loss=  0.048340\n",
      "Train Epoch:  06 Step: 510 loss=  0.036224\n",
      "Train Epoch:  06 Step: 520 loss=  0.084148\n",
      "Train Epoch:  06 Step: 530 loss=  0.000473\n",
      "Train Epoch:  06 Step: 540 loss=  0.326463\n",
      "Train Epoch:  06 Step: 550 loss=  0.027518\n",
      "Train Epoch:  06 Step: 560 loss=  0.010233\n",
      "Train Epoch:  06 Step: 570 loss=  0.127348\n",
      "Train Epoch:  06 Step: 580 loss=  0.001027\n",
      "Train Epoch:  06 Step: 590 loss=  0.102887\n",
      "Train Epoch:  06 Step: 600 loss=  0.048337\n",
      "Train Epoch:  07 Step: 610 loss=  0.036220\n",
      "Train Epoch:  07 Step: 620 loss=  0.084149\n",
      "Train Epoch:  07 Step: 630 loss=  0.000473\n",
      "Train Epoch:  07 Step: 640 loss=  0.326462\n",
      "Train Epoch:  07 Step: 650 loss=  0.027518\n",
      "Train Epoch:  07 Step: 660 loss=  0.010233\n",
      "Train Epoch:  07 Step: 670 loss=  0.127347\n",
      "Train Epoch:  07 Step: 680 loss=  0.001027\n",
      "Train Epoch:  07 Step: 690 loss=  0.102888\n",
      "Train Epoch:  07 Step: 700 loss=  0.048337\n",
      "Train Epoch:  08 Step: 710 loss=  0.036220\n",
      "Train Epoch:  08 Step: 720 loss=  0.084149\n",
      "Train Epoch:  08 Step: 730 loss=  0.000473\n",
      "Train Epoch:  08 Step: 740 loss=  0.326462\n",
      "Train Epoch:  08 Step: 750 loss=  0.027518\n",
      "Train Epoch:  08 Step: 760 loss=  0.010233\n",
      "Train Epoch:  08 Step: 770 loss=  0.127347\n",
      "Train Epoch:  08 Step: 780 loss=  0.001027\n",
      "Train Epoch:  08 Step: 790 loss=  0.102888\n",
      "Train Epoch:  08 Step: 800 loss=  0.048337\n",
      "Train Epoch:  09 Step: 810 loss=  0.036220\n",
      "Train Epoch:  09 Step: 820 loss=  0.084149\n",
      "Train Epoch:  09 Step: 830 loss=  0.000473\n",
      "Train Epoch:  09 Step: 840 loss=  0.326462\n",
      "Train Epoch:  09 Step: 850 loss=  0.027518\n",
      "Train Epoch:  09 Step: 860 loss=  0.010233\n",
      "Train Epoch:  09 Step: 870 loss=  0.127347\n",
      "Train Epoch:  09 Step: 880 loss=  0.001027\n",
      "Train Epoch:  09 Step: 890 loss=  0.102888\n",
      "Train Epoch:  09 Step: 900 loss=  0.048337\n",
      "Train Epoch:  10 Step: 910 loss=  0.036220\n",
      "Train Epoch:  10 Step: 920 loss=  0.084149\n",
      "Train Epoch:  10 Step: 930 loss=  0.000473\n",
      "Train Epoch:  10 Step: 940 loss=  0.326462\n",
      "Train Epoch:  10 Step: 950 loss=  0.027518\n",
      "Train Epoch:  10 Step: 960 loss=  0.010233\n",
      "Train Epoch:  10 Step: 970 loss=  0.127347\n",
      "Train Epoch:  10 Step: 980 loss=  0.001027\n",
      "Train Epoch:  10 Step: 990 loss=  0.102888\n",
      "Train Epoch:  10 Step: 1000 loss=  0.048337\n"
     ]
    },
    {
     "data": {
      "text/plain": "<Figure size 432x288 with 1 Axes>",
      "image/png": "[encoded data removed]"
     },
     "metadata": {
      "needs_background": "light"
     },
     "output_type": "display_data"
    }
   ],
   "source": [
    "# 记录训练步数\n",
    "step = 0\n",
    "\n",
    "# 用于保存loss值的列表\n",
    "loss_list = []\n",
    "\n",
    "# 对训练函数进行修改，使其显示损失值\n",
    "for epoch in range(train_epochs):\n",
    "    for xs, ys in zip(x_data, y_data):\n",
    "        _, loss = session.run([optimizer, loss_function], feed_dict={x: xs, y: ys})\n",
    "\n",
    "        # 显示损失值 loss\n",
    "        # display_step: 控制报告的粒度\n",
    "        # 例如：如果 display_step设为2，则将没训练2个样本输出一次损失值\n",
    "        # 与超参数不同，修改display_step不会更改模型学习的规律\n",
    "        loss_list.append(loss)\n",
    "        step += 1\n",
    "\n",
    "        if step % display_step == 0:\n",
    "            print(\"Train Epoch: \", '%02d' % (epoch + 1), \"Step: %03d\" % (step), \"loss=\", \"{:9f}\".format(loss))\n",
    "\n",
    "    b0temp = b.eval(session=session)\n",
    "    w0temp = w.eval(session=session)\n",
    "\n",
    "    plt.plot(x_data, w0temp * x_data + b0temp)"
   ],
   "metadata": {
    "collapsed": false,
    "pycharm": {
     "name": "#%%\n"
    }
   }
  },
  {
   "cell_type": "code",
   "execution_count": 123,
   "outputs": [
    {
     "data": {
      "text/plain": "[<matplotlib.lines.Line2D at 0x2334bd6fd30>]"
     },
     "execution_count": 123,
     "metadata": {},
     "output_type": "execute_result"
    },
    {
     "data": {
      "text/plain": "<Figure size 432x288 with 1 Axes>",
      "image/png": "[encoded data removed]"
     },
     "metadata": {
      "needs_background": "light"
     },
     "output_type": "display_data"
    }
   ],
   "source": [
    "plt.plot(loss_list)"
   ],
   "metadata": {
    "collapsed": false,
    "pycharm": {
     "name": "#%%\n"
    }
   }
  },
  {
   "cell_type": "code",
   "execution_count": 124,
   "outputs": [
    {
     "data": {
      "text/plain": "[<matplotlib.lines.Line2D at 0x2334bdd35b0>]"
     },
     "execution_count": 124,
     "metadata": {},
     "output_type": "execute_result"
    },
    {
     "data": {
      "text/plain": "<Figure size 432x288 with 1 Axes>",
      "image/png": "[encoded data removed]"
     },
     "metadata": {
      "needs_background": "light"
     },
     "output_type": "display_data"
    }
   ],
   "source": [
    "plt.plot(loss_list, \"r+\")"
   ],
   "metadata": {
    "collapsed": false,
    "pycharm": {
     "name": "#%%\n"
    }
   }
  },
  {
   "cell_type": "code",
   "execution_count": 125,
   "outputs": [
    {
     "data": {
      "text/plain": "[1.0133754,\n 1.2284044,\n 1.0088208,\n 1.2116321,\n 2.3539772,\n 2.3148305,\n 1.3175836,\n 1.0387748,\n 1.5018207,\n 1.547514,\n 1.5514,\n 1.5517284,\n 1.5517554,\n 1.551758,\n 1.551758,\n 1.551758,\n 1.551758]"
     },
     "execution_count": 125,
     "metadata": {},
     "output_type": "execute_result"
    }
   ],
   "source": [
    "[x for x in loss_list if x > 1]"
   ],
   "metadata": {
    "collapsed": false,
    "pycharm": {
     "name": "#%%\n"
    }
   }
  },
  {
   "cell_type": "markdown",
   "metadata": {
    "collapsed": false,
    "pycharm": {
     "name": "#%% md\n"
    }
   },
   "source": [
    "从上图看出，本例拟合模型较为简单，训练3次后已接近收敛\n",
    "\n",
    "对于复杂模型，需要更多次训练才能收敛"
   ]
  },
  {
   "cell_type": "markdown",
   "metadata": {
    "collapsed": false,
    "pycharm": {
     "name": "#%% md\n"
    }
   },
   "source": [
    "## 查看结果"
   ]
  },
  {
   "cell_type": "code",
   "execution_count": 126,
   "metadata": {
    "collapsed": false,
    "pycharm": {
     "name": "#%%\n"
    }
   },
   "outputs": [
    {
     "name": "stdout",
     "output_type": "stream",
     "text": [
      "w:  1.9822965\n",
      "b:  1.0420128\n"
     ]
    }
   ],
   "source": [
    "# w的值应该在2附近\n",
    "print(\"w: \", session.run(w))\n",
    "\n",
    "# b的值应该在1附近\n",
    "print(\"b: \", session.run(b))\n",
    "\n",
    "# 数据每次运行结果会有所不同"
   ]
  },
  {
   "cell_type": "markdown",
   "metadata": {
    "collapsed": false,
    "pycharm": {
     "name": "#%% md\n"
    }
   },
   "source": [
    "## 结果可视化"
   ]
  },
  {
   "cell_type": "code",
   "execution_count": 127,
   "metadata": {
    "collapsed": false,
    "pycharm": {
     "name": "#%%\n"
    }
   },
   "outputs": [
    {
     "data": {
      "text/plain": "<matplotlib.legend.Legend at 0x2334be2fdc0>"
     },
     "execution_count": 127,
     "metadata": {},
     "output_type": "execute_result"
    },
    {
     "data": {
      "text/plain": "<Figure size 432x288 with 1 Axes>",
      "image/png": "[encoded data removed]"
     },
     "metadata": {
      "needs_background": "light"
     },
     "output_type": "display_data"
    }
   ],
   "source": [
    "plt.scatter(x_data, y_data, label=\"Original Data\")\n",
    "\n",
    "plt.plot(x_data, x_data * session.run(w) + session.run(b), label=\"Fitted Line\", color=\"red\", linewidth=3)\n",
    "\n",
    "# 通过 loc 指定图例位置\n",
    "plt.legend(loc=2)"
   ]
  },
  {
   "cell_type": "markdown",
   "metadata": {
    "collapsed": false,
    "pycharm": {
     "name": "#%% md\n"
    }
   },
   "source": [
    "## 通过模型进行预测"
   ]
  },
  {
   "cell_type": "code",
   "execution_count": 128,
   "metadata": {
    "collapsed": false,
    "pycharm": {
     "name": "#%%\n"
    }
   },
   "outputs": [
    {
     "name": "stdout",
     "output_type": "stream",
     "text": [
      "预测值:  7.4051843\n",
      "目标值:  7.42\n"
     ]
    }
   ],
   "source": [
    "x_test = 3.21\n",
    "\n",
    "predict = session.run(pred, feed_dict={x: x_test})\n",
    "print(\"预测值: \", predict)\n",
    "\n",
    "target = 2 * x_test + 1.0\n",
    "print(\"目标值: \", target)"
   ]
  }
 ],
 "metadata": {
  "kernelspec": {
   "display_name": "Python 3",
   "language": "python",
   "name": "python3"
  },
  "language_info": {
   "codemirror_mode": {
    "name": "ipython",
    "version": 3
   },
   "file_extension": ".py",
   "mimetype": "text/x-python",
   "name": "python",
   "nbconvert_exporter": "python",
   "pygments_lexer": "ipython3",
   "version": "3.9.9"
  }
 },
 "nbformat": 4,
 "nbformat_minor": 0
}