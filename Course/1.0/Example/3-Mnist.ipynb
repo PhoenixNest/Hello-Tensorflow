{
 "cells": [
  {
   "cell_type": "markdown",
   "metadata": {
    "collapsed": true,
    "pycharm": {
     "name": "#%% md\n"
    }
   },
   "source": [
    "# Minst 手写数字识别"
   ]
  },
  {
   "cell_type": "code",
   "execution_count": 196,
   "metadata": {
    "collapsed": false,
    "pycharm": {
     "name": "#%%\n"
    }
   },
   "outputs": [],
   "source": [
    "import matplotlib.pyplot as plt\n",
    "import numpy as np\n",
    "import tensorflow as tf\n",
    "import tensorflow.examples.tutorials.mnist.input_data as input_data"
   ]
  },
  {
   "cell_type": "code",
   "execution_count": 197,
   "metadata": {
    "collapsed": false,
    "pycharm": {
     "name": "#%%\n"
    }
   },
   "outputs": [
    {
     "name": "stdout",
     "output_type": "stream",
     "text": [
      "Extracting Data/MNIST_data/train-images-idx3-ubyte.gz\n",
      "Extracting Data/MNIST_data/train-labels-idx1-ubyte.gz\n",
      "Extracting Data/MNIST_data/t10k-images-idx3-ubyte.gz\n",
      "Extracting Data/MNIST_data/t10k-labels-idx1-ubyte.gz\n"
     ]
    }
   ],
   "source": [
    "# 获取 Mints手写数字数据集\n",
    "mnist = input_data.read_data_sets(\"Data/MNIST_data/\", one_hot=True)"
   ]
  },
  {
   "cell_type": "code",
   "execution_count": 198,
   "metadata": {
    "collapsed": false,
    "pycharm": {
     "name": "#%%\n"
    }
   },
   "outputs": [
    {
     "name": "stdout",
     "output_type": "stream",
     "text": [
      "训练集 train 数量： 55000\n",
      "训练集 validation 数量： 5000\n",
      "训练集 test 数量： 10000\n"
     ]
    }
   ],
   "source": [
    "# 训练集 train 数量：55000，验证集 validation 数量：5000，测试集 test 数量：10000\n",
    "print(\"训练集 train 数量：\", mnist.train.num_examples)\n",
    "print(\"训练集 validation 数量：\", mnist.validation.num_examples)\n",
    "print(\"训练集 test 数量：\", mnist.test.num_examples)"
   ]
  },
  {
   "cell_type": "code",
   "execution_count": 199,
   "metadata": {
    "collapsed": false,
    "pycharm": {
     "name": "#%%\n"
    }
   },
   "outputs": [
    {
     "name": "stdout",
     "output_type": "stream",
     "text": [
      "训练集 train shape： (55000, 784)\n",
      "训练集 label shape： (55000, 10)\n"
     ]
    }
   ],
   "source": [
    "# 数据集中的数据实际上是每张为28 * 28 = 784的图片\n",
    "print(\"训练集 train shape：\", mnist.train.images.shape)\n",
    "print(\"训练集 label shape：\", mnist.train.labels.shape)"
   ]
  },
  {
   "cell_type": "code",
   "execution_count": 200,
   "metadata": {
    "collapsed": false,
    "pycharm": {
     "name": "#%%\n"
    }
   },
   "outputs": [
    {
     "name": "stdout",
     "output_type": "stream",
     "text": [
      "image_data:  [0.         0.         0.         0.         0.         0.\n",
      " 0.         0.         0.         0.         0.         0.\n",
      " 0.         0.         0.         0.         0.         0.\n",
      " 0.         0.         0.         0.         0.         0.\n",
      " 0.         0.         0.         0.         0.         0.\n",
      " 0.         0.         0.         0.         0.         0.\n",
      " 0.         0.         0.         0.         0.         0.\n",
      " 0.         0.         0.         0.         0.         0.\n",
      " 0.         0.         0.         0.         0.         0.\n",
      " 0.         0.         0.         0.         0.         0.\n",
      " 0.         0.         0.         0.         0.         0.\n",
      " 0.         0.         0.         0.         0.         0.\n",
      " 0.         0.         0.         0.         0.         0.\n",
      " 0.         0.         0.         0.         0.         0.\n",
      " 0.         0.         0.         0.         0.         0.\n",
      " 0.         0.         0.         0.         0.         0.\n",
      " 0.         0.         0.         0.         0.         0.\n",
      " 0.         0.         0.         0.         0.         0.\n",
      " 0.         0.         0.         0.         0.         0.\n",
      " 0.         0.         0.         0.         0.         0.\n",
      " 0.         0.         0.         0.         0.         0.\n",
      " 0.         0.         0.         0.         0.         0.\n",
      " 0.         0.         0.         0.         0.         0.\n",
      " 0.         0.         0.         0.         0.         0.\n",
      " 0.         0.         0.         0.         0.         0.\n",
      " 0.         0.         0.         0.         0.         0.\n",
      " 0.         0.         0.         0.         0.         0.\n",
      " 0.         0.         0.         0.         0.         0.\n",
      " 0.         0.         0.         0.         0.         0.\n",
      " 0.         0.         0.         0.         0.         0.\n",
      " 0.         0.         0.         0.         0.         0.\n",
      " 0.         0.         0.         0.         0.         0.\n",
      " 0.         0.         0.         0.         0.         0.\n",
      " 0.         0.         0.         0.         0.         0.\n",
      " 0.         0.         0.         0.3803922  0.37647063 0.3019608\n",
      " 0.46274513 0.2392157  0.         0.         0.         0.\n",
      " 0.         0.         0.         0.         0.         0.\n",
      " 0.         0.         0.         0.         0.         0.3529412\n",
      " 0.5411765  0.9215687  0.9215687  0.9215687  0.9215687  0.9215687\n",
      " 0.9215687  0.9843138  0.9843138  0.9725491  0.9960785  0.9607844\n",
      " 0.9215687  0.74509805 0.08235294 0.         0.         0.\n",
      " 0.         0.         0.         0.         0.         0.\n",
      " 0.         0.         0.54901963 0.9843138  0.9960785  0.9960785\n",
      " 0.9960785  0.9960785  0.9960785  0.9960785  0.9960785  0.9960785\n",
      " 0.9960785  0.9960785  0.9960785  0.9960785  0.9960785  0.9960785\n",
      " 0.7411765  0.09019608 0.         0.         0.         0.\n",
      " 0.         0.         0.         0.         0.         0.\n",
      " 0.8862746  0.9960785  0.81568635 0.7803922  0.7803922  0.7803922\n",
      " 0.7803922  0.54509807 0.2392157  0.2392157  0.2392157  0.2392157\n",
      " 0.2392157  0.5019608  0.8705883  0.9960785  0.9960785  0.7411765\n",
      " 0.08235294 0.         0.         0.         0.         0.\n",
      " 0.         0.         0.         0.         0.14901961 0.32156864\n",
      " 0.0509804  0.         0.         0.         0.         0.\n",
      " 0.         0.         0.         0.         0.         0.\n",
      " 0.13333334 0.8352942  0.9960785  0.9960785  0.45098042 0.\n",
      " 0.         0.         0.         0.         0.         0.\n",
      " 0.         0.         0.         0.         0.         0.\n",
      " 0.         0.         0.         0.         0.         0.\n",
      " 0.         0.         0.         0.         0.         0.32941177\n",
      " 0.9960785  0.9960785  0.9176471  0.         0.         0.\n",
      " 0.         0.         0.         0.         0.         0.\n",
      " 0.         0.         0.         0.         0.         0.\n",
      " 0.         0.         0.         0.         0.         0.\n",
      " 0.         0.         0.         0.32941177 0.9960785  0.9960785\n",
      " 0.9176471  0.         0.         0.         0.         0.\n",
      " 0.         0.         0.         0.         0.         0.\n",
      " 0.         0.         0.         0.         0.         0.\n",
      " 0.         0.         0.         0.         0.         0.\n",
      " 0.4156863  0.6156863  0.9960785  0.9960785  0.95294124 0.20000002\n",
      " 0.         0.         0.         0.         0.         0.\n",
      " 0.         0.         0.         0.         0.         0.\n",
      " 0.         0.         0.         0.         0.         0.09803922\n",
      " 0.45882356 0.8941177  0.8941177  0.8941177  0.9921569  0.9960785\n",
      " 0.9960785  0.9960785  0.9960785  0.94117653 0.         0.\n",
      " 0.         0.         0.         0.         0.         0.\n",
      " 0.         0.         0.         0.         0.         0.\n",
      " 0.         0.26666668 0.4666667  0.86274517 0.9960785  0.9960785\n",
      " 0.9960785  0.9960785  0.9960785  0.9960785  0.9960785  0.9960785\n",
      " 0.9960785  0.5568628  0.         0.         0.         0.\n",
      " 0.         0.         0.         0.         0.         0.\n",
      " 0.         0.         0.         0.14509805 0.73333335 0.9921569\n",
      " 0.9960785  0.9960785  0.9960785  0.8745099  0.8078432  0.8078432\n",
      " 0.29411766 0.26666668 0.8431373  0.9960785  0.9960785  0.45882356\n",
      " 0.         0.         0.         0.         0.         0.\n",
      " 0.         0.         0.         0.         0.         0.\n",
      " 0.4431373  0.8588236  0.9960785  0.9490197  0.89019614 0.45098042\n",
      " 0.34901962 0.12156864 0.         0.         0.         0.\n",
      " 0.7843138  0.9960785  0.9450981  0.16078432 0.         0.\n",
      " 0.         0.         0.         0.         0.         0.\n",
      " 0.         0.         0.         0.         0.6627451  0.9960785\n",
      " 0.6901961  0.24313727 0.         0.         0.         0.\n",
      " 0.         0.         0.         0.18823531 0.9058824  0.9960785\n",
      " 0.9176471  0.         0.         0.         0.         0.\n",
      " 0.         0.         0.         0.         0.         0.\n",
      " 0.         0.         0.07058824 0.48627454 0.         0.\n",
      " 0.         0.         0.         0.         0.         0.\n",
      " 0.         0.32941177 0.9960785  0.9960785  0.6509804  0.\n",
      " 0.         0.         0.         0.         0.         0.\n",
      " 0.         0.         0.         0.         0.         0.\n",
      " 0.         0.         0.         0.         0.         0.\n",
      " 0.         0.         0.         0.         0.         0.54509807\n",
      " 0.9960785  0.9333334  0.22352943 0.         0.         0.\n",
      " 0.         0.         0.         0.         0.         0.\n",
      " 0.         0.         0.         0.         0.         0.\n",
      " 0.         0.         0.         0.         0.         0.\n",
      " 0.         0.         0.8235295  0.9803922  0.9960785  0.65882355\n",
      " 0.         0.         0.         0.         0.         0.\n",
      " 0.         0.         0.         0.         0.         0.\n",
      " 0.         0.         0.         0.         0.         0.\n",
      " 0.         0.         0.         0.         0.         0.\n",
      " 0.9490197  0.9960785  0.93725497 0.22352943 0.         0.\n",
      " 0.         0.         0.         0.         0.         0.\n",
      " 0.         0.         0.         0.         0.         0.\n",
      " 0.         0.         0.         0.         0.         0.\n",
      " 0.         0.         0.         0.34901962 0.9843138  0.9450981\n",
      " 0.3372549  0.         0.         0.         0.         0.\n",
      " 0.         0.         0.         0.         0.         0.\n",
      " 0.         0.         0.         0.         0.         0.\n",
      " 0.         0.         0.         0.         0.         0.\n",
      " 0.01960784 0.8078432  0.96470594 0.6156863  0.         0.\n",
      " 0.         0.         0.         0.         0.         0.\n",
      " 0.         0.         0.         0.         0.         0.\n",
      " 0.         0.         0.         0.         0.         0.\n",
      " 0.         0.         0.         0.         0.01568628 0.45882356\n",
      " 0.27058825 0.         0.         0.         0.         0.\n",
      " 0.         0.         0.         0.         0.         0.\n",
      " 0.         0.         0.         0.         0.         0.\n",
      " 0.         0.         0.         0.         0.         0.\n",
      " 0.         0.         0.         0.         0.         0.\n",
      " 0.         0.         0.         0.         0.         0.\n",
      " 0.         0.         0.         0.        ]\n"
     ]
    }
   ],
   "source": [
    "# 查看一副image的数据\n",
    "print(\"image_data: \", mnist.train.images[0])"
   ]
  },
  {
   "cell_type": "code",
   "execution_count": 201,
   "metadata": {
    "collapsed": false,
    "pycharm": {
     "name": "#%%\n"
    }
   },
   "outputs": [
    {
     "name": "stdout",
     "output_type": "stream",
     "text": [
      "784\n"
     ]
    }
   ],
   "source": [
    "print(len(mnist.train.images[0]))"
   ]
  },
  {
   "cell_type": "code",
   "execution_count": 202,
   "metadata": {
    "collapsed": false,
    "pycharm": {
     "name": "#%%\n"
    }
   },
   "outputs": [
    {
     "data": {
      "text/plain": "array([[0.        , 0.        , 0.        , 0.        , 0.        ,\n        0.        , 0.        , 0.        , 0.        , 0.        ,\n        0.        , 0.        , 0.        , 0.        , 0.        ,\n        0.        , 0.        , 0.        , 0.        , 0.        ,\n        0.        , 0.        , 0.        , 0.        , 0.        ,\n        0.        , 0.        , 0.        ],\n       [0.        , 0.        , 0.        , 0.        , 0.        ,\n        0.        , 0.        , 0.        , 0.        , 0.        ,\n        0.        , 0.        , 0.        , 0.        , 0.        ,\n        0.        , 0.        , 0.        , 0.        , 0.        ,\n        0.        , 0.        , 0.        , 0.        , 0.        ,\n        0.        , 0.        , 0.        ],\n       [0.        , 0.        , 0.        , 0.        , 0.        ,\n        0.        , 0.        , 0.        , 0.        , 0.        ,\n        0.        , 0.        , 0.        , 0.        , 0.        ,\n        0.        , 0.        , 0.        , 0.        , 0.        ,\n        0.        , 0.        , 0.        , 0.        , 0.        ,\n        0.        , 0.        , 0.        ],\n       [0.        , 0.        , 0.        , 0.        , 0.        ,\n        0.        , 0.        , 0.        , 0.        , 0.        ,\n        0.        , 0.        , 0.        , 0.        , 0.        ,\n        0.        , 0.        , 0.        , 0.        , 0.        ,\n        0.        , 0.        , 0.        , 0.        , 0.        ,\n        0.        , 0.        , 0.        ],\n       [0.        , 0.        , 0.        , 0.        , 0.        ,\n        0.        , 0.        , 0.        , 0.        , 0.        ,\n        0.        , 0.        , 0.        , 0.        , 0.        ,\n        0.        , 0.        , 0.        , 0.        , 0.        ,\n        0.        , 0.        , 0.        , 0.        , 0.        ,\n        0.        , 0.        , 0.        ],\n       [0.        , 0.        , 0.        , 0.        , 0.        ,\n        0.        , 0.        , 0.        , 0.        , 0.        ,\n        0.        , 0.        , 0.        , 0.        , 0.        ,\n        0.        , 0.        , 0.        , 0.        , 0.        ,\n        0.        , 0.        , 0.        , 0.        , 0.        ,\n        0.        , 0.        , 0.        ],\n       [0.        , 0.        , 0.        , 0.        , 0.        ,\n        0.        , 0.        , 0.        , 0.        , 0.        ,\n        0.        , 0.        , 0.        , 0.        , 0.        ,\n        0.        , 0.        , 0.        , 0.        , 0.        ,\n        0.        , 0.        , 0.        , 0.        , 0.        ,\n        0.        , 0.        , 0.        ],\n       [0.        , 0.        , 0.        , 0.        , 0.        ,\n        0.        , 0.        , 0.        , 0.        , 0.        ,\n        0.        , 0.3803922 , 0.37647063, 0.3019608 , 0.46274513,\n        0.2392157 , 0.        , 0.        , 0.        , 0.        ,\n        0.        , 0.        , 0.        , 0.        , 0.        ,\n        0.        , 0.        , 0.        ],\n       [0.        , 0.        , 0.        , 0.3529412 , 0.5411765 ,\n        0.9215687 , 0.9215687 , 0.9215687 , 0.9215687 , 0.9215687 ,\n        0.9215687 , 0.9843138 , 0.9843138 , 0.9725491 , 0.9960785 ,\n        0.9607844 , 0.9215687 , 0.74509805, 0.08235294, 0.        ,\n        0.        , 0.        , 0.        , 0.        , 0.        ,\n        0.        , 0.        , 0.        ],\n       [0.        , 0.        , 0.54901963, 0.9843138 , 0.9960785 ,\n        0.9960785 , 0.9960785 , 0.9960785 , 0.9960785 , 0.9960785 ,\n        0.9960785 , 0.9960785 , 0.9960785 , 0.9960785 , 0.9960785 ,\n        0.9960785 , 0.9960785 , 0.9960785 , 0.7411765 , 0.09019608,\n        0.        , 0.        , 0.        , 0.        , 0.        ,\n        0.        , 0.        , 0.        ],\n       [0.        , 0.        , 0.8862746 , 0.9960785 , 0.81568635,\n        0.7803922 , 0.7803922 , 0.7803922 , 0.7803922 , 0.54509807,\n        0.2392157 , 0.2392157 , 0.2392157 , 0.2392157 , 0.2392157 ,\n        0.5019608 , 0.8705883 , 0.9960785 , 0.9960785 , 0.7411765 ,\n        0.08235294, 0.        , 0.        , 0.        , 0.        ,\n        0.        , 0.        , 0.        ],\n       [0.        , 0.        , 0.14901961, 0.32156864, 0.0509804 ,\n        0.        , 0.        , 0.        , 0.        , 0.        ,\n        0.        , 0.        , 0.        , 0.        , 0.        ,\n        0.        , 0.13333334, 0.8352942 , 0.9960785 , 0.9960785 ,\n        0.45098042, 0.        , 0.        , 0.        , 0.        ,\n        0.        , 0.        , 0.        ],\n       [0.        , 0.        , 0.        , 0.        , 0.        ,\n        0.        , 0.        , 0.        , 0.        , 0.        ,\n        0.        , 0.        , 0.        , 0.        , 0.        ,\n        0.        , 0.        , 0.32941177, 0.9960785 , 0.9960785 ,\n        0.9176471 , 0.        , 0.        , 0.        , 0.        ,\n        0.        , 0.        , 0.        ],\n       [0.        , 0.        , 0.        , 0.        , 0.        ,\n        0.        , 0.        , 0.        , 0.        , 0.        ,\n        0.        , 0.        , 0.        , 0.        , 0.        ,\n        0.        , 0.        , 0.32941177, 0.9960785 , 0.9960785 ,\n        0.9176471 , 0.        , 0.        , 0.        , 0.        ,\n        0.        , 0.        , 0.        ],\n       [0.        , 0.        , 0.        , 0.        , 0.        ,\n        0.        , 0.        , 0.        , 0.        , 0.        ,\n        0.        , 0.        , 0.        , 0.        , 0.        ,\n        0.        , 0.4156863 , 0.6156863 , 0.9960785 , 0.9960785 ,\n        0.95294124, 0.20000002, 0.        , 0.        , 0.        ,\n        0.        , 0.        , 0.        ],\n       [0.        , 0.        , 0.        , 0.        , 0.        ,\n        0.        , 0.        , 0.        , 0.        , 0.        ,\n        0.        , 0.09803922, 0.45882356, 0.8941177 , 0.8941177 ,\n        0.8941177 , 0.9921569 , 0.9960785 , 0.9960785 , 0.9960785 ,\n        0.9960785 , 0.94117653, 0.        , 0.        , 0.        ,\n        0.        , 0.        , 0.        ],\n       [0.        , 0.        , 0.        , 0.        , 0.        ,\n        0.        , 0.        , 0.        , 0.        , 0.26666668,\n        0.4666667 , 0.86274517, 0.9960785 , 0.9960785 , 0.9960785 ,\n        0.9960785 , 0.9960785 , 0.9960785 , 0.9960785 , 0.9960785 ,\n        0.9960785 , 0.5568628 , 0.        , 0.        , 0.        ,\n        0.        , 0.        , 0.        ],\n       [0.        , 0.        , 0.        , 0.        , 0.        ,\n        0.        , 0.        , 0.14509805, 0.73333335, 0.9921569 ,\n        0.9960785 , 0.9960785 , 0.9960785 , 0.8745099 , 0.8078432 ,\n        0.8078432 , 0.29411766, 0.26666668, 0.8431373 , 0.9960785 ,\n        0.9960785 , 0.45882356, 0.        , 0.        , 0.        ,\n        0.        , 0.        , 0.        ],\n       [0.        , 0.        , 0.        , 0.        , 0.        ,\n        0.        , 0.4431373 , 0.8588236 , 0.9960785 , 0.9490197 ,\n        0.89019614, 0.45098042, 0.34901962, 0.12156864, 0.        ,\n        0.        , 0.        , 0.        , 0.7843138 , 0.9960785 ,\n        0.9450981 , 0.16078432, 0.        , 0.        , 0.        ,\n        0.        , 0.        , 0.        ],\n       [0.        , 0.        , 0.        , 0.        , 0.        ,\n        0.        , 0.6627451 , 0.9960785 , 0.6901961 , 0.24313727,\n        0.        , 0.        , 0.        , 0.        , 0.        ,\n        0.        , 0.        , 0.18823531, 0.9058824 , 0.9960785 ,\n        0.9176471 , 0.        , 0.        , 0.        , 0.        ,\n        0.        , 0.        , 0.        ],\n       [0.        , 0.        , 0.        , 0.        , 0.        ,\n        0.        , 0.07058824, 0.48627454, 0.        , 0.        ,\n        0.        , 0.        , 0.        , 0.        , 0.        ,\n        0.        , 0.        , 0.32941177, 0.9960785 , 0.9960785 ,\n        0.6509804 , 0.        , 0.        , 0.        , 0.        ,\n        0.        , 0.        , 0.        ],\n       [0.        , 0.        , 0.        , 0.        , 0.        ,\n        0.        , 0.        , 0.        , 0.        , 0.        ,\n        0.        , 0.        , 0.        , 0.        , 0.        ,\n        0.        , 0.        , 0.54509807, 0.9960785 , 0.9333334 ,\n        0.22352943, 0.        , 0.        , 0.        , 0.        ,\n        0.        , 0.        , 0.        ],\n       [0.        , 0.        , 0.        , 0.        , 0.        ,\n        0.        , 0.        , 0.        , 0.        , 0.        ,\n        0.        , 0.        , 0.        , 0.        , 0.        ,\n        0.        , 0.8235295 , 0.9803922 , 0.9960785 , 0.65882355,\n        0.        , 0.        , 0.        , 0.        , 0.        ,\n        0.        , 0.        , 0.        ],\n       [0.        , 0.        , 0.        , 0.        , 0.        ,\n        0.        , 0.        , 0.        , 0.        , 0.        ,\n        0.        , 0.        , 0.        , 0.        , 0.        ,\n        0.        , 0.9490197 , 0.9960785 , 0.93725497, 0.22352943,\n        0.        , 0.        , 0.        , 0.        , 0.        ,\n        0.        , 0.        , 0.        ],\n       [0.        , 0.        , 0.        , 0.        , 0.        ,\n        0.        , 0.        , 0.        , 0.        , 0.        ,\n        0.        , 0.        , 0.        , 0.        , 0.        ,\n        0.34901962, 0.9843138 , 0.9450981 , 0.3372549 , 0.        ,\n        0.        , 0.        , 0.        , 0.        , 0.        ,\n        0.        , 0.        , 0.        ],\n       [0.        , 0.        , 0.        , 0.        , 0.        ,\n        0.        , 0.        , 0.        , 0.        , 0.        ,\n        0.        , 0.        , 0.        , 0.        , 0.01960784,\n        0.8078432 , 0.96470594, 0.6156863 , 0.        , 0.        ,\n        0.        , 0.        , 0.        , 0.        , 0.        ,\n        0.        , 0.        , 0.        ],\n       [0.        , 0.        , 0.        , 0.        , 0.        ,\n        0.        , 0.        , 0.        , 0.        , 0.        ,\n        0.        , 0.        , 0.        , 0.        , 0.01568628,\n        0.45882356, 0.27058825, 0.        , 0.        , 0.        ,\n        0.        , 0.        , 0.        , 0.        , 0.        ,\n        0.        , 0.        , 0.        ],\n       [0.        , 0.        , 0.        , 0.        , 0.        ,\n        0.        , 0.        , 0.        , 0.        , 0.        ,\n        0.        , 0.        , 0.        , 0.        , 0.        ,\n        0.        , 0.        , 0.        , 0.        , 0.        ,\n        0.        , 0.        , 0.        , 0.        , 0.        ,\n        0.        , 0.        , 0.        ]], dtype=float32)"
     },
     "execution_count": 202,
     "metadata": {},
     "output_type": "execute_result"
    }
   ],
   "source": [
    "# 重塑一副image\n",
    "mnist.train.images[0].reshape(28, 28)"
   ]
  },
  {
   "cell_type": "code",
   "execution_count": 203,
   "metadata": {
    "collapsed": false,
    "pycharm": {
     "name": "#%%\n"
    }
   },
   "outputs": [],
   "source": [
    "# 可视化image\n",
    "def plot_image(image):\n",
    "    plt.imshow(image.reshape(28, 28), cmap=\"binary\")\n",
    "    plt.show()"
   ]
  },
  {
   "cell_type": "code",
   "execution_count": 204,
   "metadata": {
    "collapsed": false,
    "pycharm": {
     "name": "#%%\n"
    }
   },
   "outputs": [
    {
     "data": {
      "text/plain": "<Figure size 432x288 with 1 Axes>",
      "image/png": "[encoded data removed]"
     },
     "metadata": {
      "needs_background": "light"
     },
     "output_type": "display_data"
    }
   ],
   "source": [
    "plot_image(mnist.train.images[1])"
   ]
  },
  {
   "cell_type": "code",
   "execution_count": 205,
   "metadata": {
    "collapsed": false,
    "pycharm": {
     "name": "#%%\n"
    }
   },
   "outputs": [
    {
     "data": {
      "text/plain": "<Figure size 432x288 with 1 Axes>",
      "image/png": "[encoded data removed]"
     },
     "metadata": {
      "needs_background": "light"
     },
     "output_type": "display_data"
    }
   ],
   "source": [
    "plot_image(mnist.train.images[20000])"
   ]
  },
  {
   "cell_type": "markdown",
   "metadata": {
    "collapsed": false
   },
   "source": [
    "## 进一步了解reshape()"
   ]
  },
  {
   "cell_type": "code",
   "execution_count": 206,
   "metadata": {
    "collapsed": false,
    "pycharm": {
     "name": "#%%\n"
    }
   },
   "outputs": [
    {
     "name": "stdout",
     "output_type": "stream",
     "text": [
      "[ 0  1  2  3  4  5  6  7  8  9 10 11 12 13 14 15 16 17 18 19 20 21 22 23\n",
      " 24 25 26 27 28 29 30 31 32 33 34 35 36 37 38 39 40 41 42 43 44 45 46 47\n",
      " 48 49 50 51 52 53 54 55 56 57 58 59 60 61 62 63]\n"
     ]
    }
   ],
   "source": [
    "int_array = np.array([i for i in range(64)])\n",
    "\n",
    "print(int_array)"
   ]
  },
  {
   "cell_type": "code",
   "execution_count": 207,
   "metadata": {
    "collapsed": false,
    "pycharm": {
     "name": "#%%\n"
    }
   },
   "outputs": [
    {
     "data": {
      "text/plain": "array([[ 0,  1,  2,  3,  4,  5,  6,  7],\n       [ 8,  9, 10, 11, 12, 13, 14, 15],\n       [16, 17, 18, 19, 20, 21, 22, 23],\n       [24, 25, 26, 27, 28, 29, 30, 31],\n       [32, 33, 34, 35, 36, 37, 38, 39],\n       [40, 41, 42, 43, 44, 45, 46, 47],\n       [48, 49, 50, 51, 52, 53, 54, 55],\n       [56, 57, 58, 59, 60, 61, 62, 63]])"
     },
     "execution_count": 207,
     "metadata": {},
     "output_type": "execute_result"
    }
   ],
   "source": [
    "# 转换成8行8列（8 * 8）的数组\n",
    "int_array.reshape(8, 8)"
   ]
  },
  {
   "cell_type": "code",
   "execution_count": 208,
   "metadata": {
    "collapsed": false,
    "pycharm": {
     "name": "#%%\n"
    }
   },
   "outputs": [
    {
     "data": {
      "text/plain": "array([[ 0,  1,  2,  3,  4,  5,  6,  7,  8,  9, 10, 11, 12, 13, 14, 15],\n       [16, 17, 18, 19, 20, 21, 22, 23, 24, 25, 26, 27, 28, 29, 30, 31],\n       [32, 33, 34, 35, 36, 37, 38, 39, 40, 41, 42, 43, 44, 45, 46, 47],\n       [48, 49, 50, 51, 52, 53, 54, 55, 56, 57, 58, 59, 60, 61, 62, 63]])"
     },
     "execution_count": 208,
     "metadata": {},
     "output_type": "execute_result"
    }
   ],
   "source": [
    "# 转换成4行16列（4 * 16）的数组\n",
    "int_array.reshape(4, 16)"
   ]
  },
  {
   "cell_type": "code",
   "execution_count": 209,
   "metadata": {
    "collapsed": false,
    "pycharm": {
     "name": "#%%\n"
    }
   },
   "outputs": [
    {
     "data": {
      "text/plain": "<Figure size 432x288 with 1 Axes>",
      "image/png": "[encoded data removed]"
     },
     "metadata": {
      "needs_background": "light"
     },
     "output_type": "display_data"
    }
   ],
   "source": [
    "plt.imshow(mnist.train.images[20000].reshape(14, 56), cmap=\"binary\")\n",
    "plt.show()"
   ]
  },
  {
   "cell_type": "markdown",
   "metadata": {
    "collapsed": false,
    "pycharm": {
     "name": "#%% md\n"
    }
   },
   "source": [
    "## 独热编码"
   ]
  },
  {
   "cell_type": "code",
   "execution_count": 210,
   "metadata": {
    "collapsed": false,
    "pycharm": {
     "name": "#%%\n"
    }
   },
   "outputs": [
    {
     "data": {
      "text/plain": "array([0., 0., 0., 1., 0., 0., 0., 0., 0., 0.])"
     },
     "execution_count": 210,
     "metadata": {},
     "output_type": "execute_result"
    }
   ],
   "source": [
    "# 此处表示当前训练集为1号的image的对应标签为3\n",
    "mnist.train.labels[1]"
   ]
  },
  {
   "cell_type": "markdown",
   "metadata": {
    "collapsed": false,
    "pycharm": {
     "name": "#%% md\n"
    }
   },
   "source": [
    "## 读取验证数据"
   ]
  },
  {
   "cell_type": "code",
   "execution_count": 211,
   "metadata": {
    "collapsed": false,
    "pycharm": {
     "name": "#%%\n"
    }
   },
   "outputs": [
    {
     "name": "stdout",
     "output_type": "stream",
     "text": [
      "validation images:  (5000, 784)\n",
      "validation labels:  (5000, 10)\n"
     ]
    }
   ],
   "source": [
    "print(\"validation images: \", mnist.validation.images.shape)\n",
    "print(\"validation labels: \", mnist.validation.labels.shape)"
   ]
  },
  {
   "cell_type": "markdown",
   "metadata": {
    "collapsed": false,
    "pycharm": {
     "name": "#%% md\n"
    }
   },
   "source": [
    "## 读取测试数据"
   ]
  },
  {
   "cell_type": "code",
   "execution_count": 212,
   "metadata": {
    "collapsed": false,
    "pycharm": {
     "name": "#%%\n"
    }
   },
   "outputs": [
    {
     "name": "stdout",
     "output_type": "stream",
     "text": [
      "test images:  (10000, 784)\n",
      "test labels:  (10000, 10)\n"
     ]
    }
   ],
   "source": [
    "print(\"test images: \", mnist.test.images.shape)\n",
    "print(\"test labels: \", mnist.test.labels.shape)"
   ]
  },
  {
   "cell_type": "markdown",
   "metadata": {
    "collapsed": false,
    "pycharm": {
     "name": "#%% md\n"
    }
   },
   "source": [
    "## 数据的批量读取"
   ]
  },
  {
   "cell_type": "code",
   "execution_count": 213,
   "metadata": {
    "collapsed": false,
    "pycharm": {
     "name": "#%%\n"
    }
   },
   "outputs": [],
   "source": [
    "# next_batch()会先对数据集进行shuffle操作\n",
    "batch_image_xs, batch_labels_ys = mnist.train.next_batch(batch_size=10)"
   ]
  },
  {
   "cell_type": "code",
   "execution_count": 214,
   "metadata": {
    "collapsed": false,
    "pycharm": {
     "name": "#%%\n"
    }
   },
   "outputs": [
    {
     "name": "stdout",
     "output_type": "stream",
     "text": [
      "[[1. 0. 0. 0. 0. 0. 0. 0. 0. 0.]\n",
      " [0. 0. 0. 0. 1. 0. 0. 0. 0. 0.]\n",
      " [0. 1. 0. 0. 0. 0. 0. 0. 0. 0.]\n",
      " [0. 0. 0. 1. 0. 0. 0. 0. 0. 0.]\n",
      " [0. 0. 0. 0. 0. 0. 0. 1. 0. 0.]\n",
      " [0. 0. 1. 0. 0. 0. 0. 0. 0. 0.]\n",
      " [0. 0. 0. 0. 0. 0. 0. 0. 1. 0.]\n",
      " [0. 0. 0. 0. 0. 0. 0. 0. 1. 0.]\n",
      " [0. 0. 0. 0. 0. 1. 0. 0. 0. 0.]\n",
      " [0. 0. 0. 1. 0. 0. 0. 0. 0. 0.]]\n"
     ]
    }
   ],
   "source": [
    "print(mnist.train.labels[0:10])"
   ]
  },
  {
   "cell_type": "code",
   "execution_count": 215,
   "metadata": {
    "collapsed": false,
    "pycharm": {
     "name": "#%%\n"
    }
   },
   "outputs": [
    {
     "name": "stdout",
     "output_type": "stream",
     "text": [
      "[[1. 0. 0. 0. 0. 0. 0. 0. 0. 0.]\n",
      " [0. 0. 0. 0. 1. 0. 0. 0. 0. 0.]\n",
      " [0. 1. 0. 0. 0. 0. 0. 0. 0. 0.]\n",
      " [0. 0. 0. 1. 0. 0. 0. 0. 0. 0.]\n",
      " [0. 0. 0. 0. 0. 0. 0. 1. 0. 0.]\n",
      " [0. 0. 1. 0. 0. 0. 0. 0. 0. 0.]\n",
      " [0. 0. 0. 0. 0. 0. 0. 0. 1. 0.]\n",
      " [0. 0. 0. 0. 0. 0. 0. 0. 1. 0.]\n",
      " [0. 0. 0. 0. 0. 1. 0. 0. 0. 0.]\n",
      " [0. 0. 0. 1. 0. 0. 0. 0. 0. 0.]]\n"
     ]
    }
   ],
   "source": [
    "print(batch_labels_ys)"
   ]
  },
  {
   "cell_type": "markdown",
   "metadata": {
    "collapsed": false,
    "pycharm": {
     "name": "#%% md\n"
    }
   },
   "source": [
    "## 模型参数定义"
   ]
  },
  {
   "cell_type": "code",
   "execution_count": 216,
   "metadata": {
    "collapsed": false,
    "pycharm": {
     "name": "#%%\n"
    }
   },
   "outputs": [],
   "source": [
    "# 定义待输入数据占位符\n",
    "# 每张图片共有28*28共784个像素点\n",
    "x = tf.placeholder(tf.float32, [None, 784], name=\"X\")\n",
    "\n",
    "# 0-9 共10个数字 => 共10个类别\n",
    "y = tf.placeholder(tf.float32, [None, 10], name=\"Y\")"
   ]
  },
  {
   "cell_type": "code",
   "execution_count": 217,
   "metadata": {
    "collapsed": false,
    "pycharm": {
     "name": "#%%\n"
    }
   },
   "outputs": [],
   "source": [
    "# 定义变量\n",
    "# 以正态分布的随机数初始化权重W，以常数0初始化偏置项b\n",
    "W = tf.Variable(tf.random_normal([784, 10], name=\"W\"))\n",
    "b = tf.Variable(tf.zeros([10]), name=\"b\")"
   ]
  },
  {
   "cell_type": "markdown",
   "metadata": {
    "collapsed": false,
    "pycharm": {
     "name": "#%% md\n"
    }
   },
   "source": [
    "## 进一步了解tf.random_normal()"
   ]
  },
  {
   "cell_type": "code",
   "execution_count": 218,
   "metadata": {
    "collapsed": false,
    "pycharm": {
     "name": "#%%\n"
    }
   },
   "outputs": [
    {
     "name": "stdout",
     "output_type": "stream",
     "text": [
      "[-0.67116475  0.7913417  -0.09613395  0.06218862 -0.22907373  0.3838432\n",
      " -0.52225363 -1.6810652  -0.51752365 -0.28294846]\n"
     ]
    }
   ],
   "source": [
    "# 生成100个随机数\n",
    "norm = tf.random_normal([100])\n",
    "with tf.Session() as sess:\n",
    "    norm_data = norm.eval()\n",
    "\n",
    "print(norm_data[:10])"
   ]
  },
  {
   "cell_type": "code",
   "execution_count": 219,
   "metadata": {
    "collapsed": false,
    "pycharm": {
     "name": "#%%\n"
    }
   },
   "outputs": [
    {
     "data": {
      "text/plain": "<Figure size 432x288 with 1 Axes>",
      "image/png": "[encoded data removed]"
     },
     "metadata": {
      "needs_background": "light"
     },
     "output_type": "display_data"
    }
   ],
   "source": [
    "# 输出图像\n",
    "plt.hist(norm_data)\n",
    "plt.show()"
   ]
  },
  {
   "cell_type": "markdown",
   "metadata": {
    "collapsed": false,
    "pycharm": {
     "name": "#%% md\n"
    }
   },
   "source": [
    "## 定义前向计算"
   ]
  },
  {
   "cell_type": "code",
   "execution_count": 220,
   "metadata": {
    "collapsed": false,
    "pycharm": {
     "name": "#%%\n"
    }
   },
   "outputs": [],
   "source": [
    "# 前向计算\n",
    "forward = tf.matmul(x, W) + b\n",
    "\n",
    "# Softmax结果分类\n",
    "pred = tf.nn.softmax(forward)"
   ]
  },
  {
   "cell_type": "markdown",
   "metadata": {
    "collapsed": false,
    "pycharm": {
     "name": "#%% md\n"
    }
   },
   "source": [
    "## 进一步了解Softmax函数"
   ]
  },
  {
   "cell_type": "code",
   "execution_count": 221,
   "metadata": {
    "collapsed": false,
    "pycharm": {
     "name": "#%%\n"
    }
   },
   "outputs": [
    {
     "name": "stdout",
     "output_type": "stream",
     "text": [
      "[[2.75972792e-06 3.70603254e-04 9.99621608e-01 5.02855213e-06]]\n"
     ]
    }
   ],
   "source": [
    "x_study = np.array([[-3.1, 1.8, 9.7, -2.5]])\n",
    "pred_study = tf.nn.softmax(x_study)\n",
    "\n",
    "sess_study = tf.Session()\n",
    "v = sess_study.run(pred_study)\n",
    "print(v)\n",
    "\n",
    "sess_study.close()"
   ]
  },
  {
   "cell_type": "markdown",
   "metadata": {
    "collapsed": false,
    "pycharm": {
     "name": "#%% md\n"
    }
   },
   "source": [
    "## 定义损失函数"
   ]
  },
  {
   "cell_type": "code",
   "metadata": {
    "collapsed": false,
    "pycharm": {
     "name": "#%%\n"
    }
   },
   "source": [
    "# 此处使用交叉熵损失函数（本例为解决逻辑回归问题，不适合使用均方差损失函数）\n",
    "# 交叉熵损失函数计算公式：Loss = -∑(上：n, 下：i=1) y(下标：i)log[y(下标：i)']\n",
    "loss_function = tf.reduce_mean(-tf.reduce_sum(y * tf.log(pred),\n",
    "                                              reduction_indices=1))"
   ],
   "execution_count": 222,
   "outputs": []
  },
  {
   "cell_type": "markdown",
   "metadata": {
    "collapsed": false,
    "pycharm": {
     "name": "#%% md\n"
    }
   },
   "source": [
    "## 定义训练参数"
   ]
  },
  {
   "cell_type": "code",
   "metadata": {
    "collapsed": false,
    "pycharm": {
     "name": "#%%\n"
    }
   },
   "source": [
    "# 采用小批量梯度下降法进行训练\n",
    "\n",
    "# 训练轮次\n",
    "train_epochs = 50\n",
    "\n",
    "# 单次训练样本数（批次大小）\n",
    "batch_size = 10\n",
    "\n",
    "# 一轮训练有多少批次\n",
    "total_batch = int(mnist.train.num_examples / batch_size)\n",
    "\n",
    "# 显示粒度\n",
    "display_step = 1\n",
    "\n",
    "# 学习率\n",
    "learning_rate = 0.01"
   ],
   "execution_count": 223,
   "outputs": []
  },
  {
   "cell_type": "markdown",
   "metadata": {
    "collapsed": false,
    "pycharm": {
     "name": "#%% md\n"
    }
   },
   "source": [
    "## 定义优化器"
   ]
  },
  {
   "cell_type": "code",
   "metadata": {
    "collapsed": false,
    "pycharm": {
     "name": "#%%\n"
    }
   },
   "source": [
    "# 梯度下降优化器\n",
    "optimizer = tf.train.GradientDescentOptimizer(learning_rate).minimize(loss_function)"
   ],
   "execution_count": 224,
   "outputs": []
  },
  {
   "cell_type": "markdown",
   "source": [
    "## 定义准确率"
   ],
   "metadata": {
    "collapsed": false,
    "pycharm": {
     "name": "#%% md\n"
    }
   }
  },
  {
   "cell_type": "code",
   "execution_count": 225,
   "metadata": {
    "collapsed": false,
    "pycharm": {
     "name": "#%%\n"
    }
   },
   "outputs": [],
   "source": [
    "# 检查预测类别与实际类别的匹配情况\n",
    "correct_prediction = tf.equal(tf.argmax(pred, 1), tf.argmax(y, 1))"
   ]
  },
  {
   "cell_type": "code",
   "execution_count": 226,
   "metadata": {
    "collapsed": false,
    "pycharm": {
     "name": "#%%\n"
    }
   },
   "outputs": [],
   "source": [
    "# 准确率，将布尔值转化为浮点数，并计算平均值\n",
    "accuracy = tf.reduce_mean(tf.cast(correct_prediction, tf.float32))"
   ]
  },
  {
   "cell_type": "code",
   "execution_count": 227,
   "metadata": {
    "collapsed": false,
    "pycharm": {
     "name": "#%%\n"
    }
   },
   "outputs": [],
   "source": [
    "session = tf.Session()\n",
    "\n",
    "# 变量初始化\n",
    "init = tf.global_variables_initializer()\n",
    "\n",
    "session.run(init)"
   ]
  },
  {
   "cell_type": "markdown",
   "metadata": {
    "collapsed": false,
    "pycharm": {
     "name": "#%% md\n"
    }
   },
   "source": [
    "## 模型训练"
   ]
  },
  {
   "cell_type": "code",
   "execution_count": 228,
   "metadata": {
    "collapsed": false,
    "pycharm": {
     "name": "#%%\n"
    }
   },
   "outputs": [
    {
     "name": "stdout",
     "output_type": "stream",
     "text": [
      "Train epoch:  01 Loss =  1.233766556 Accuracy =  0.7468\n",
      "Train epoch:  02 Loss =  0.900387108 Accuracy =  0.8082\n",
      "Train epoch:  03 Loss =  0.769903600 Accuracy =  0.8314\n",
      "Train epoch:  04 Loss =  0.686057031 Accuracy =  0.8478\n",
      "Train epoch:  05 Loss =  0.633525312 Accuracy =  0.8552\n",
      "Train epoch:  06 Loss =  0.595018923 Accuracy =  0.8648\n",
      "Train epoch:  07 Loss =  0.565494120 Accuracy =  0.8678\n",
      "Train epoch:  08 Loss =  0.542117000 Accuracy =  0.8756\n",
      "Train epoch:  09 Loss =  0.521325886 Accuracy =  0.8788\n",
      "Train epoch:  10 Loss =  0.506930888 Accuracy =  0.8808\n",
      "Train epoch:  11 Loss =  0.492020398 Accuracy =  0.8830\n",
      "Train epoch:  12 Loss =  0.479584873 Accuracy =  0.8864\n",
      "Train epoch:  13 Loss =  0.469210446 Accuracy =  0.8862\n",
      "Train epoch:  14 Loss =  0.459723622 Accuracy =  0.8910\n",
      "Train epoch:  15 Loss =  0.452287793 Accuracy =  0.8918\n",
      "Train epoch:  16 Loss =  0.443930358 Accuracy =  0.8944\n",
      "Train epoch:  17 Loss =  0.435354352 Accuracy =  0.8934\n",
      "Train epoch:  18 Loss =  0.429197460 Accuracy =  0.8934\n",
      "Train epoch:  19 Loss =  0.423560828 Accuracy =  0.8944\n",
      "Train epoch:  20 Loss =  0.419846296 Accuracy =  0.8958\n",
      "Train epoch:  21 Loss =  0.415592968 Accuracy =  0.8970\n",
      "Train epoch:  22 Loss =  0.410037100 Accuracy =  0.8980\n",
      "Train epoch:  23 Loss =  0.405176669 Accuracy =  0.8982\n",
      "Train epoch:  24 Loss =  0.402485341 Accuracy =  0.9000\n",
      "Train epoch:  25 Loss =  0.398430020 Accuracy =  0.9010\n",
      "Train epoch:  26 Loss =  0.393714696 Accuracy =  0.9000\n",
      "Train epoch:  27 Loss =  0.389932543 Accuracy =  0.9012\n",
      "Train epoch:  28 Loss =  0.386857778 Accuracy =  0.9026\n",
      "Train epoch:  29 Loss =  0.386913449 Accuracy =  0.9022\n",
      "Train epoch:  30 Loss =  0.382934898 Accuracy =  0.9032\n",
      "Train epoch:  31 Loss =  0.380266458 Accuracy =  0.9030\n",
      "Train epoch:  32 Loss =  0.376852870 Accuracy =  0.9036\n",
      "Train epoch:  33 Loss =  0.378887504 Accuracy =  0.9032\n",
      "Train epoch:  34 Loss =  0.374183506 Accuracy =  0.9036\n",
      "Train epoch:  35 Loss =  0.370615453 Accuracy =  0.9050\n",
      "Train epoch:  36 Loss =  0.369008154 Accuracy =  0.9056\n",
      "Train epoch:  37 Loss =  0.367507577 Accuracy =  0.9058\n",
      "Train epoch:  38 Loss =  0.364525378 Accuracy =  0.9054\n",
      "Train epoch:  39 Loss =  0.362096310 Accuracy =  0.9072\n",
      "Train epoch:  40 Loss =  0.362059563 Accuracy =  0.9074\n",
      "Train epoch:  41 Loss =  0.359639972 Accuracy =  0.9078\n",
      "Train epoch:  42 Loss =  0.357760459 Accuracy =  0.9084\n",
      "Train epoch:  43 Loss =  0.356812805 Accuracy =  0.9078\n",
      "Train epoch:  44 Loss =  0.355327308 Accuracy =  0.9098\n",
      "Train epoch:  45 Loss =  0.353561252 Accuracy =  0.9090\n",
      "Train epoch:  46 Loss =  0.353051841 Accuracy =  0.9096\n",
      "Train epoch:  47 Loss =  0.350419968 Accuracy =  0.9098\n",
      "Train epoch:  48 Loss =  0.349179536 Accuracy =  0.9102\n",
      "Train epoch:  49 Loss =  0.350113511 Accuracy =  0.9116\n",
      "Train epoch:  50 Loss =  0.347683340 Accuracy =  0.9114\n",
      "Train Finished! \n"
     ]
    }
   ],
   "source": [
    "# 开始训练\n",
    "for epoch in range(train_epochs):\n",
    "    for batch in range(total_batch):\n",
    "        # 读取批次数据\n",
    "        xs, ys = mnist.train.next_batch(batch_size)\n",
    "\n",
    "        # 执行批次训练\n",
    "        session.run(optimizer, feed_dict={x: xs, y: ys})\n",
    "\n",
    "    # 批次训练完成后，使用验证数据计算误差与准确率，验证集没有分批\n",
    "    loss, acc = session.run([loss_function, accuracy],\n",
    "                            feed_dict={x: mnist.validation.images, y: mnist.validation.labels})\n",
    "\n",
    "    # 打印训练中的详细信息\n",
    "    if (epoch + 1) % display_step == 0:\n",
    "        print(\"Train epoch: \", \"%02d\" % (epoch + 1),\n",
    "              \"Loss = \", \"{:.9f}\".format(loss),\n",
    "              \"Accuracy = \", \"{:.4f}\".format(acc))\n",
    "\n",
    "print(\"Train Finished! \")"
   ]
  },
  {
   "cell_type": "markdown",
   "source": [
    "## 评估模型"
   ],
   "metadata": {
    "collapsed": false,
    "pycharm": {
     "name": "#%% md\n"
    }
   }
  },
  {
   "cell_type": "code",
   "execution_count": 229,
   "outputs": [
    {
     "name": "stdout",
     "output_type": "stream",
     "text": [
      "Test Accuracy:  0.9078\n"
     ]
    }
   ],
   "source": [
    "# 使用测试集进行评估\n",
    "accu_test = session.run(accuracy, feed_dict={x: mnist.test.images, y: mnist.test.labels})\n",
    "\n",
    "print(\"Test Accuracy: \", accu_test)"
   ],
   "metadata": {
    "collapsed": false,
    "pycharm": {
     "name": "#%%\n"
    }
   }
  },
  {
   "cell_type": "code",
   "execution_count": 230,
   "outputs": [
    {
     "name": "stdout",
     "output_type": "stream",
     "text": [
      "Test Accuracy:  0.9114\n"
     ]
    }
   ],
   "source": [
    "# 再次使用验证集进行评估\n",
    "accu_test = session.run(accuracy, feed_dict={x: mnist.validation.images, y: mnist.validation.labels})\n",
    "\n",
    "print(\"Test Accuracy: \", accu_test)"
   ],
   "metadata": {
    "collapsed": false,
    "pycharm": {
     "name": "#%%\n"
    }
   }
  },
  {
   "cell_type": "code",
   "execution_count": 231,
   "outputs": [
    {
     "name": "stdout",
     "output_type": "stream",
     "text": [
      "Test Accuracy:  0.91401815\n"
     ]
    }
   ],
   "source": [
    "# 再次使用训练集进行评估\n",
    "accu_test = session.run(accuracy, feed_dict={x: mnist.train.images, y: mnist.train.labels})\n",
    "\n",
    "print(\"Test Accuracy: \", accu_test)"
   ],
   "metadata": {
    "collapsed": false,
    "pycharm": {
     "name": "#%%\n"
    }
   }
  },
  {
   "cell_type": "markdown",
   "source": [
    "## 模型运用"
   ],
   "metadata": {
    "collapsed": false,
    "pycharm": {
     "name": "#%% md\n"
    }
   }
  },
  {
   "cell_type": "code",
   "execution_count": 232,
   "outputs": [],
   "source": [
    "# 由于预测结果是one-hot编码格式，所以需要转化为0~9的数字\n",
    "prediction_result = session.run(tf.argmax(pred, 1), feed_dict={x: mnist.test.images})"
   ],
   "metadata": {
    "collapsed": false,
    "pycharm": {
     "name": "#%%\n"
    }
   }
  },
  {
   "cell_type": "code",
   "execution_count": 233,
   "outputs": [
    {
     "data": {
      "text/plain": "array([7, 2, 1, 0, 4, 1, 4, 9, 6, 9], dtype=int64)"
     },
     "execution_count": 233,
     "metadata": {},
     "output_type": "execute_result"
    }
   ],
   "source": [
    "# 查看预测结果中的前10项\n",
    "prediction_result[0:10]"
   ],
   "metadata": {
    "collapsed": false,
    "pycharm": {
     "name": "#%%\n"
    }
   }
  },
  {
   "cell_type": "markdown",
   "source": [
    "## 模型可视化"
   ],
   "metadata": {
    "collapsed": false,
    "pycharm": {
     "name": "#%% md\n"
    }
   }
  },
  {
   "cell_type": "code",
   "execution_count": 237,
   "outputs": [],
   "source": [
    "# 定义可视化函数\n",
    "def plot_images_labels_prediction(\n",
    "        images,  # 图像列表\n",
    "        labels,  # 标签列表\n",
    "        prediction,  # 预测值列表（若传入空表则为展示数据集中image与对应标签）\n",
    "        index,  # 从第index个开始显示\n",
    "        num=10,  # 缺省一次显示10幅\n",
    "):\n",
    "    # 获取当前图表\n",
    "    flg = plt.gcf()\n",
    "\n",
    "    # 1英寸等于2.54cm\n",
    "    flg.set_size_inches(10, 12)\n",
    "\n",
    "    # 最多展示25个要处理的子图\n",
    "    if num > 25:\n",
    "        num = 25\n",
    "\n",
    "    for i in range(0, num):\n",
    "        # 获取当前要处理的子图\n",
    "        ax = plt.subplot(5, 5, i + 1)\n",
    "\n",
    "        # 显示第index个图像\n",
    "        ax.imshow(np.reshape(images[index], (28, 28), ), cmap=\"binary\")\n",
    "\n",
    "        # 构建该图上要显示的title信息\n",
    "        title = \"Label = \" + str(np.argmax(labels[index]))\n",
    "\n",
    "        if len(prediction) > 0:\n",
    "            title += \", Pred = \" + str(prediction[index])\n",
    "\n",
    "        ax.set_title(title, fontsize=10)\n",
    "\n",
    "        index += 1\n",
    "\n",
    "    plt.show()"
   ],
   "metadata": {
    "collapsed": false,
    "pycharm": {
     "name": "#%%\n"
    }
   }
  },
  {
   "cell_type": "code",
   "execution_count": 240,
   "outputs": [
    {
     "data": {
      "text/plain": "<Figure size 720x864 with 25 Axes>",
      "image/png": "[encoded data removed]"
     },
     "metadata": {
      "needs_background": "light"
     },
     "output_type": "display_data"
    }
   ],
   "source": [
    "plot_images_labels_prediction(\n",
    "    mnist.test.images,\n",
    "    mnist.test.labels,\n",
    "    prediction_result,\n",
    "    0,\n",
    "    25\n",
    ")"
   ],
   "metadata": {
    "collapsed": false,
    "pycharm": {
     "name": "#%%\n"
    }
   }
  }
 ],
 "metadata": {
  "kernelspec": {
   "display_name": "Python 3",
   "language": "python",
   "name": "python3"
  },
  "language_info": {
   "codemirror_mode": {
    "name": "ipython",
    "version": 3
   },
   "file_extension": ".py",
   "mimetype": "text/x-python",
   "name": "python",
   "nbconvert_exporter": "python",
   "pygments_lexer": "ipython3",
   "version": "3.6.13"
  }
 },
 "nbformat": 4,
 "nbformat_minor": 0
}