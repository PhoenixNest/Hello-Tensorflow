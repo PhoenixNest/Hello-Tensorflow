{
 "cells": [
  {
   "cell_type": "markdown",
   "metadata": {
    "collapsed": true,
    "pycharm": {
     "name": "#%% md\n"
    }
   },
   "source": [
    "## 使用卷积神经网络对CIFAR-10数据集进行分类"
   ]
  },
  {
   "cell_type": "code",
   "execution_count": 51,
   "outputs": [],
   "source": [
    "import os\n",
    "import pickle as p\n",
    "import tarfile\n",
    "import urllib.request\n",
    "from time import time\n",
    "\n",
    "import matplotlib.pyplot as plt\n",
    "import numpy as np\n",
    "import tensorflow as tf\n",
    "from sklearn.preprocessing import OneHotEncoder"
   ],
   "metadata": {
    "collapsed": false,
    "pycharm": {
     "name": "#%%\n"
    }
   }
  },
  {
   "cell_type": "markdown",
   "source": [
    "## 准备数据集"
   ],
   "metadata": {
    "collapsed": false,
    "pycharm": {
     "name": "#%% md\n"
    }
   }
  },
  {
   "cell_type": "code",
   "execution_count": 52,
   "outputs": [
    {
     "name": "stdout",
     "output_type": "stream",
     "text": [
      "Data file already exists\n",
      "Data file already exists\n"
     ]
    }
   ],
   "source": [
    "url = \"https://www.cs.toronto.edu/~kriz/cifar-10-python.tar.gz\"\n",
    "filepath = \"Data/CIFAR-10/cifar-10-python.tar.gz\"\n",
    "\n",
    "# 下载数据集\n",
    "if not os.path.isfile(filepath):\n",
    "    result = urllib.request.urlretrieve(url, filepath)\n",
    "    print(\"downloaded: \", result)\n",
    "else:\n",
    "    print(\"Data file already exists\")\n",
    "\n",
    "# 解压数据集\n",
    "if not os.path.exists(\"Data/CIFAR-10/DataSets\"):\n",
    "    tfile = tarfile.open(\"Data/CIFAR-10/cifar-10-python.tar.gz\", \"r:gz\")\n",
    "    result = tfile.extractall(\"Data/CIFAR-10/DataSets\")\n",
    "    print(\"Extract to Data/CIFAR-10/DataSets\")\n",
    "else:\n",
    "    print(\"Data file already exists\")"
   ],
   "metadata": {
    "collapsed": false,
    "pycharm": {
     "name": "#%%\n"
    }
   }
  },
  {
   "cell_type": "markdown",
   "source": [
    "## 导入数据集"
   ],
   "metadata": {
    "collapsed": false,
    "pycharm": {
     "name": "#%% md\n"
    }
   }
  },
  {
   "cell_type": "code",
   "execution_count": 53,
   "outputs": [],
   "source": [
    "# 按批次导入\n",
    "def load_CIFAR_batch(filename):\n",
    "    with open(filename, \"rb\") as f:\n",
    "        data_dict = p.load(f, encoding=\"bytes\")\n",
    "        images = data_dict[b\"data\"]\n",
    "        labels = data_dict[b\"labels\"]\n",
    "\n",
    "        # 将原始数据调整为BCWH\n",
    "        images = images.reshape(10000, 3, 32, 32)\n",
    "        # tensorflow处理图象数据的结构：BWHC\n",
    "        # 把通道数数据C移动到最后一个维度\n",
    "        images = images.transpose(0, 2, 3, 1)\n",
    "\n",
    "        labels = np.array(labels)\n",
    "\n",
    "        return images, labels"
   ],
   "metadata": {
    "collapsed": false,
    "pycharm": {
     "name": "#%%\n"
    }
   }
  },
  {
   "cell_type": "code",
   "execution_count": 54,
   "outputs": [
    {
     "name": "stdout",
     "output_type": "stream",
     "text": [
      "loading Data/CIFAR-10/DataSets/cifar-10-batches-py\\data_batch_1\n",
      "loading Data/CIFAR-10/DataSets/cifar-10-batches-py\\data_batch_2\n",
      "loading Data/CIFAR-10/DataSets/cifar-10-batches-py\\data_batch_3\n",
      "loading Data/CIFAR-10/DataSets/cifar-10-batches-py\\data_batch_4\n",
      "loading Data/CIFAR-10/DataSets/cifar-10-batches-py\\data_batch_5\n",
      "Finished loading CIFAR-10 data\n"
     ]
    }
   ],
   "source": [
    "# 导入数据集\n",
    "def load_CIFAR_data(data_dir):\n",
    "    images_train = []\n",
    "    labels_train = []\n",
    "\n",
    "    for i in range(5):\n",
    "        f = os.path.join(data_dir, \"data_batch_%d\" % (i + 1))\n",
    "        print(\"loading\", f)\n",
    "\n",
    "        # 调用load_CIFAR_batch()获得批量的图像机器对应的标签\n",
    "        image_batch, label_batch = load_CIFAR_batch(f)\n",
    "\n",
    "        images_train.append(image_batch)\n",
    "        labels_train.append(label_batch)\n",
    "\n",
    "        Xtrain = np.concatenate(images_train)\n",
    "        Ytrain = np.concatenate(labels_train)\n",
    "\n",
    "        del image_batch, label_batch\n",
    "\n",
    "    Xtest, Ytest = load_CIFAR_batch(os.path.join(data_dir, \"test_batch\"))\n",
    "    print(\"Finished loading CIFAR-10 data\")\n",
    "\n",
    "    # 返回训练集的体香和标签，测试集的图像和标签\n",
    "    return Xtrain, Ytrain, Xtest, Ytest\n",
    "\n",
    "\n",
    "data_dir = \"Data/CIFAR-10/DataSets/cifar-10-batches-py\"\n",
    "Xtrain, Ytrain, Xtest, Ytest = load_CIFAR_data(data_dir)"
   ],
   "metadata": {
    "collapsed": false,
    "pycharm": {
     "name": "#%%\n"
    }
   }
  },
  {
   "cell_type": "markdown",
   "source": [
    "## 查看数据集"
   ],
   "metadata": {
    "collapsed": false,
    "pycharm": {
     "name": "#%% md\n"
    }
   }
  },
  {
   "cell_type": "code",
   "execution_count": 55,
   "outputs": [
    {
     "name": "stdout",
     "output_type": "stream",
     "text": [
      "Training data shape:  (50000, 32, 32, 3)\n",
      "Training labels shape:  (50000,)\n",
      "Test im shape:  (10000, 32, 32, 3)\n",
      "Test labels shape:  (10000,)\n"
     ]
    }
   ],
   "source": [
    "print(\"Training data shape: \", Xtrain.shape)\n",
    "print(\"Training labels shape: \", Ytrain.shape)\n",
    "print(\"Test im shape: \", Xtest.shape)\n",
    "print(\"Test labels shape: \", Ytest.shape)"
   ],
   "metadata": {
    "collapsed": false,
    "pycharm": {
     "name": "#%%\n"
    }
   }
  },
  {
   "cell_type": "code",
   "execution_count": 56,
   "outputs": [
    {
     "data": {
      "text/plain": "<matplotlib.image.AxesImage at 0x2c761bfb8d0>"
     },
     "execution_count": 56,
     "metadata": {},
     "output_type": "execute_result"
    },
    {
     "data": {
      "text/plain": "<Figure size 432x288 with 1 Axes>",
      "image/png": "[encoded data removed]"
     },
     "metadata": {
      "needs_background": "light"
     },
     "output_type": "display_data"
    }
   ],
   "source": [
    "# 查看单项数据\n",
    "plt.imshow(Xtrain[6])"
   ],
   "metadata": {
    "collapsed": false,
    "pycharm": {
     "name": "#%%\n"
    }
   }
  },
  {
   "cell_type": "code",
   "execution_count": 57,
   "outputs": [
    {
     "name": "stdout",
     "output_type": "stream",
     "text": [
      "2\n"
     ]
    }
   ],
   "source": [
    "print(Ytrain[6])"
   ],
   "metadata": {
    "collapsed": false,
    "pycharm": {
     "name": "#%%\n"
    }
   }
  },
  {
   "cell_type": "markdown",
   "source": [
    "## 定义多项images与label"
   ],
   "metadata": {
    "collapsed": false,
    "pycharm": {
     "name": "#%% md\n"
    }
   }
  },
  {
   "cell_type": "code",
   "execution_count": 58,
   "outputs": [
    {
     "data": {
      "text/plain": "<Figure size 864x432 with 10 Axes>",
      "image/png": "[encoded data removed]"
     },
     "metadata": {
      "needs_background": "light"
     },
     "output_type": "display_data"
    }
   ],
   "source": [
    "# 定义标签字典，每一个数字所代表的图像类别的名称\n",
    "label_dict = {0: \"airplane\", 1: \"automobile\", 2: \"bird\", 3: \"cat\", 4: \"deer\", 5: \"dog\", 6: \"frog\", 7: \"horse\",\n",
    "              8: \"ship\", 9: \"truck\"}\n",
    "\n",
    "\n",
    "# 定义显示图像数据及其对应标签的函数\n",
    "def plot_images_labels_prediction(images, labels, prediction, idx, num=10):\n",
    "    fig = plt.gcf()\n",
    "    fig.set_size_inches(12, 6)\n",
    "\n",
    "    if num > 10:\n",
    "        num = 10\n",
    "\n",
    "    for i in range(0, num):\n",
    "        ax = plt.subplot(2, 5, 1 + i)\n",
    "        ax.imshow(images[idx], cmap=\"binary\")\n",
    "\n",
    "        title = str(i) + \", \" + label_dict[labels[idx]]\n",
    "        if len(prediction) > 0:\n",
    "            title += \"=>\" + label_dict[prediction[idx]]\n",
    "\n",
    "        ax.set_title(title, fontsize=10)\n",
    "\n",
    "        idx += 1\n",
    "\n",
    "    plt.show()\n",
    "\n",
    "\n",
    "plot_images_labels_prediction(Xtest, Ytest, [], 1, 10)"
   ],
   "metadata": {
    "collapsed": false,
    "pycharm": {
     "name": "#%%\n"
    }
   }
  },
  {
   "cell_type": "markdown",
   "source": [
    "## 数据预处理"
   ],
   "metadata": {
    "collapsed": false,
    "pycharm": {
     "name": "#%% md\n"
    }
   }
  },
  {
   "cell_type": "code",
   "execution_count": 59,
   "outputs": [
    {
     "data": {
      "text/plain": "array([59, 62, 63], dtype=uint8)"
     },
     "execution_count": 59,
     "metadata": {},
     "output_type": "execute_result"
    }
   ],
   "source": [
    "# 查看图像数据信息\n",
    "# 显示第一个图的第一个像素点\n",
    "Xtrain[0][0][0]"
   ],
   "metadata": {
    "collapsed": false,
    "pycharm": {
     "name": "#%%\n"
    }
   }
  },
  {
   "cell_type": "code",
   "execution_count": 60,
   "outputs": [],
   "source": [
    "# 将图像进行数字标准化\n",
    "Xtrain_normalize = Xtrain.astype(\"float32\") / 255.0\n",
    "Xtest_normalize = Xtest.astype(\"float32\") / 255.0"
   ],
   "metadata": {
    "collapsed": false,
    "pycharm": {
     "name": "#%%\n"
    }
   }
  },
  {
   "cell_type": "code",
   "execution_count": 61,
   "outputs": [
    {
     "data": {
      "text/plain": "array([0.23137255, 0.24313726, 0.24705882], dtype=float32)"
     },
     "execution_count": 61,
     "metadata": {},
     "output_type": "execute_result"
    }
   ],
   "source": [
    "# 查看预处理后的图像数据信息\n",
    "Xtrain_normalize[0][0][0]"
   ],
   "metadata": {
    "collapsed": false,
    "pycharm": {
     "name": "#%%\n"
    }
   }
  },
  {
   "cell_type": "markdown",
   "source": [
    "## 标签数据预处理 - 独热编码"
   ],
   "metadata": {
    "collapsed": false,
    "pycharm": {
     "name": "#%% md\n"
    }
   }
  },
  {
   "cell_type": "code",
   "execution_count": 62,
   "outputs": [
    {
     "data": {
      "text/plain": "array([6, 9, 9, 4, 1, 1, 2, 7, 8, 3])"
     },
     "execution_count": 62,
     "metadata": {},
     "output_type": "execute_result"
    }
   ],
   "source": [
    "# 查看标签数据\n",
    "Ytrain[:10]"
   ],
   "metadata": {
    "collapsed": false,
    "pycharm": {
     "name": "#%%\n"
    }
   }
  },
  {
   "cell_type": "code",
   "execution_count": 63,
   "outputs": [],
   "source": [
    "encoder = OneHotEncoder(sparse=False)\n",
    "\n",
    "yy = [[0], [1], [2], [3], [4], [5], [6], [7], [8], [9]]\n",
    "\n",
    "encoder.fit(yy)\n",
    "\n",
    "Ytrain_reshape = Ytrain.reshape(-1, 1)\n",
    "Ytrain_onehot = encoder.transform(Ytrain_reshape)\n",
    "Ytest_reshape = Ytest.reshape(-1, 1)\n",
    "Ytest_onehot = encoder.transform(Ytest_reshape)"
   ],
   "metadata": {
    "collapsed": false,
    "pycharm": {
     "name": "#%%\n"
    }
   }
  },
  {
   "cell_type": "code",
   "execution_count": 64,
   "outputs": [
    {
     "data": {
      "text/plain": "(50000, 10)"
     },
     "execution_count": 64,
     "metadata": {},
     "output_type": "execute_result"
    }
   ],
   "source": [
    "Ytrain_onehot.shape"
   ],
   "metadata": {
    "collapsed": false,
    "pycharm": {
     "name": "#%%\n"
    }
   }
  },
  {
   "cell_type": "code",
   "execution_count": 65,
   "outputs": [
    {
     "data": {
      "text/plain": "array([[0., 0., 0., 0., 0., 0., 1., 0., 0., 0.],\n       [0., 0., 0., 0., 0., 0., 0., 0., 0., 1.],\n       [0., 0., 0., 0., 0., 0., 0., 0., 0., 1.],\n       [0., 0., 0., 0., 1., 0., 0., 0., 0., 0.],\n       [0., 1., 0., 0., 0., 0., 0., 0., 0., 0.]])"
     },
     "execution_count": 65,
     "metadata": {},
     "output_type": "execute_result"
    }
   ],
   "source": [
    "Ytrain_onehot[:5]"
   ],
   "metadata": {
    "collapsed": false,
    "pycharm": {
     "name": "#%%\n"
    }
   }
  },
  {
   "cell_type": "markdown",
   "source": [
    "## 定义共享函数"
   ],
   "metadata": {
    "collapsed": false,
    "pycharm": {
     "name": "#%% md\n"
    }
   }
  },
  {
   "cell_type": "code",
   "execution_count": 66,
   "outputs": [],
   "source": [
    "# 定义权值\n",
    "def weight(shape):\n",
    "    # 在构建模型时，需要使用tfVariable来创建一个变量\n",
    "    # 在训练时，这个变量不断更新\n",
    "    # 使用函数tf.truncated.normal（截断的正态分布）生成标准差为0.1的随机数来初始化权值\n",
    "    return tf.Variable(tf.truncated_normal(shape, stddev=0.1), name=\"W\")\n",
    "\n",
    "\n",
    "# 定义偏置\n",
    "# 初始化0.1\n",
    "def bias(shape):\n",
    "    return tf.Variable(tf.constant(0.1, shape=shape), name=\"b\")\n",
    "\n",
    "\n",
    "# 定义卷积操作\n",
    "# 步长为1，padding为\"SAME\"\n",
    "def conv2d(x, W):\n",
    "    # tf.nn.conv2d(input, filter, strides, padding, use_cudnn_oon_gpu=None, name=None)\n",
    "    return tf.nn.conv2d(x, W, strides=[1, 1, 1, 1], padding=\"SAME\")\n",
    "\n",
    "\n",
    "# 定义池化操作\n",
    "# 步长为2，即原尺寸的长和宽各除以2\n",
    "def max_pool_2x2(x):\n",
    "    # tf.nn.max_pool(value, ksize, strides, padding, name=None)\n",
    "    return tf.nn.max_pool(x, ksize=[1, 2, 2, 1], strides=[1, 2, 2, 1], padding=\"SAME\")"
   ],
   "metadata": {
    "collapsed": false,
    "pycharm": {
     "name": "#%%\n"
    }
   }
  },
  {
   "cell_type": "markdown",
   "source": [
    "## 定义网络结构\n",
    "\n",
    "+ 图像的特征提取：通过卷积层1，降采样层1，卷积层2以及降采样层的处理，提取图像的特征\n",
    "+ 全连接神经网路：全连接层、输出层所组成的网络结构"
   ],
   "metadata": {
    "collapsed": false,
    "pycharm": {
     "name": "#%% md\n"
    }
   }
  },
  {
   "cell_type": "markdown",
   "source": [
    "| 输入层                | 卷积层1                                    | 降采样层1                                      | 卷积层2                                     | 降采样层2                                    | 全连接层                                 | 输出层                      |\n",
    "|--------------------|-----------------------------------------|--------------------------------------------|------------------------------------------|------------------------------------------|--------------------------------------|--------------------------|\n",
    "|  32*32图像，通道为3（RGB） | 第1次卷积：输入通道：3，输出通道：32，卷积后图像尺寸不变，依然是32*32 | 第一次降采样：将32*32图像缩小为16*16；池化不改变通道数量，因此依然是32个 | 第2次卷积：输入通道：32，输出通道：64，卷积后图像尺寸不变，依然是16*16 | 第二次降采样：将16*16图像缩小为8*8；池化不改变通道数量，因此依然是64个 | 将64个8*8的图像转换为长度为4096的一维向量，该层有128个神经元 | 输出层共有10个神经元，对应到0-9这10个类别 |"
   ],
   "metadata": {
    "collapsed": false,
    "pycharm": {
     "name": "#%% md\n"
    }
   }
  },
  {
   "cell_type": "code",
   "execution_count": 67,
   "outputs": [],
   "source": [
    "# 输入层\n",
    "# 32*32图像，通道为3（RGB）\n",
    "with tf.name_scope(\"input_layer\"):\n",
    "    x = tf.placeholder(\"float\", shape=[None, 32, 32, 3], name=\"X\")"
   ],
   "metadata": {
    "collapsed": false,
    "pycharm": {
     "name": "#%%\n"
    }
   }
  },
  {
   "cell_type": "code",
   "execution_count": 68,
   "outputs": [],
   "source": [
    "# 第1个卷积层\n",
    "# 输入通道：3，输出通道：32，卷积后图像尺寸不变，依然是32*32\n",
    "with tf.name_scope(\"conv_1\"):\n",
    "    # [k_width, k_height, input_chn, output_chn]\n",
    "    W1 = weight([3, 3, 3, 32])\n",
    "    b1 = bias([32])\n",
    "    conv_1 = conv2d(x, W1) + b1\n",
    "    conv_1 = tf.nn.relu(conv_1)\n",
    "\n",
    "# 第1个池化层\n",
    "# 将32*32图像缩小为16*16，池化不改变通道数量，因此依然是32个\n",
    "with tf.name_scope(\"pool_1\"):\n",
    "    pool_1 = max_pool_2x2(conv_1)\n",
    "\n",
    "# 第2个卷积层\n",
    "# 输入通道：32，输出通道：64，卷积后图像尺寸不变，依然是16*16\n",
    "with tf.name_scope(\"conv_2\"):\n",
    "    W2 = weight([3, 3, 32, 64])\n",
    "    b2 = bias([64])\n",
    "    conv_2 = conv2d(pool_1, W2) + b2\n",
    "    conv_2 = tf.nn.relu(conv_2)\n",
    "\n",
    "# 第2个池化层\n",
    "# 将16*16图像缩小为8*8，池化不改变通道数量，因此以此是64个\n",
    "with tf.name_scope(\"pool_2\"):\n",
    "    pool_2 = max_pool_2x2(conv_2)\n",
    "\n",
    "# 全连接层\n",
    "# 将第2个池化层的64个8*8的图像转换为一维的向量，长度是64*8*8=4096\n",
    "with tf.name_scope(\"fc\"):\n",
    "    W3 = weight([4096, 128])\n",
    "    b3 = bias([128])\n",
    "    flat = tf.reshape(pool_2, [-1, 4096])\n",
    "    h = tf.nn.relu(tf.matmul(flat, W3) + b3)\n",
    "    h_dropout = tf.nn.dropout(h, keep_prob=0.8)\n"
   ],
   "metadata": {
    "collapsed": false,
    "pycharm": {
     "name": "#%%\n"
    }
   }
  },
  {
   "cell_type": "code",
   "execution_count": 69,
   "outputs": [],
   "source": [
    "# 输出层\n",
    "# 输出层共有10个神经元，对应到0~9这10个类别\n",
    "with tf.name_scope(\"output_layer\"):\n",
    "    W4 = weight([128, 10])\n",
    "    b4 = bias([10])\n",
    "    pred = tf.nn.softmax(tf.matmul(h_dropout, W4) + b4)"
   ],
   "metadata": {
    "collapsed": false,
    "pycharm": {
     "name": "#%%\n"
    }
   }
  },
  {
   "cell_type": "markdown",
   "source": [
    "## 构建模型"
   ],
   "metadata": {
    "collapsed": false,
    "pycharm": {
     "name": "#%% md\n"
    }
   }
  },
  {
   "cell_type": "code",
   "execution_count": 70,
   "outputs": [],
   "source": [
    "with tf.name_scope(\"optimizer\"):\n",
    "    # 定义占位符\n",
    "    y = tf.placeholder(\"float\", shape=[None, 10], name=\"label\")\n",
    "\n",
    "    # 定义损失函数\n",
    "    loss_function = tf.reduce_mean(\n",
    "        tf.nn.softmax_cross_entropy_with_logits(logits=pred, labels=y))\n",
    "\n",
    "    # 选择优化器\n",
    "    optimizer = tf.train.AdamOptimizer(learning_rate=0.0001).minimize(loss_function)"
   ],
   "metadata": {
    "collapsed": false,
    "pycharm": {
     "name": "#%%\n"
    }
   }
  },
  {
   "cell_type": "markdown",
   "source": [
    "## 定义准确率"
   ],
   "metadata": {
    "collapsed": false,
    "pycharm": {
     "name": "#%% md\n"
    }
   }
  },
  {
   "cell_type": "code",
   "execution_count": 71,
   "outputs": [],
   "source": [
    "with tf.name_scope(\"evaluation\"):\n",
    "    correct_prediction = tf.equal(tf.argmax(pred, 1), tf.argmax(y, 1))\n",
    "    accuracy = tf.reduce_mean(tf.cast(correct_prediction, \"float\"))"
   ],
   "metadata": {
    "collapsed": false,
    "pycharm": {
     "name": "#%%\n"
    }
   }
  },
  {
   "cell_type": "markdown",
   "source": [
    "## 定义模型参数"
   ],
   "metadata": {
    "collapsed": false,
    "pycharm": {
     "name": "#%% md\n"
    }
   }
  },
  {
   "cell_type": "code",
   "execution_count": 72,
   "outputs": [],
   "source": [
    "train_epochs = 25\n",
    "batch_size = 50\n",
    "total_batch = int(len(Xtrain) / batch_size)"
   ],
   "metadata": {
    "collapsed": false,
    "pycharm": {
     "name": "#%%\n"
    }
   }
  },
  {
   "cell_type": "markdown",
   "source": [
    "## 启动会话"
   ],
   "metadata": {
    "collapsed": false,
    "pycharm": {
     "name": "#%% md\n"
    }
   }
  },
  {
   "cell_type": "code",
   "execution_count": 73,
   "outputs": [],
   "source": [
    "epoch_list = []\n",
    "accuracy_list = []\n",
    "loss_list = []\n",
    "epoch = tf.Variable(0, name=\"epoch\", trainable=False)\n",
    "\n",
    "startTime = time()\n",
    "\n",
    "session = tf.Session()\n",
    "init = tf.global_variables_initializer()\n",
    "session.run(init)"
   ],
   "metadata": {
    "collapsed": false,
    "pycharm": {
     "name": "#%%\n"
    }
   }
  },
  {
   "cell_type": "markdown",
   "source": [
    "## 断点续训"
   ],
   "metadata": {
    "collapsed": false,
    "pycharm": {
     "name": "#%% md\n"
    }
   }
  },
  {
   "cell_type": "code",
   "execution_count": 74,
   "outputs": [
    {
     "name": "stdout",
     "output_type": "stream",
     "text": [
      "Training from scratch\n",
      "Training starts from 1 epoch\n"
     ]
    }
   ],
   "source": [
    "# 设置检查点存储目录\n",
    "ckpt_dir = \"Model_ckpt/8-CIFAR/\"\n",
    "\n",
    "if not os.path.exists(ckpt_dir):\n",
    "    os.makedirs(ckpt_dir)\n",
    "\n",
    "# 生成saver\n",
    "saver = tf.train.Saver(max_to_keep=1)\n",
    "\n",
    "# 如果有检查点文件，读取最新的检查点文件，恢复各种变量值\n",
    "ckpt = tf.train.latest_checkpoint(ckpt_dir)\n",
    "if ckpt != None:\n",
    "    # 恢复所有参数\n",
    "    saver.restore(session, ckpt)\n",
    "else:\n",
    "    # 从恢复点使用模型预测，或接着训练\n",
    "    print(\"Training from scratch\")\n",
    "\n",
    "# 获取续训参数\n",
    "start = session.run(epoch)\n",
    "print(\"Training starts from {} epoch\".format(start + 1))"
   ],
   "metadata": {
    "collapsed": false,
    "pycharm": {
     "name": "#%%\n"
    }
   }
  },
  {
   "cell_type": "markdown",
   "source": [
    "## 迭代训练\n",
    "\n",
    "改进方式（根据个人可利用的计算资源）\n",
    "\n",
    "+ 增加网络层数\n",
    "+ 增加迭代次数\n",
    "+ 增加全连接层数\n",
    "+ 增加全连接层的神经元个数\n",
    "+ 数据扩增\n",
    "+ ..."
   ],
   "metadata": {
    "collapsed": false,
    "pycharm": {
     "name": "#%% md\n"
    }
   }
  },
  {
   "cell_type": "code",
   "execution_count": 75,
   "outputs": [
    {
     "name": "stdout",
     "output_type": "stream",
     "text": [
      "Step: 0 Finish\n",
      "Step: 100 Finish\n",
      "Step: 200 Finish\n",
      "Step: 300 Finish\n",
      "Step: 400 Finish\n",
      "Step: 500 Finish\n",
      "Step: 600 Finish\n",
      "Step: 700 Finish\n",
      "Step: 800 Finish\n",
      "Step: 900 Finish\n",
      "Train epoch: 01 Loss= 2.218248 Accuracy= 0.24\n",
      "Step: 0 Finish\n",
      "Step: 100 Finish\n",
      "Step: 200 Finish\n",
      "Step: 300 Finish\n",
      "Step: 400 Finish\n",
      "Step: 500 Finish\n",
      "Step: 600 Finish\n",
      "Step: 700 Finish\n",
      "Step: 800 Finish\n",
      "Step: 900 Finish\n",
      "Train epoch: 02 Loss= 2.136147 Accuracy= 0.38\n",
      "Step: 0 Finish\n",
      "Step: 100 Finish\n",
      "Step: 200 Finish\n",
      "Step: 300 Finish\n",
      "Step: 400 Finish\n",
      "Step: 500 Finish\n",
      "Step: 600 Finish\n",
      "Step: 700 Finish\n",
      "Step: 800 Finish\n",
      "Step: 900 Finish\n",
      "Train epoch: 03 Loss= 2.124821 Accuracy= 0.34\n",
      "Step: 0 Finish\n",
      "Step: 100 Finish\n",
      "Step: 200 Finish\n",
      "Step: 300 Finish\n",
      "Step: 400 Finish\n",
      "Step: 500 Finish\n",
      "Step: 600 Finish\n",
      "Step: 700 Finish\n",
      "Step: 800 Finish\n",
      "Step: 900 Finish\n",
      "Train epoch: 04 Loss= 2.149383 Accuracy= 0.3\n",
      "Step: 0 Finish\n",
      "Step: 100 Finish\n",
      "Step: 200 Finish\n",
      "Step: 300 Finish\n",
      "Step: 400 Finish\n",
      "Step: 500 Finish\n",
      "Step: 600 Finish\n",
      "Step: 700 Finish\n",
      "Step: 800 Finish\n",
      "Step: 900 Finish\n",
      "Train epoch: 05 Loss= 2.118335 Accuracy= 0.32\n",
      "Step: 0 Finish\n",
      "Step: 100 Finish\n",
      "Step: 200 Finish\n",
      "Step: 300 Finish\n",
      "Step: 400 Finish\n",
      "Step: 500 Finish\n",
      "Step: 600 Finish\n",
      "Step: 700 Finish\n",
      "Step: 800 Finish\n",
      "Step: 900 Finish\n",
      "Train epoch: 06 Loss= 2.085828 Accuracy= 0.36\n",
      "Step: 0 Finish\n",
      "Step: 100 Finish\n",
      "Step: 200 Finish\n",
      "Step: 300 Finish\n",
      "Step: 400 Finish\n",
      "Step: 500 Finish\n",
      "Step: 600 Finish\n",
      "Step: 700 Finish\n",
      "Step: 800 Finish\n",
      "Step: 900 Finish\n",
      "Train epoch: 07 Loss= 2.090150 Accuracy= 0.38\n",
      "Step: 0 Finish\n",
      "Step: 100 Finish\n",
      "Step: 200 Finish\n",
      "Step: 300 Finish\n",
      "Step: 400 Finish\n",
      "Step: 500 Finish\n",
      "Step: 600 Finish\n",
      "Step: 700 Finish\n",
      "Step: 800 Finish\n",
      "Step: 900 Finish\n",
      "Train epoch: 08 Loss= 2.085219 Accuracy= 0.36\n",
      "Step: 0 Finish\n",
      "Step: 100 Finish\n",
      "Step: 200 Finish\n",
      "Step: 300 Finish\n",
      "Step: 400 Finish\n",
      "Step: 500 Finish\n",
      "Step: 600 Finish\n",
      "Step: 700 Finish\n",
      "Step: 800 Finish\n",
      "Step: 900 Finish\n",
      "Train epoch: 09 Loss= 2.056520 Accuracy= 0.38\n",
      "Step: 0 Finish\n",
      "Step: 100 Finish\n",
      "Step: 200 Finish\n",
      "Step: 300 Finish\n",
      "Step: 400 Finish\n",
      "Step: 500 Finish\n",
      "Step: 600 Finish\n",
      "Step: 700 Finish\n",
      "Step: 800 Finish\n",
      "Step: 900 Finish\n",
      "Train epoch: 10 Loss= 2.018082 Accuracy= 0.44\n",
      "Step: 0 Finish\n",
      "Step: 100 Finish\n",
      "Step: 200 Finish\n",
      "Step: 300 Finish\n",
      "Step: 400 Finish\n",
      "Step: 500 Finish\n",
      "Step: 600 Finish\n",
      "Step: 700 Finish\n",
      "Step: 800 Finish\n",
      "Step: 900 Finish\n",
      "Train epoch: 11 Loss= 2.003387 Accuracy= 0.46\n",
      "Step: 0 Finish\n",
      "Step: 100 Finish\n",
      "Step: 200 Finish\n",
      "Step: 300 Finish\n",
      "Step: 400 Finish\n",
      "Step: 500 Finish\n",
      "Step: 600 Finish\n",
      "Step: 700 Finish\n",
      "Step: 800 Finish\n",
      "Step: 900 Finish\n",
      "Train epoch: 12 Loss= 2.051374 Accuracy= 0.4\n",
      "Step: 0 Finish\n",
      "Step: 100 Finish\n",
      "Step: 200 Finish\n",
      "Step: 300 Finish\n",
      "Step: 400 Finish\n",
      "Step: 500 Finish\n",
      "Step: 600 Finish\n",
      "Step: 700 Finish\n",
      "Step: 800 Finish\n",
      "Step: 900 Finish\n",
      "Train epoch: 13 Loss= 2.007448 Accuracy= 0.48\n",
      "Step: 0 Finish\n",
      "Step: 100 Finish\n",
      "Step: 200 Finish\n",
      "Step: 300 Finish\n",
      "Step: 400 Finish\n",
      "Step: 500 Finish\n",
      "Step: 600 Finish\n",
      "Step: 700 Finish\n",
      "Step: 800 Finish\n",
      "Step: 900 Finish\n",
      "Train epoch: 14 Loss= 2.013439 Accuracy= 0.42\n",
      "Step: 0 Finish\n",
      "Step: 100 Finish\n",
      "Step: 200 Finish\n",
      "Step: 300 Finish\n",
      "Step: 400 Finish\n",
      "Step: 500 Finish\n",
      "Step: 600 Finish\n",
      "Step: 700 Finish\n",
      "Step: 800 Finish\n",
      "Step: 900 Finish\n",
      "Train epoch: 15 Loss= 2.002860 Accuracy= 0.42\n",
      "Step: 0 Finish\n",
      "Step: 100 Finish\n",
      "Step: 200 Finish\n",
      "Step: 300 Finish\n",
      "Step: 400 Finish\n",
      "Step: 500 Finish\n",
      "Step: 600 Finish\n",
      "Step: 700 Finish\n",
      "Step: 800 Finish\n",
      "Step: 900 Finish\n",
      "Train epoch: 16 Loss= 1.961292 Accuracy= 0.52\n",
      "Step: 0 Finish\n",
      "Step: 100 Finish\n",
      "Step: 200 Finish\n",
      "Step: 300 Finish\n",
      "Step: 400 Finish\n",
      "Step: 500 Finish\n",
      "Step: 600 Finish\n",
      "Step: 700 Finish\n",
      "Step: 800 Finish\n",
      "Step: 900 Finish\n",
      "Train epoch: 17 Loss= 1.982371 Accuracy= 0.48\n",
      "Step: 0 Finish\n",
      "Step: 100 Finish\n",
      "Step: 200 Finish\n",
      "Step: 300 Finish\n",
      "Step: 400 Finish\n",
      "Step: 500 Finish\n",
      "Step: 600 Finish\n",
      "Step: 700 Finish\n",
      "Step: 800 Finish\n",
      "Step: 900 Finish\n",
      "Train epoch: 18 Loss= 1.991476 Accuracy= 0.44\n",
      "Step: 0 Finish\n",
      "Step: 100 Finish\n",
      "Step: 200 Finish\n",
      "Step: 300 Finish\n",
      "Step: 400 Finish\n",
      "Step: 500 Finish\n",
      "Step: 600 Finish\n",
      "Step: 700 Finish\n",
      "Step: 800 Finish\n",
      "Step: 900 Finish\n",
      "Train epoch: 19 Loss= 1.965716 Accuracy= 0.44\n",
      "Step: 0 Finish\n",
      "Step: 100 Finish\n",
      "Step: 200 Finish\n",
      "Step: 300 Finish\n",
      "Step: 400 Finish\n",
      "Step: 500 Finish\n",
      "Step: 600 Finish\n",
      "Step: 700 Finish\n",
      "Step: 800 Finish\n",
      "Step: 900 Finish\n",
      "Train epoch: 20 Loss= 1.972886 Accuracy= 0.5\n",
      "Step: 0 Finish\n",
      "Step: 100 Finish\n",
      "Step: 200 Finish\n",
      "Step: 300 Finish\n",
      "Step: 400 Finish\n",
      "Step: 500 Finish\n",
      "Step: 600 Finish\n",
      "Step: 700 Finish\n",
      "Step: 800 Finish\n",
      "Step: 900 Finish\n",
      "Train epoch: 21 Loss= 1.956259 Accuracy= 0.48\n",
      "Step: 0 Finish\n",
      "Step: 100 Finish\n",
      "Step: 200 Finish\n",
      "Step: 300 Finish\n",
      "Step: 400 Finish\n",
      "Step: 500 Finish\n",
      "Step: 600 Finish\n",
      "Step: 700 Finish\n",
      "Step: 800 Finish\n",
      "Step: 900 Finish\n",
      "Train epoch: 22 Loss= 1.970881 Accuracy= 0.46\n",
      "Step: 0 Finish\n",
      "Step: 100 Finish\n",
      "Step: 200 Finish\n",
      "Step: 300 Finish\n",
      "Step: 400 Finish\n",
      "Step: 500 Finish\n",
      "Step: 600 Finish\n",
      "Step: 700 Finish\n",
      "Step: 800 Finish\n",
      "Step: 900 Finish\n",
      "Train epoch: 23 Loss= 1.990355 Accuracy= 0.46\n",
      "Step: 0 Finish\n",
      "Step: 100 Finish\n",
      "Step: 200 Finish\n",
      "Step: 300 Finish\n",
      "Step: 400 Finish\n",
      "Step: 500 Finish\n",
      "Step: 600 Finish\n",
      "Step: 700 Finish\n",
      "Step: 800 Finish\n",
      "Step: 900 Finish\n",
      "Train epoch: 24 Loss= 1.955424 Accuracy= 0.5\n",
      "Step: 0 Finish\n",
      "Step: 100 Finish\n",
      "Step: 200 Finish\n",
      "Step: 300 Finish\n",
      "Step: 400 Finish\n",
      "Step: 500 Finish\n",
      "Step: 600 Finish\n",
      "Step: 700 Finish\n",
      "Step: 800 Finish\n",
      "Step: 900 Finish\n",
      "Train epoch: 25 Loss= 1.947818 Accuracy= 0.5\n",
      "Train finished takes:  25276.171506881714\n"
     ]
    }
   ],
   "source": [
    "def get_train_batch(number, batch_size):\n",
    "    return Xtrain_normalize[number *\n",
    "                            batch_size:(number + 1) * batch_size], Ytrain_onehot[number *\n",
    "                                                                                 batch_size:(number + 1) * batch_size]\n",
    "\n",
    "\n",
    "for ep in range(start, train_epochs):\n",
    "    for i in range(total_batch):\n",
    "        batch_x, batch_y = get_train_batch(i, batch_size)\n",
    "        session.run(optimizer, feed_dict={x: batch_x, y: batch_y})\n",
    "\n",
    "        if i % 100 == 0:\n",
    "            print(\"Step: {}\".format(i), \"Finish\")\n",
    "\n",
    "    loss, acc = session.run([loss_function, accuracy], feed_dict={x: batch_x, y: batch_y})\n",
    "\n",
    "    epoch_list.append(ep + 1)\n",
    "    loss_list.append(loss)\n",
    "    accuracy_list.append(acc)\n",
    "\n",
    "    print(\"Train epoch:\", \"%02d\" % (session.run(epoch) + 1),\n",
    "          \"Loss=\", \"{:.6f}\".format(loss),\n",
    "          \"Accuracy=\", acc)\n",
    "\n",
    "    # 保存检查点\n",
    "    saver.save(session, ckpt_dir + \"CIFAR10_cnn_model.ckpt\", global_step=ep + 1)\n",
    "    session.run(epoch.assign(ep + 1))\n",
    "\n",
    "duration = time() - startTime\n",
    "print(\"Train finished takes: \", duration)"
   ],
   "metadata": {
    "collapsed": false,
    "pycharm": {
     "name": "#%%\n"
    }
   }
  },
  {
   "cell_type": "markdown",
   "source": [
    "## 可视化损失值"
   ],
   "metadata": {
    "collapsed": false,
    "pycharm": {
     "name": "#%% md\n"
    }
   }
  },
  {
   "cell_type": "code",
   "execution_count": 77,
   "outputs": [
    {
     "data": {
      "text/plain": "<matplotlib.legend.Legend at 0x2c74ce0eef0>"
     },
     "execution_count": 77,
     "metadata": {},
     "output_type": "execute_result"
    },
    {
     "data": {
      "text/plain": "<Figure size 432x288 with 1 Axes>",
      "image/png": "[encoded data removed]"
     },
     "metadata": {
      "needs_background": "light"
     },
     "output_type": "display_data"
    }
   ],
   "source": [
    "flg = plt.gcf()\n",
    "# flg.set_size_inches(4,2)\n",
    "plt.plot(epoch_list, loss_list, label=\"loss\")\n",
    "plt.xlabel(\"epoch\")\n",
    "plt.ylabel(\"loss\")\n",
    "plt.legend([\"loss\"], loc=\"upper right\")"
   ],
   "metadata": {
    "collapsed": false,
    "pycharm": {
     "name": "#%%\n"
    }
   }
  },
  {
   "cell_type": "markdown",
   "source": [
    "## 可视化准确率"
   ],
   "metadata": {
    "collapsed": false,
    "pycharm": {
     "name": "#%% md\n"
    }
   }
  },
  {
   "cell_type": "code",
   "execution_count": 80,
   "outputs": [
    {
     "data": {
      "text/plain": "<Figure size 432x288 with 1 Axes>",
      "image/png": "[encoded data removed]"
     },
     "metadata": {
      "needs_background": "light"
     },
     "output_type": "display_data"
    }
   ],
   "source": [
    "plt.plot(epoch_list, accuracy_list, label=\"accuracy\")\n",
    "fig = plt.gcf()\n",
    "plt.ylim(0.1, 1)\n",
    "plt.xlabel(\"epoch\")\n",
    "plt.ylabel(\"accuracy\")\n",
    "plt.legend()\n",
    "plt.show()"
   ],
   "metadata": {
    "collapsed": false,
    "pycharm": {
     "name": "#%%\n"
    }
   }
  },
  {
   "cell_type": "markdown",
   "source": [
    "## 评估模型"
   ],
   "metadata": {
    "collapsed": false,
    "pycharm": {
     "name": "#%% md\n"
    }
   }
  },
  {
   "cell_type": "code",
   "execution_count": 83,
   "outputs": [
    {
     "name": "stdout",
     "output_type": "stream",
     "text": [
      "Test accuracy: 0.595800\n"
     ]
    }
   ],
   "source": [
    "test_total_batch = int(len(Xtest_normalize) / batch_size)\n",
    "test_acc_sum = 0.0\n",
    "\n",
    "for i in range(test_total_batch):\n",
    "    test_image_batch = Xtest_normalize[i * batch_size:(i + 1) * batch_size]\n",
    "    test_label_batch = Ytest_onehot[i * batch_size:(i + 1) * batch_size]\n",
    "    test_batch_acc = session.run(accuracy, feed_dict={x: test_image_batch, y: test_label_batch})\n",
    "    test_acc_sum += test_batch_acc\n",
    "\n",
    "test_acc = float(test_acc_sum / test_total_batch)\n",
    "print(\"Test accuracy: {:.6f}\".format(test_acc))"
   ],
   "metadata": {
    "collapsed": false,
    "pycharm": {
     "name": "#%%\n"
    }
   }
  },
  {
   "cell_type": "markdown",
   "source": [
    "## 利用模型进行预测"
   ],
   "metadata": {
    "collapsed": false,
    "pycharm": {
     "name": "#%% md\n"
    }
   }
  },
  {
   "cell_type": "code",
   "execution_count": 85,
   "outputs": [],
   "source": [
    "test_pred = session.run(pred, feed_dict={x: Xtest_normalize[:10]})\n",
    "prediction_result = session.run(tf.argmax(test_pred, 1))"
   ],
   "metadata": {
    "collapsed": false,
    "pycharm": {
     "name": "#%%\n"
    }
   }
  },
  {
   "cell_type": "markdown",
   "source": [
    "## 可视化预测结果"
   ],
   "metadata": {
    "collapsed": false,
    "pycharm": {
     "name": "#%% md\n"
    }
   }
  },
  {
   "cell_type": "code",
   "execution_count": 86,
   "outputs": [
    {
     "data": {
      "text/plain": "<Figure size 864x432 with 10 Axes>",
      "image/png": "[encoded data removed]"
     },
     "metadata": {
      "needs_background": "light"
     },
     "output_type": "display_data"
    }
   ],
   "source": [
    "plot_images_labels_prediction(Xtest, Ytest, prediction_result, 0, 10)"
   ],
   "metadata": {
    "collapsed": false,
    "pycharm": {
     "name": "#%%\n"
    }
   }
  }
 ],
 "metadata": {
  "kernelspec": {
   "display_name": "Python 3",
   "language": "python",
   "name": "python3"
  },
  "language_info": {
   "codemirror_mode": {
    "name": "ipython",
    "version": 2
   },
   "file_extension": ".py",
   "mimetype": "text/x-python",
   "name": "python",
   "nbconvert_exporter": "python",
   "pygments_lexer": "ipython2",
   "version": "2.7.6"
  }
 },
 "nbformat": 4,
 "nbformat_minor": 0
}