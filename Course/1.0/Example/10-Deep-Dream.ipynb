{
 "cells": [
  {
   "cell_type": "markdown",
   "metadata": {
    "collapsed": true,
    "pycharm": {
     "name": "#%% md\n"
    }
   },
   "source": [
    "## DeepDream - 深度理解神经网路结构及应用"
   ]
  },
  {
   "cell_type": "code",
   "execution_count": 23,
   "outputs": [],
   "source": [
    "from __future__ import print_function\n",
    "\n",
    "import numpy as np\n",
    "import scipy.misc\n",
    "import tensorflow as tf\n",
    "from PIL import Image"
   ],
   "metadata": {
    "collapsed": false,
    "pycharm": {
     "name": "#%%\n"
    }
   }
  },
  {
   "cell_type": "markdown",
   "source": [
    "## 创建图和会话"
   ],
   "metadata": {
    "collapsed": false,
    "pycharm": {
     "name": "#%% md\n"
    }
   }
  },
  {
   "cell_type": "code",
   "execution_count": 24,
   "outputs": [
    {
     "name": "stderr",
     "output_type": "stream",
     "text": [
      "D:\\Anaconda3\\envs\\Python36\\lib\\site-packages\\tensorflow\\python\\client\\session.py:1645: UserWarning: An interactive session is already active. This can cause out-of-memory errors in some cases. You must explicitly call `InteractiveSession.close()` to release resources held by the other session(s).\n",
      "  warnings.warn('An interactive session is already active. This can '\n"
     ]
    }
   ],
   "source": [
    "graph = tf.Graph()\n",
    "session = tf.InteractiveSession(graph=graph)"
   ],
   "metadata": {
    "collapsed": false,
    "pycharm": {
     "name": "#%%\n"
    }
   }
  },
  {
   "cell_type": "markdown",
   "source": [
    "## Inception模型（开源已训练完成模型）的加载"
   ],
   "metadata": {
    "collapsed": false,
    "pycharm": {
     "name": "#%% md\n"
    }
   }
  },
  {
   "cell_type": "code",
   "execution_count": 25,
   "outputs": [],
   "source": [
    "model_fn = \"Data/Deep-Dream/tensorflow_inception_graph.pb\"\n",
    "with tf.gfile.FastGFile(model_fn, \"rb\") as f:\n",
    "    graph_def = tf.GraphDef()\n",
    "    graph_def.ParseFromString(f.read())"
   ],
   "metadata": {
    "collapsed": false,
    "pycharm": {
     "name": "#%%\n"
    }
   }
  },
  {
   "cell_type": "code",
   "execution_count": 26,
   "outputs": [],
   "source": [
    "# 定义输入图像的占位符\n",
    "t_input = tf.placeholder(np.float32, name=\"input\")\n",
    "\n",
    "# 图像预处理 - 减均值\n",
    "# 开源Inception模型在训练时做了减均值预处理，此处也需坚强同样的均值以保持一致\n",
    "imagenet_mean = 117.0\n",
    "\n",
    "# 图像预处理 - 增加维度\n",
    "# 图像数据格式一般是（height 高度，width 宽度，channels 通道），为同时将多张图片输入网络而在前面增加一维\n",
    "# 变为（batch，height，width，channels）\n",
    "# batch代表将多张图像送入网络\n",
    "# 0代表在Tensor下标为0位置进行插入，即头插入，-1则代表从后往前插入，即尾插\n",
    "# 若为1则为在下标0与2中间进行插入，往后同理\n",
    "t_preprocessed = tf.expand_dims(t_input - imagenet_mean, 0)\n",
    "\n",
    "# 导入模型并将预处理的图像送入网络中\n",
    "tf.import_graph_def(graph_def, {\"input\": t_preprocessed})"
   ],
   "metadata": {
    "collapsed": false,
    "pycharm": {
     "name": "#%%\n"
    }
   }
  },
  {
   "cell_type": "markdown",
   "source": [
    "## 找到卷积层"
   ],
   "metadata": {
    "collapsed": false,
    "pycharm": {
     "name": "#%% md\n"
    }
   }
  },
  {
   "cell_type": "code",
   "execution_count": 27,
   "outputs": [
    {
     "name": "stdout",
     "output_type": "stream",
     "text": [
      "Number of layers:  59\n"
     ]
    }
   ],
   "source": [
    "layers = [op.name for op in graph.get_operations() if op.type == \"Conv2D\" and \"import/\" in op.name]\n",
    "\n",
    "# 卷积层层数\n",
    "print(\"Number of layers: \", len(layers))"
   ],
   "metadata": {
    "collapsed": false,
    "pycharm": {
     "name": "#%%\n"
    }
   }
  },
  {
   "cell_type": "code",
   "execution_count": 28,
   "outputs": [
    {
     "name": "stdout",
     "output_type": "stream",
     "text": [
      "['import/conv2d0_pre_relu/conv', 'import/conv2d1_pre_relu/conv', 'import/conv2d2_pre_relu/conv', 'import/mixed3a_1x1_pre_relu/conv', 'import/mixed3a_3x3_bottleneck_pre_relu/conv', 'import/mixed3a_3x3_pre_relu/conv', 'import/mixed3a_5x5_bottleneck_pre_relu/conv', 'import/mixed3a_5x5_pre_relu/conv', 'import/mixed3a_pool_reduce_pre_relu/conv', 'import/mixed3b_1x1_pre_relu/conv', 'import/mixed3b_3x3_bottleneck_pre_relu/conv', 'import/mixed3b_3x3_pre_relu/conv', 'import/mixed3b_5x5_bottleneck_pre_relu/conv', 'import/mixed3b_5x5_pre_relu/conv', 'import/mixed3b_pool_reduce_pre_relu/conv', 'import/mixed4a_1x1_pre_relu/conv', 'import/mixed4a_3x3_bottleneck_pre_relu/conv', 'import/mixed4a_3x3_pre_relu/conv', 'import/mixed4a_5x5_bottleneck_pre_relu/conv', 'import/mixed4a_5x5_pre_relu/conv', 'import/mixed4a_pool_reduce_pre_relu/conv', 'import/mixed4b_1x1_pre_relu/conv', 'import/mixed4b_3x3_bottleneck_pre_relu/conv', 'import/mixed4b_3x3_pre_relu/conv', 'import/mixed4b_5x5_bottleneck_pre_relu/conv', 'import/mixed4b_5x5_pre_relu/conv', 'import/mixed4b_pool_reduce_pre_relu/conv', 'import/mixed4c_1x1_pre_relu/conv', 'import/mixed4c_3x3_bottleneck_pre_relu/conv', 'import/mixed4c_3x3_pre_relu/conv', 'import/mixed4c_5x5_bottleneck_pre_relu/conv', 'import/mixed4c_5x5_pre_relu/conv', 'import/mixed4c_pool_reduce_pre_relu/conv', 'import/mixed4d_1x1_pre_relu/conv', 'import/mixed4d_3x3_bottleneck_pre_relu/conv', 'import/mixed4d_3x3_pre_relu/conv', 'import/mixed4d_5x5_bottleneck_pre_relu/conv', 'import/mixed4d_5x5_pre_relu/conv', 'import/mixed4d_pool_reduce_pre_relu/conv', 'import/mixed4e_1x1_pre_relu/conv', 'import/mixed4e_3x3_bottleneck_pre_relu/conv', 'import/mixed4e_3x3_pre_relu/conv', 'import/mixed4e_5x5_bottleneck_pre_relu/conv', 'import/mixed4e_5x5_pre_relu/conv', 'import/mixed4e_pool_reduce_pre_relu/conv', 'import/mixed5a_1x1_pre_relu/conv', 'import/mixed5a_3x3_bottleneck_pre_relu/conv', 'import/mixed5a_3x3_pre_relu/conv', 'import/mixed5a_5x5_bottleneck_pre_relu/conv', 'import/mixed5a_5x5_pre_relu/conv', 'import/mixed5a_pool_reduce_pre_relu/conv', 'import/mixed5b_1x1_pre_relu/conv', 'import/mixed5b_3x3_bottleneck_pre_relu/conv', 'import/mixed5b_3x3_pre_relu/conv', 'import/mixed5b_5x5_bottleneck_pre_relu/conv', 'import/mixed5b_5x5_pre_relu/conv', 'import/mixed5b_pool_reduce_pre_relu/conv', 'import/head0_bottleneck_pre_relu/conv', 'import/head1_bottleneck_pre_relu/conv']\n"
     ]
    }
   ],
   "source": [
    "# 输出所有卷积层名称\n",
    "print(layers)"
   ],
   "metadata": {
    "collapsed": false,
    "pycharm": {
     "name": "#%%\n"
    }
   }
  },
  {
   "cell_type": "code",
   "execution_count": 29,
   "outputs": [
    {
     "name": "stdout",
     "output_type": "stream",
     "text": [
      "shape of mixed4d_3x3_bottleneck_pre_relu:(?, ?, ?, 144)\n",
      "shape of mixed4e_5x5_bottleneck_pre_relu:(?, ?, ?, 32)\n"
     ]
    }
   ],
   "source": [
    "# 输出指定卷积层的参数\n",
    "name = \"mixed4d_3x3_bottleneck_pre_relu\"\n",
    "print(\"shape of %s:%s\" % (name, str(graph.get_tensor_by_name(\"import/\" + name + \":0\").get_shape())))\n",
    "\n",
    "name2 = \"mixed4e_5x5_bottleneck_pre_relu\"\n",
    "print(\"shape of %s:%s\" % (name2, str(graph.get_tensor_by_name(\"import/\" + name2 + \":0\").get_shape())))"
   ],
   "metadata": {
    "collapsed": false,
    "pycharm": {
     "name": "#%%\n"
    }
   }
  },
  {
   "cell_type": "markdown",
   "source": [
    "## 生成原始Deep Dream图像（单通道）"
   ],
   "metadata": {
    "collapsed": false,
    "pycharm": {
     "name": "#%% md\n"
    }
   }
  },
  {
   "cell_type": "code",
   "execution_count": 30,
   "outputs": [],
   "source": [
    "# 把一个numpy.ndarray保存成图像文件\n",
    "def savearray(img_array, img_name):\n",
    "    # 如果想保存成RGB图片，则将上面的 'L'  改为 'RGB' 即可\n",
    "    # Image.fromarray(img_array).convert(\"L\").save(img_name)\n",
    "    # Image.fromarray(img_array).save(img_name)\n",
    "    scipy.misc.toimage(img_array).save(img_name)\n",
    "    print(\"img saved: %s\" % img_name)"
   ],
   "metadata": {
    "collapsed": false,
    "pycharm": {
     "name": "#%%\n"
    }
   }
  },
  {
   "cell_type": "code",
   "execution_count": 31,
   "outputs": [],
   "source": [
    "# 渲染函数\n",
    "# t_obj：是layer_output[:, :, :, channel]，即卷积层某个通道的值\n",
    "# img0：初始图像（噪声图像）\n",
    "# iter_n：迭代次数\n",
    "# step：用于控制每次迭代步长，可以看作学习率\n",
    "def render_naive_function(t_obj, img0, iter_n=20, step=1.0):\n",
    "    # t_score是t_obj的平均值\n",
    "    # 由于我们的目标是调整输出图像使卷积层激活值尽可能大\n",
    "    # 即最大化t_score\n",
    "    # 为达到此目标，可使用梯度下降\n",
    "    # 计算t_score对t_input的梯度\n",
    "    t_score = tf.reduce_mean(t_obj)\n",
    "\n",
    "    t_grad = tf.gradients(t_score, t_input)[0]\n",
    "\n",
    "    # 复制新图像可避免影响原图像的值\n",
    "    img = img0.copy()\n",
    "\n",
    "    for i in range(iter_n):\n",
    "        # 在session中计算梯度，以及当前的t_score\n",
    "        g, score = session.run([t_grad, t_score], feed_dict={t_input: img})\n",
    "\n",
    "        # 对img应用梯度\n",
    "        # 首先对梯度进行归一化处理\n",
    "        # 1e-8：0.00000001，即1 * 10^(-8)\n",
    "        g /= g.std() + 1e-8\n",
    "\n",
    "        # 将正规化处理后的梯度应用在图像上，step用于控制每次迭代步长，此处为1.0\n",
    "        img += g * step\n",
    "\n",
    "        print(\"iter: %d\" % (i + 1), \"score(mean) = %f\" % score)\n",
    "\n",
    "    # 保存图片\n",
    "    savearray(img, \"Image/naive_deep_dream.jpg\")"
   ],
   "metadata": {
    "collapsed": false,
    "pycharm": {
     "name": "#%%\n"
    }
   }
  },
  {
   "cell_type": "code",
   "execution_count": 32,
   "outputs": [
    {
     "name": "stdout",
     "output_type": "stream",
     "text": [
      "iter: 1 score(mean) = -20.084309\n",
      "iter: 2 score(mean) = -32.286839\n",
      "iter: 3 score(mean) = 25.363852\n",
      "iter: 4 score(mean) = 91.472725\n",
      "iter: 5 score(mean) = 150.023575\n",
      "iter: 6 score(mean) = 201.139053\n",
      "iter: 7 score(mean) = 262.625397\n",
      "iter: 8 score(mean) = 329.964844\n",
      "iter: 9 score(mean) = 368.014954\n",
      "iter: 10 score(mean) = 416.939453\n",
      "iter: 11 score(mean) = 456.069672\n",
      "iter: 12 score(mean) = 496.902832\n",
      "iter: 13 score(mean) = 537.332153\n",
      "iter: 14 score(mean) = 562.979187\n",
      "iter: 15 score(mean) = 598.710266\n",
      "iter: 16 score(mean) = 630.103699\n",
      "iter: 17 score(mean) = 656.299927\n",
      "iter: 18 score(mean) = 688.252625\n",
      "iter: 19 score(mean) = 711.564026\n",
      "iter: 20 score(mean) = 733.312195\n",
      "img saved: Image/naive_deep_dream.jpg\n"
     ]
    },
    {
     "name": "stderr",
     "output_type": "stream",
     "text": [
      "D:\\Anaconda3\\envs\\Python36\\lib\\site-packages\\ipykernel_launcher.py:6: DeprecationWarning: `toimage` is deprecated!\n",
      "`toimage` is deprecated in SciPy 1.0.0, and will be removed in 1.2.0.\n",
      "Use Pillow's ``Image.fromarray`` directly instead.\n",
      "  \n"
     ]
    }
   ],
   "source": [
    "channel = 139\n",
    "# \"mixed4a_3x3_bottleneck_pre_relu\"共144个通道\n",
    "# 选取任意通道（0 ~ 143之间任意整数）进行最大化\n",
    "layer_output = graph.get_tensor_by_name(\"import/%s: 0\" % name)\n",
    "\n",
    "# 定义噪声图像\n",
    "image_noise = np.random.uniform(size=(224, 224, 3)) + 100.0\n",
    "\n",
    "# 调用render_naive_function函数渲染\n",
    "render_naive_function(layer_output[:, :, :, channel], image_noise, iter_n=20)\n",
    "\n",
    "# 保存并显示图片\n",
    "im = Image.open(\"Image/naive_deep_dream.jpg\")\n",
    "im.show()\n",
    "im.save(\"Image/naive_single_chn.jpg\")"
   ],
   "metadata": {
    "collapsed": false,
    "pycharm": {
     "name": "#%%\n"
    }
   }
  },
  {
   "cell_type": "markdown",
   "source": [
    "## 较低层单通道卷积特征生成Deep Dream图像"
   ],
   "metadata": {
    "collapsed": false,
    "pycharm": {
     "name": "#%% md\n"
    }
   }
  },
  {
   "cell_type": "code",
   "execution_count": 33,
   "outputs": [
    {
     "name": "stdout",
     "output_type": "stream",
     "text": [
      "shape of mixed3a_3x3_bottleneck_pre_relu: (?, ?, ?, 96)\n"
     ]
    }
   ],
   "source": [
    "# 定义卷积层、通道数，并取出对应Tensor\n",
    "name3 = \"mixed3a_3x3_bottleneck_pre_relu\"\n",
    "layer_output = graph.get_tensor_by_name(\"import/%s:0\" % name3)\n",
    "print(\"shape of %s: %s\" % (name3, str(graph.get_tensor_by_name(\"import/\" + name3 + \":0\").get_shape()),))"
   ],
   "metadata": {
    "collapsed": false,
    "pycharm": {
     "name": "#%%\n"
    }
   }
  },
  {
   "cell_type": "markdown",
   "source": [
    "## 高层单通道卷积特征生成Deep Dream图像"
   ],
   "metadata": {
    "collapsed": false,
    "pycharm": {
     "name": "#%% md\n"
    }
   }
  },
  {
   "cell_type": "code",
   "execution_count": 34,
   "outputs": [
    {
     "name": "stdout",
     "output_type": "stream",
     "text": [
      "shape of mixed5b_5x5_pre_relu: (?, ?, ?, 128)\n"
     ]
    }
   ],
   "source": [
    "# 定义卷积层、通道数，并取出对应Tensor\n",
    "name4 = \"mixed5b_5x5_pre_relu\"\n",
    "layer_output = graph.get_tensor_by_name(\"import/%s:0\" % name4)\n",
    "print(\"shape of %s: %s\" % (name4, str(graph.get_tensor_by_name(\"import/\" + name4 + \":0\").get_shape()),))"
   ],
   "metadata": {
    "collapsed": false,
    "pycharm": {
     "name": "#%%\n"
    }
   }
  },
  {
   "cell_type": "code",
   "execution_count": 35,
   "outputs": [
    {
     "name": "stdout",
     "output_type": "stream",
     "text": [
      "iter: 1 score(mean) = -7.564476\n",
      "iter: 2 score(mean) = -9.213534\n",
      "iter: 3 score(mean) = -3.566386\n",
      "iter: 4 score(mean) = 6.309409\n",
      "iter: 5 score(mean) = 14.429076\n",
      "iter: 6 score(mean) = 24.695652\n",
      "iter: 7 score(mean) = 35.990284\n",
      "iter: 8 score(mean) = 39.517696\n",
      "iter: 9 score(mean) = 51.566605\n",
      "iter: 10 score(mean) = 57.235104\n",
      "iter: 11 score(mean) = 68.215401\n",
      "iter: 12 score(mean) = 69.156860\n",
      "iter: 13 score(mean) = 76.962822\n",
      "iter: 14 score(mean) = 90.145866\n",
      "iter: 15 score(mean) = 90.103256\n",
      "iter: 16 score(mean) = 100.993958\n",
      "iter: 17 score(mean) = 104.738289\n",
      "iter: 18 score(mean) = 115.121605\n",
      "iter: 19 score(mean) = 123.789383\n",
      "iter: 20 score(mean) = 135.100174\n"
     ]
    },
    {
     "name": "stderr",
     "output_type": "stream",
     "text": [
      "D:\\Anaconda3\\envs\\Python36\\lib\\site-packages\\ipykernel_launcher.py:6: DeprecationWarning: `toimage` is deprecated!\n",
      "`toimage` is deprecated in SciPy 1.0.0, and will be removed in 1.2.0.\n",
      "Use Pillow's ``Image.fromarray`` directly instead.\n",
      "  \n"
     ]
    },
    {
     "name": "stdout",
     "output_type": "stream",
     "text": [
      "img saved: Image/naive_deep_dream.jpg\n"
     ]
    }
   ],
   "source": [
    "# 定义噪声图像\n",
    "img_noise = np.random.uniform(size=(224, 224, 3)) + 100.0\n",
    "\n",
    "# 调用render_naive_function函数渲染\n",
    "channel = 118\n",
    "render_naive_function(layer_output[:, :, :, channel], img_noise, iter_n=20)\n",
    "\n",
    "# 保存并显示照片\n",
    "im = Image.open(\"Image/naive_deep_dream.jpg\")\n",
    "im.show()\n",
    "im.save(\"Image/deep_single_chn.jpg\")"
   ],
   "metadata": {
    "collapsed": false,
    "pycharm": {
     "name": "#%%\n"
    }
   }
  },
  {
   "cell_type": "markdown",
   "source": [
    "## 生成原始Deep Dream图像（所有通道）"
   ],
   "metadata": {
    "collapsed": false,
    "pycharm": {
     "name": "#%% md\n"
    }
   }
  },
  {
   "cell_type": "code",
   "execution_count": 36,
   "outputs": [
    {
     "name": "stdout",
     "output_type": "stream",
     "text": [
      "shape of mixed4d_3x3_bottleneck_pre_relu: (?, ?, ?, 144)\n",
      "iter: 1 score(mean) = -6.793727\n",
      "iter: 2 score(mean) = -8.700486\n",
      "iter: 3 score(mean) = -6.525362\n",
      "iter: 4 score(mean) = 0.586559\n",
      "iter: 5 score(mean) = 7.096675\n",
      "iter: 6 score(mean) = 11.247742\n",
      "iter: 7 score(mean) = 15.640568\n",
      "iter: 8 score(mean) = 19.768738\n",
      "iter: 9 score(mean) = 22.326097\n",
      "iter: 10 score(mean) = 25.582514\n",
      "iter: 11 score(mean) = 29.860027\n",
      "iter: 12 score(mean) = 32.495106\n",
      "iter: 13 score(mean) = 35.702557\n",
      "iter: 14 score(mean) = 39.227608\n",
      "iter: 15 score(mean) = 40.770065\n",
      "iter: 16 score(mean) = 45.148392\n",
      "iter: 17 score(mean) = 46.574661\n",
      "iter: 18 score(mean) = 49.879055\n",
      "iter: 19 score(mean) = 50.959644\n",
      "iter: 20 score(mean) = 54.952278\n",
      "img saved: Image/naive_deep_dream.jpg\n"
     ]
    },
    {
     "name": "stderr",
     "output_type": "stream",
     "text": [
      "D:\\Anaconda3\\envs\\Python36\\lib\\site-packages\\ipykernel_launcher.py:6: DeprecationWarning: `toimage` is deprecated!\n",
      "`toimage` is deprecated in SciPy 1.0.0, and will be removed in 1.2.0.\n",
      "Use Pillow's ``Image.fromarray`` directly instead.\n",
      "  \n"
     ]
    }
   ],
   "source": [
    "# 定义卷积层、通道数，并取出对应Tensor\n",
    "name = \"mixed4d_3x3_bottleneck_pre_relu\"\n",
    "layer_output = graph.get_tensor_by_name(\"import/%s:0\" % name)\n",
    "print(\"shape of %s: %s\" % (name, str(graph.get_tensor_by_name(\"import/\" + name + \":0\").get_shape()),))\n",
    "\n",
    "# 定义噪声图像\n",
    "img_noise = np.random.uniform(size=(224, 224, 3)) + 100.0\n",
    "\n",
    "# 调用render_naive_function函数渲染\n",
    "# 不指定特定通道，即表示利用所有通道特征\n",
    "render_naive_function(layer_output, img_noise, iter_n=20)\n",
    "# 单通道时：layer_output[:, :, :, channel]\n",
    "\n",
    "# 保存并显示照片\n",
    "im = Image.open(\"Image/naive_deep_dream.jpg\")\n",
    "im.show()\n",
    "im.save(\"Image/all_chn.jpg\")"
   ],
   "metadata": {
    "collapsed": false,
    "pycharm": {
     "name": "#%%\n"
    }
   }
  },
  {
   "cell_type": "markdown",
   "source": [
    "## 以背景图像为起点生成Deep Dream图像"
   ],
   "metadata": {
    "collapsed": false,
    "pycharm": {
     "name": "#%% md\n"
    }
   }
  },
  {
   "cell_type": "code",
   "execution_count": 37,
   "outputs": [
    {
     "name": "stdout",
     "output_type": "stream",
     "text": [
      "Tensor(\"import/mixed4c:0\", shape=(?, ?, ?, 512), dtype=float32, device=/device:CPU:0)\n"
     ]
    }
   ],
   "source": [
    "# 定义卷积层、通道数，并取出对应Tensor\n",
    "name = \"mixed4c\"\n",
    "layer_output = graph.get_tensor_by_name(\"import/%s:0\" % name)\n",
    "print(layer_output)"
   ],
   "metadata": {
    "collapsed": false,
    "pycharm": {
     "name": "#%%\n"
    }
   }
  },
  {
   "cell_type": "code",
   "execution_count": 38,
   "outputs": [
    {
     "name": "stdout",
     "output_type": "stream",
     "text": [
      "iter: 1 score(mean) = 5.419296\n",
      "iter: 2 score(mean) = 10.414704\n",
      "iter: 3 score(mean) = 19.698999\n",
      "iter: 4 score(mean) = 29.727409\n",
      "iter: 5 score(mean) = 38.942368\n",
      "iter: 6 score(mean) = 46.909119\n",
      "iter: 7 score(mean) = 54.018745\n",
      "iter: 8 score(mean) = 60.285233\n",
      "iter: 9 score(mean) = 65.990456\n",
      "iter: 10 score(mean) = 71.035934\n",
      "iter: 11 score(mean) = 75.265663\n",
      "iter: 12 score(mean) = 79.099968\n",
      "iter: 13 score(mean) = 82.899994\n",
      "iter: 14 score(mean) = 85.147491\n",
      "iter: 15 score(mean) = 88.846619\n",
      "iter: 16 score(mean) = 90.967453\n",
      "iter: 17 score(mean) = 93.590637\n",
      "iter: 18 score(mean) = 95.463150\n",
      "iter: 19 score(mean) = 97.497620\n",
      "iter: 20 score(mean) = 99.496071\n",
      "iter: 21 score(mean) = 101.037498\n",
      "iter: 22 score(mean) = 102.938408\n",
      "iter: 23 score(mean) = 104.367973\n",
      "iter: 24 score(mean) = 105.550201\n",
      "iter: 25 score(mean) = 107.192665\n",
      "iter: 26 score(mean) = 108.457817\n",
      "iter: 27 score(mean) = 109.990860\n",
      "iter: 28 score(mean) = 111.066895\n",
      "iter: 29 score(mean) = 111.910309\n",
      "iter: 30 score(mean) = 113.125336\n",
      "iter: 31 score(mean) = 114.284042\n",
      "iter: 32 score(mean) = 115.008102\n",
      "iter: 33 score(mean) = 116.192841\n",
      "iter: 34 score(mean) = 116.870758\n",
      "iter: 35 score(mean) = 117.825951\n",
      "iter: 36 score(mean) = 118.952049\n",
      "iter: 37 score(mean) = 119.507835\n",
      "iter: 38 score(mean) = 120.124084\n",
      "iter: 39 score(mean) = 121.236565\n",
      "iter: 40 score(mean) = 121.761330\n",
      "iter: 41 score(mean) = 122.336555\n",
      "iter: 42 score(mean) = 123.018837\n",
      "iter: 43 score(mean) = 123.749718\n",
      "iter: 44 score(mean) = 124.073250\n",
      "iter: 45 score(mean) = 125.345367\n",
      "iter: 46 score(mean) = 125.034760\n",
      "iter: 47 score(mean) = 126.288246\n",
      "iter: 48 score(mean) = 126.357590\n",
      "iter: 49 score(mean) = 127.219292\n",
      "iter: 50 score(mean) = 127.563759\n",
      "iter: 51 score(mean) = 128.152725\n",
      "iter: 52 score(mean) = 128.707733\n",
      "iter: 53 score(mean) = 129.114182\n",
      "iter: 54 score(mean) = 129.697525\n",
      "iter: 55 score(mean) = 130.096634\n",
      "iter: 56 score(mean) = 130.604034\n",
      "iter: 57 score(mean) = 131.015671\n",
      "iter: 58 score(mean) = 131.272705\n",
      "iter: 59 score(mean) = 131.770615\n",
      "iter: 60 score(mean) = 132.011246\n",
      "iter: 61 score(mean) = 132.630905\n",
      "iter: 62 score(mean) = 132.896683\n",
      "iter: 63 score(mean) = 133.221817\n",
      "iter: 64 score(mean) = 133.393448\n",
      "iter: 65 score(mean) = 134.129196\n",
      "iter: 66 score(mean) = 134.275955\n",
      "iter: 67 score(mean) = 134.721024\n",
      "iter: 68 score(mean) = 135.193359\n",
      "iter: 69 score(mean) = 135.310608\n",
      "iter: 70 score(mean) = 135.800461\n",
      "iter: 71 score(mean) = 135.802017\n",
      "iter: 72 score(mean) = 136.457703\n",
      "iter: 73 score(mean) = 136.562241\n",
      "iter: 74 score(mean) = 136.926437\n",
      "iter: 75 score(mean) = 137.044815\n",
      "iter: 76 score(mean) = 137.548615\n",
      "iter: 77 score(mean) = 137.745026\n",
      "iter: 78 score(mean) = 137.912216\n",
      "iter: 79 score(mean) = 137.996445\n",
      "iter: 80 score(mean) = 138.380188\n",
      "iter: 81 score(mean) = 138.589996\n",
      "iter: 82 score(mean) = 138.596817\n",
      "iter: 83 score(mean) = 139.431854\n",
      "iter: 84 score(mean) = 139.214706\n",
      "iter: 85 score(mean) = 139.745728\n",
      "iter: 86 score(mean) = 139.814240\n",
      "iter: 87 score(mean) = 140.128250\n",
      "iter: 88 score(mean) = 140.297089\n",
      "iter: 89 score(mean) = 140.654160\n",
      "iter: 90 score(mean) = 140.781525\n",
      "iter: 91 score(mean) = 141.010925\n",
      "iter: 92 score(mean) = 141.137131\n",
      "iter: 93 score(mean) = 141.385300\n",
      "iter: 94 score(mean) = 141.633179\n",
      "iter: 95 score(mean) = 141.939407\n",
      "iter: 96 score(mean) = 141.952667\n",
      "iter: 97 score(mean) = 142.306427\n",
      "iter: 98 score(mean) = 142.345184\n",
      "iter: 99 score(mean) = 142.590240\n",
      "iter: 100 score(mean) = 142.702057\n",
      "img saved: Image/naive_deep_dream.jpg\n"
     ]
    },
    {
     "name": "stderr",
     "output_type": "stream",
     "text": [
      "D:\\Anaconda3\\envs\\Python36\\lib\\site-packages\\ipykernel_launcher.py:6: DeprecationWarning: `toimage` is deprecated!\n",
      "`toimage` is deprecated in SciPy 1.0.0, and will be removed in 1.2.0.\n",
      "Use Pillow's ``Image.fromarray`` directly instead.\n",
      "  \n"
     ]
    }
   ],
   "source": [
    "# 用一张背景图像（而不是随机噪音图像）作为起点对图像进化优化\n",
    "img_test = Image.open(\"Image/IMG_0722.jpeg\")\n",
    "\n",
    "render_naive_function(layer_output, img_noise, iter_n=100)\n",
    "\n",
    "# 保存并显示照片\n",
    "im = Image.open(\"Image/naive_deep_dream.jpg\")\n",
    "im.show()\n",
    "im.save(\"Image/new.jpg\")"
   ],
   "metadata": {
    "collapsed": false,
    "pycharm": {
     "name": "#%%\n"
    }
   }
  },
  {
   "cell_type": "markdown",
   "source": [
    "## 定义相关函数"
   ],
   "metadata": {
    "collapsed": false,
    "pycharm": {
     "name": "#%% md\n"
    }
   }
  },
  {
   "cell_type": "code",
   "execution_count": 39,
   "outputs": [],
   "source": [
    "# 调整图像尺寸\n",
    "def resize(img, hw):\n",
    "    min = img.min()\n",
    "    max = img.max()\n",
    "    img = (img - min) / (max - min) * 255\n",
    "    img = np.float32(scipy.misc.imresize(img, hw))\n",
    "    img = img / 255 * (max - min) + min\n",
    "\n",
    "    return img"
   ],
   "metadata": {
    "collapsed": false,
    "pycharm": {
     "name": "#%%\n"
    }
   }
  },
  {
   "cell_type": "code",
   "execution_count": 40,
   "outputs": [],
   "source": [
    "# 将图像放大ratio倍\n",
    "def resize_ratio(img, ratio):\n",
    "    min = img.min()\n",
    "    max = img.max()\n",
    "    img = (img - min) / (max - min) * 255\n",
    "    img = np.float32(scipy.misc.imresize(img, ratio))\n",
    "    img = img / 255 * (max - min) + min\n",
    "\n",
    "    return img"
   ],
   "metadata": {
    "collapsed": false,
    "pycharm": {
     "name": "#%%\n"
    }
   }
  },
  {
   "cell_type": "code",
   "execution_count": 41,
   "outputs": [],
   "source": [
    "# 原始图像尺寸可能很大，从而导致内存耗尽问题\n",
    "# 每次只对tile_size * tile_size 大小的图像计算梯度，避免内存问题\n",
    "def calc_grad_tiled(img, t_grad, tile_size=512):\n",
    "    sz = tile_size\n",
    "    h, w = img.shape[:2]\n",
    "    sx, sy = np.random.randint(sz, size=2)\n",
    "\n",
    "    # 先在行上做整体移动，再在列上做整体移动\n",
    "    img_shift = np.roll(np.roll(img, sx, 1), sy, 0)\n",
    "    grad = np.zeros_like(img)\n",
    "    for y in range(0, max(h - sz // 2, sz), sz):\n",
    "        for x in range(0, max(w - sz // 2, sz), sz):\n",
    "            sub = img_shift[y:y + sz, x:x + sz]\n",
    "            g = session.run(t_grad, {t_input: sub})\n",
    "            grad[y:y + sz, x: x + sz] = g\n",
    "\n",
    "    return np.roll(np.roll(grad, -sx, 1), -sy, 0)"
   ],
   "metadata": {
    "collapsed": false,
    "pycharm": {
     "name": "#%%\n"
    }
   }
  },
  {
   "cell_type": "code",
   "execution_count": 42,
   "outputs": [],
   "source": [
    "# 优化图像后的渲染函数\n",
    "def render_deep_dream_pro(t_obj, img0, iter_n=10, step=1.5, octave_n=4, octave_scale=1.4):\n",
    "    t_score = tf.reduce_mean(t_obj)\n",
    "    t_grad = tf.gradients(t_score, t_input)[0]\n",
    "    img = img0.copy()\n",
    "\n",
    "    # 将图像进行金字塔分解\n",
    "    # 从而分为高频，低频部分\n",
    "    octaves = []\n",
    "    for i in range(octave_n - 1):\n",
    "        hw = img.shape[:2]\n",
    "        lo = resize(img, np.int32(np.float32(hw) / octave_scale))\n",
    "        hi = img - resize(lo, hw)\n",
    "        img = lo\n",
    "        octaves.append(hi)\n",
    "\n",
    "    # 首先生成低频的图像，再依次放大并加上高频\n",
    "    for octave in range(octave_n):\n",
    "        if octave > 0:\n",
    "            hi = octaves[-octave]\n",
    "            img = resize(img, hi.shape[:2]) + hi\n",
    "        for i in range(iter_n):\n",
    "            g = calc_grad_tiled(img, t_grad)\n",
    "            img += g * (step / (np.abs(g).mean() + 1e-7))\n",
    "\n",
    "    img = img.clip(0, 255)\n",
    "    savearray(img, \"Image/new_pro.jpg\")\n",
    "    im = Image.open(\"Image/new_pro.jpg\").show()"
   ],
   "metadata": {
    "collapsed": false,
    "pycharm": {
     "name": "#%%\n"
    }
   }
  },
  {
   "cell_type": "code",
   "execution_count": 43,
   "outputs": [
    {
     "name": "stdout",
     "output_type": "stream",
     "text": [
      "shape of mixed4c: (?, ?, ?, 512)\n"
     ]
    },
    {
     "name": "stderr",
     "output_type": "stream",
     "text": [
      "D:\\Anaconda3\\envs\\Python36\\lib\\site-packages\\ipykernel_launcher.py:6: DeprecationWarning: `imresize` is deprecated!\n",
      "`imresize` is deprecated in SciPy 1.0.0, and will be removed in 1.3.0.\n",
      "Use Pillow instead: ``numpy.array(Image.fromarray(arr).resize())``.\n",
      "  \n",
      "D:\\Anaconda3\\envs\\Python36\\lib\\site-packages\\ipykernel_launcher.py:6: DeprecationWarning: `toimage` is deprecated!\n",
      "`toimage` is deprecated in SciPy 1.0.0, and will be removed in 1.2.0.\n",
      "Use Pillow's ``Image.fromarray`` directly instead.\n",
      "  \n"
     ]
    },
    {
     "name": "stdout",
     "output_type": "stream",
     "text": [
      "img saved: Image/new_pro.jpg\n"
     ]
    }
   ],
   "source": [
    "# 定义卷积层、通道数，并取出对应Tensor\n",
    "name = \"mixed4c\"\n",
    "layer_output = graph.get_tensor_by_name(\"import/%s:0\" % name)\n",
    "print(\"shape of %s: %s\" % (name, str(graph.get_tensor_by_name(\"import/\" + name + \":0\").get_shape()),))\n",
    "\n",
    "# 定义噪声图像\n",
    "img0 = Image.open(\"Image/IMG_0722.jpeg\")\n",
    "img0 = np.float32(img0)\n",
    "\n",
    "render_deep_dream_pro(tf.square(layer_output), img0)"
   ],
   "metadata": {
    "collapsed": false,
    "pycharm": {
     "name": "#%%\n"
    }
   }
  }
 ],
 "metadata": {
  "kernelspec": {
   "display_name": "Python 3",
   "language": "python",
   "name": "python3"
  },
  "language_info": {
   "codemirror_mode": {
    "name": "ipython",
    "version": 2
   },
   "file_extension": ".py",
   "mimetype": "text/x-python",
   "name": "python",
   "nbconvert_exporter": "python",
   "pygments_lexer": "ipython2",
   "version": "2.7.6"
  }
 },
 "nbformat": 4,
 "nbformat_minor": 0
}