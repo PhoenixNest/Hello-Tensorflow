{
 "cells": [
  {
   "cell_type": "markdown",
   "metadata": {
    "collapsed": true,
    "pycharm": {
     "name": "#%% md\n"
    }
   },
   "source": [
    "# 使用Keras对泰坦尼克号旅客生存进行预测"
   ]
  },
  {
   "cell_type": "code",
   "execution_count": 2,
   "metadata": {
    "collapsed": false,
    "pycharm": {
     "name": "#%%\n"
    }
   },
   "outputs": [],
   "source": [
    "import os\n",
    "import urllib.request\n",
    "\n",
    "import matplotlib.pyplot as plt\n",
    "import pandas as pd\n",
    "import tensorflow as tf\n",
    "from sklearn import preprocessing"
   ]
  },
  {
   "cell_type": "code",
   "execution_count": 3,
   "metadata": {
    "collapsed": false,
    "pycharm": {
     "name": "#%%\n"
    }
   },
   "outputs": [
    {
     "name": "stdout",
     "output_type": "stream",
     "text": [
      "Data/titanic3.xls Data file already exists\n"
     ]
    }
   ],
   "source": [
    "## 旅客数据集准备\n",
    "data_url = \"https://biostat.app.vumc.org/wiki/pub/Main/DataSets/titanic3.xls\"\n",
    "\n",
    "data_file_path = \"Data/titanic3.xls\"\n",
    "\n",
    "if not os.path.isfile(data_file_path):\n",
    "    result = urllib.request.urlretrieve(data_url, data_file_path)\n",
    "    print(\"Downloaded: \", result)\n",
    "else:\n",
    "    print(data_file_path, \"Data file already exists\")"
   ]
  },
  {
   "cell_type": "markdown",
   "metadata": {
    "collapsed": false,
    "pycharm": {
     "name": "#%% md\n"
    }
   },
   "source": [
    "## 使用 Pandas 对数据进行处理"
   ]
  },
  {
   "cell_type": "code",
   "execution_count": 4,
   "metadata": {
    "collapsed": false,
    "pycharm": {
     "name": "#%%\n"
    }
   },
   "outputs": [],
   "source": [
    "# 读取数据，结果为 DataFrame 格式\n",
    "df_data = pd.read_excel(data_file_path)"
   ]
  },
  {
   "cell_type": "code",
   "execution_count": 5,
   "metadata": {
    "collapsed": false,
    "pycharm": {
     "name": "#%%\n"
    }
   },
   "outputs": [
    {
     "data": {
      "text/plain": "            pclass     survived          age        sibsp        parch  \\\ncount  1309.000000  1309.000000  1046.000000  1309.000000  1309.000000   \nmean      2.294882     0.381971    29.881135     0.498854     0.385027   \nstd       0.837836     0.486055    14.413500     1.041658     0.865560   \nmin       1.000000     0.000000     0.166700     0.000000     0.000000   \n25%       2.000000     0.000000    21.000000     0.000000     0.000000   \n50%       3.000000     0.000000    28.000000     0.000000     0.000000   \n75%       3.000000     1.000000    39.000000     1.000000     0.000000   \nmax       3.000000     1.000000    80.000000     8.000000     9.000000   \n\n              fare        body  \ncount  1308.000000  121.000000  \nmean     33.295479  160.809917  \nstd      51.758668   97.696922  \nmin       0.000000    1.000000  \n25%       7.895800   72.000000  \n50%      14.454200  155.000000  \n75%      31.275000  256.000000  \nmax     512.329200  328.000000  ",
      "text/html": "<div>\n<style scoped>\n    .dataframe tbody tr th:only-of-type {\n        vertical-align: middle;\n    }\n\n    .dataframe tbody tr th {\n        vertical-align: top;\n    }\n\n    .dataframe thead th {\n        text-align: right;\n    }\n</style>\n<table border=\"1\" class=\"dataframe\">\n  <thead>\n    <tr style=\"text-align: right;\">\n      <th></th>\n      <th>pclass</th>\n      <th>survived</th>\n      <th>age</th>\n      <th>sibsp</th>\n      <th>parch</th>\n      <th>fare</th>\n      <th>body</th>\n    </tr>\n  </thead>\n  <tbody>\n    <tr>\n      <th>count</th>\n      <td>1309.000000</td>\n      <td>1309.000000</td>\n      <td>1046.000000</td>\n      <td>1309.000000</td>\n      <td>1309.000000</td>\n      <td>1308.000000</td>\n      <td>121.000000</td>\n    </tr>\n    <tr>\n      <th>mean</th>\n      <td>2.294882</td>\n      <td>0.381971</td>\n      <td>29.881135</td>\n      <td>0.498854</td>\n      <td>0.385027</td>\n      <td>33.295479</td>\n      <td>160.809917</td>\n    </tr>\n    <tr>\n      <th>std</th>\n      <td>0.837836</td>\n      <td>0.486055</td>\n      <td>14.413500</td>\n      <td>1.041658</td>\n      <td>0.865560</td>\n      <td>51.758668</td>\n      <td>97.696922</td>\n    </tr>\n    <tr>\n      <th>min</th>\n      <td>1.000000</td>\n      <td>0.000000</td>\n      <td>0.166700</td>\n      <td>0.000000</td>\n      <td>0.000000</td>\n      <td>0.000000</td>\n      <td>1.000000</td>\n    </tr>\n    <tr>\n      <th>25%</th>\n      <td>2.000000</td>\n      <td>0.000000</td>\n      <td>21.000000</td>\n      <td>0.000000</td>\n      <td>0.000000</td>\n      <td>7.895800</td>\n      <td>72.000000</td>\n    </tr>\n    <tr>\n      <th>50%</th>\n      <td>3.000000</td>\n      <td>0.000000</td>\n      <td>28.000000</td>\n      <td>0.000000</td>\n      <td>0.000000</td>\n      <td>14.454200</td>\n      <td>155.000000</td>\n    </tr>\n    <tr>\n      <th>75%</th>\n      <td>3.000000</td>\n      <td>1.000000</td>\n      <td>39.000000</td>\n      <td>1.000000</td>\n      <td>0.000000</td>\n      <td>31.275000</td>\n      <td>256.000000</td>\n    </tr>\n    <tr>\n      <th>max</th>\n      <td>3.000000</td>\n      <td>1.000000</td>\n      <td>80.000000</td>\n      <td>8.000000</td>\n      <td>9.000000</td>\n      <td>512.329200</td>\n      <td>328.000000</td>\n    </tr>\n  </tbody>\n</table>\n</div>"
     },
     "execution_count": 5,
     "metadata": {},
     "output_type": "execute_result"
    }
   ],
   "source": [
    "# 查看数据摘要\n",
    "df_data.describe()"
   ]
  },
  {
   "cell_type": "code",
   "execution_count": 6,
   "metadata": {
    "collapsed": false,
    "pycharm": {
     "name": "#%%\n"
    }
   },
   "outputs": [
    {
     "data": {
      "text/plain": "      pclass  survived                                             name  \\\n0          1         1                    Allen, Miss. Elisabeth Walton   \n1          1         1                   Allison, Master. Hudson Trevor   \n2          1         0                     Allison, Miss. Helen Loraine   \n3          1         0             Allison, Mr. Hudson Joshua Creighton   \n4          1         0  Allison, Mrs. Hudson J C (Bessie Waldo Daniels)   \n...      ...       ...                                              ...   \n1304       3         0                             Zabour, Miss. Hileni   \n1305       3         0                            Zabour, Miss. Thamine   \n1306       3         0                        Zakarian, Mr. Mapriededer   \n1307       3         0                              Zakarian, Mr. Ortin   \n1308       3         0                               Zimmerman, Mr. Leo   \n\n         sex      age  sibsp  parch  ticket      fare    cabin embarked boat  \\\n0     female  29.0000      0      0   24160  211.3375       B5        S    2   \n1       male   0.9167      1      2  113781  151.5500  C22 C26        S   11   \n2     female   2.0000      1      2  113781  151.5500  C22 C26        S  NaN   \n3       male  30.0000      1      2  113781  151.5500  C22 C26        S  NaN   \n4     female  25.0000      1      2  113781  151.5500  C22 C26        S  NaN   \n...      ...      ...    ...    ...     ...       ...      ...      ...  ...   \n1304  female  14.5000      1      0    2665   14.4542      NaN        C  NaN   \n1305  female      NaN      1      0    2665   14.4542      NaN        C  NaN   \n1306    male  26.5000      0      0    2656    7.2250      NaN        C  NaN   \n1307    male  27.0000      0      0    2670    7.2250      NaN        C  NaN   \n1308    male  29.0000      0      0  315082    7.8750      NaN        S  NaN   \n\n       body                        home.dest  \n0       NaN                     St Louis, MO  \n1       NaN  Montreal, PQ / Chesterville, ON  \n2       NaN  Montreal, PQ / Chesterville, ON  \n3     135.0  Montreal, PQ / Chesterville, ON  \n4       NaN  Montreal, PQ / Chesterville, ON  \n...     ...                              ...  \n1304  328.0                              NaN  \n1305    NaN                              NaN  \n1306  304.0                              NaN  \n1307    NaN                              NaN  \n1308    NaN                              NaN  \n\n[1309 rows x 14 columns]",
      "text/html": "<div>\n<style scoped>\n    .dataframe tbody tr th:only-of-type {\n        vertical-align: middle;\n    }\n\n    .dataframe tbody tr th {\n        vertical-align: top;\n    }\n\n    .dataframe thead th {\n        text-align: right;\n    }\n</style>\n<table border=\"1\" class=\"dataframe\">\n  <thead>\n    <tr style=\"text-align: right;\">\n      <th></th>\n      <th>pclass</th>\n      <th>survived</th>\n      <th>name</th>\n      <th>sex</th>\n      <th>age</th>\n      <th>sibsp</th>\n      <th>parch</th>\n      <th>ticket</th>\n      <th>fare</th>\n      <th>cabin</th>\n      <th>embarked</th>\n      <th>boat</th>\n      <th>body</th>\n      <th>home.dest</th>\n    </tr>\n  </thead>\n  <tbody>\n    <tr>\n      <th>0</th>\n      <td>1</td>\n      <td>1</td>\n      <td>Allen, Miss. Elisabeth Walton</td>\n      <td>female</td>\n      <td>29.0000</td>\n      <td>0</td>\n      <td>0</td>\n      <td>24160</td>\n      <td>211.3375</td>\n      <td>B5</td>\n      <td>S</td>\n      <td>2</td>\n      <td>NaN</td>\n      <td>St Louis, MO</td>\n    </tr>\n    <tr>\n      <th>1</th>\n      <td>1</td>\n      <td>1</td>\n      <td>Allison, Master. Hudson Trevor</td>\n      <td>male</td>\n      <td>0.9167</td>\n      <td>1</td>\n      <td>2</td>\n      <td>113781</td>\n      <td>151.5500</td>\n      <td>C22 C26</td>\n      <td>S</td>\n      <td>11</td>\n      <td>NaN</td>\n      <td>Montreal, PQ / Chesterville, ON</td>\n    </tr>\n    <tr>\n      <th>2</th>\n      <td>1</td>\n      <td>0</td>\n      <td>Allison, Miss. Helen Loraine</td>\n      <td>female</td>\n      <td>2.0000</td>\n      <td>1</td>\n      <td>2</td>\n      <td>113781</td>\n      <td>151.5500</td>\n      <td>C22 C26</td>\n      <td>S</td>\n      <td>NaN</td>\n      <td>NaN</td>\n      <td>Montreal, PQ / Chesterville, ON</td>\n    </tr>\n    <tr>\n      <th>3</th>\n      <td>1</td>\n      <td>0</td>\n      <td>Allison, Mr. Hudson Joshua Creighton</td>\n      <td>male</td>\n      <td>30.0000</td>\n      <td>1</td>\n      <td>2</td>\n      <td>113781</td>\n      <td>151.5500</td>\n      <td>C22 C26</td>\n      <td>S</td>\n      <td>NaN</td>\n      <td>135.0</td>\n      <td>Montreal, PQ / Chesterville, ON</td>\n    </tr>\n    <tr>\n      <th>4</th>\n      <td>1</td>\n      <td>0</td>\n      <td>Allison, Mrs. Hudson J C (Bessie Waldo Daniels)</td>\n      <td>female</td>\n      <td>25.0000</td>\n      <td>1</td>\n      <td>2</td>\n      <td>113781</td>\n      <td>151.5500</td>\n      <td>C22 C26</td>\n      <td>S</td>\n      <td>NaN</td>\n      <td>NaN</td>\n      <td>Montreal, PQ / Chesterville, ON</td>\n    </tr>\n    <tr>\n      <th>...</th>\n      <td>...</td>\n      <td>...</td>\n      <td>...</td>\n      <td>...</td>\n      <td>...</td>\n      <td>...</td>\n      <td>...</td>\n      <td>...</td>\n      <td>...</td>\n      <td>...</td>\n      <td>...</td>\n      <td>...</td>\n      <td>...</td>\n      <td>...</td>\n    </tr>\n    <tr>\n      <th>1304</th>\n      <td>3</td>\n      <td>0</td>\n      <td>Zabour, Miss. Hileni</td>\n      <td>female</td>\n      <td>14.5000</td>\n      <td>1</td>\n      <td>0</td>\n      <td>2665</td>\n      <td>14.4542</td>\n      <td>NaN</td>\n      <td>C</td>\n      <td>NaN</td>\n      <td>328.0</td>\n      <td>NaN</td>\n    </tr>\n    <tr>\n      <th>1305</th>\n      <td>3</td>\n      <td>0</td>\n      <td>Zabour, Miss. Thamine</td>\n      <td>female</td>\n      <td>NaN</td>\n      <td>1</td>\n      <td>0</td>\n      <td>2665</td>\n      <td>14.4542</td>\n      <td>NaN</td>\n      <td>C</td>\n      <td>NaN</td>\n      <td>NaN</td>\n      <td>NaN</td>\n    </tr>\n    <tr>\n      <th>1306</th>\n      <td>3</td>\n      <td>0</td>\n      <td>Zakarian, Mr. Mapriededer</td>\n      <td>male</td>\n      <td>26.5000</td>\n      <td>0</td>\n      <td>0</td>\n      <td>2656</td>\n      <td>7.2250</td>\n      <td>NaN</td>\n      <td>C</td>\n      <td>NaN</td>\n      <td>304.0</td>\n      <td>NaN</td>\n    </tr>\n    <tr>\n      <th>1307</th>\n      <td>3</td>\n      <td>0</td>\n      <td>Zakarian, Mr. Ortin</td>\n      <td>male</td>\n      <td>27.0000</td>\n      <td>0</td>\n      <td>0</td>\n      <td>2670</td>\n      <td>7.2250</td>\n      <td>NaN</td>\n      <td>C</td>\n      <td>NaN</td>\n      <td>NaN</td>\n      <td>NaN</td>\n    </tr>\n    <tr>\n      <th>1308</th>\n      <td>3</td>\n      <td>0</td>\n      <td>Zimmerman, Mr. Leo</td>\n      <td>male</td>\n      <td>29.0000</td>\n      <td>0</td>\n      <td>0</td>\n      <td>315082</td>\n      <td>7.8750</td>\n      <td>NaN</td>\n      <td>S</td>\n      <td>NaN</td>\n      <td>NaN</td>\n      <td>NaN</td>\n    </tr>\n  </tbody>\n</table>\n<p>1309 rows × 14 columns</p>\n</div>"
     },
     "execution_count": 6,
     "metadata": {},
     "output_type": "execute_result"
    }
   ],
   "source": [
    "df_data"
   ]
  },
  {
   "cell_type": "markdown",
   "metadata": {
    "collapsed": false,
    "pycharm": {
     "name": "#%% md\n"
    }
   },
   "source": [
    "## 筛选特征字段"
   ]
  },
  {
   "cell_type": "markdown",
   "metadata": {
    "collapsed": false
   },
   "source": [
    "| **字段**   | **字段说明**        | **数据说明**                               |\n",
    "|----------|-----------------|----------------------------------------|\n",
    "| pclass   | 舱等              | 1：头等舱，2：二等舱，3：三等舱                      |\n",
    "| survival | 是否生存            | 0：否，1：是                                |\n",
    "| name     | 姓名              |                                        |\n",
    "| sex      | 性别              | female：女性，male：男                       |\n",
    "| age      | 年龄              |                                        |\n",
    "| slibsp   | 兄弟姐妹或者配偶也在船上的数量 |                                        |\n",
    "| parch    | 双亲或者子女也在船上的数量   |                                        |\n",
    "| ticket   | 船票号码            |                                        |\n",
    "| fare     | 船票费用            |                                        |\n",
    "| cabin    | 舱位号码            |                                        |\n",
    "| embarked | 登船港口            | C=Cherbourg，Q=Queenstown，S=Southampton |\n"
   ]
  },
  {
   "cell_type": "code",
   "execution_count": 7,
   "metadata": {
    "collapsed": false,
    "pycharm": {
     "name": "#%%\n"
    }
   },
   "outputs": [],
   "source": [
    "# survival（是否生存）是标签字段，其他是候选特征字段\n",
    "# 筛选提取需要的特征字段，去掉ticket，cabin等\n",
    "selected_cols = [\"survived\", \"name\", \"pclass\", \"sex\", \"age\", \"sibsp\", \"parch\", \"fare\", \"embarked\"]\n",
    "\n",
    "selected_df_data = df_data[selected_cols]"
   ]
  },
  {
   "cell_type": "code",
   "execution_count": 8,
   "metadata": {
    "collapsed": false,
    "pycharm": {
     "name": "#%%\n"
    }
   },
   "outputs": [
    {
     "data": {
      "text/plain": "      survived                                             name  pclass  \\\n0            1                    Allen, Miss. Elisabeth Walton       1   \n1            1                   Allison, Master. Hudson Trevor       1   \n2            0                     Allison, Miss. Helen Loraine       1   \n3            0             Allison, Mr. Hudson Joshua Creighton       1   \n4            0  Allison, Mrs. Hudson J C (Bessie Waldo Daniels)       1   \n...        ...                                              ...     ...   \n1304         0                             Zabour, Miss. Hileni       3   \n1305         0                            Zabour, Miss. Thamine       3   \n1306         0                        Zakarian, Mr. Mapriededer       3   \n1307         0                              Zakarian, Mr. Ortin       3   \n1308         0                               Zimmerman, Mr. Leo       3   \n\n         sex      age  sibsp  parch      fare embarked  \n0     female  29.0000      0      0  211.3375        S  \n1       male   0.9167      1      2  151.5500        S  \n2     female   2.0000      1      2  151.5500        S  \n3       male  30.0000      1      2  151.5500        S  \n4     female  25.0000      1      2  151.5500        S  \n...      ...      ...    ...    ...       ...      ...  \n1304  female  14.5000      1      0   14.4542        C  \n1305  female      NaN      1      0   14.4542        C  \n1306    male  26.5000      0      0    7.2250        C  \n1307    male  27.0000      0      0    7.2250        C  \n1308    male  29.0000      0      0    7.8750        S  \n\n[1309 rows x 9 columns]",
      "text/html": "<div>\n<style scoped>\n    .dataframe tbody tr th:only-of-type {\n        vertical-align: middle;\n    }\n\n    .dataframe tbody tr th {\n        vertical-align: top;\n    }\n\n    .dataframe thead th {\n        text-align: right;\n    }\n</style>\n<table border=\"1\" class=\"dataframe\">\n  <thead>\n    <tr style=\"text-align: right;\">\n      <th></th>\n      <th>survived</th>\n      <th>name</th>\n      <th>pclass</th>\n      <th>sex</th>\n      <th>age</th>\n      <th>sibsp</th>\n      <th>parch</th>\n      <th>fare</th>\n      <th>embarked</th>\n    </tr>\n  </thead>\n  <tbody>\n    <tr>\n      <th>0</th>\n      <td>1</td>\n      <td>Allen, Miss. Elisabeth Walton</td>\n      <td>1</td>\n      <td>female</td>\n      <td>29.0000</td>\n      <td>0</td>\n      <td>0</td>\n      <td>211.3375</td>\n      <td>S</td>\n    </tr>\n    <tr>\n      <th>1</th>\n      <td>1</td>\n      <td>Allison, Master. Hudson Trevor</td>\n      <td>1</td>\n      <td>male</td>\n      <td>0.9167</td>\n      <td>1</td>\n      <td>2</td>\n      <td>151.5500</td>\n      <td>S</td>\n    </tr>\n    <tr>\n      <th>2</th>\n      <td>0</td>\n      <td>Allison, Miss. Helen Loraine</td>\n      <td>1</td>\n      <td>female</td>\n      <td>2.0000</td>\n      <td>1</td>\n      <td>2</td>\n      <td>151.5500</td>\n      <td>S</td>\n    </tr>\n    <tr>\n      <th>3</th>\n      <td>0</td>\n      <td>Allison, Mr. Hudson Joshua Creighton</td>\n      <td>1</td>\n      <td>male</td>\n      <td>30.0000</td>\n      <td>1</td>\n      <td>2</td>\n      <td>151.5500</td>\n      <td>S</td>\n    </tr>\n    <tr>\n      <th>4</th>\n      <td>0</td>\n      <td>Allison, Mrs. Hudson J C (Bessie Waldo Daniels)</td>\n      <td>1</td>\n      <td>female</td>\n      <td>25.0000</td>\n      <td>1</td>\n      <td>2</td>\n      <td>151.5500</td>\n      <td>S</td>\n    </tr>\n    <tr>\n      <th>...</th>\n      <td>...</td>\n      <td>...</td>\n      <td>...</td>\n      <td>...</td>\n      <td>...</td>\n      <td>...</td>\n      <td>...</td>\n      <td>...</td>\n      <td>...</td>\n    </tr>\n    <tr>\n      <th>1304</th>\n      <td>0</td>\n      <td>Zabour, Miss. Hileni</td>\n      <td>3</td>\n      <td>female</td>\n      <td>14.5000</td>\n      <td>1</td>\n      <td>0</td>\n      <td>14.4542</td>\n      <td>C</td>\n    </tr>\n    <tr>\n      <th>1305</th>\n      <td>0</td>\n      <td>Zabour, Miss. Thamine</td>\n      <td>3</td>\n      <td>female</td>\n      <td>NaN</td>\n      <td>1</td>\n      <td>0</td>\n      <td>14.4542</td>\n      <td>C</td>\n    </tr>\n    <tr>\n      <th>1306</th>\n      <td>0</td>\n      <td>Zakarian, Mr. Mapriededer</td>\n      <td>3</td>\n      <td>male</td>\n      <td>26.5000</td>\n      <td>0</td>\n      <td>0</td>\n      <td>7.2250</td>\n      <td>C</td>\n    </tr>\n    <tr>\n      <th>1307</th>\n      <td>0</td>\n      <td>Zakarian, Mr. Ortin</td>\n      <td>3</td>\n      <td>male</td>\n      <td>27.0000</td>\n      <td>0</td>\n      <td>0</td>\n      <td>7.2250</td>\n      <td>C</td>\n    </tr>\n    <tr>\n      <th>1308</th>\n      <td>0</td>\n      <td>Zimmerman, Mr. Leo</td>\n      <td>3</td>\n      <td>male</td>\n      <td>29.0000</td>\n      <td>0</td>\n      <td>0</td>\n      <td>7.8750</td>\n      <td>S</td>\n    </tr>\n  </tbody>\n</table>\n<p>1309 rows × 9 columns</p>\n</div>"
     },
     "execution_count": 8,
     "metadata": {},
     "output_type": "execute_result"
    }
   ],
   "source": [
    "selected_df_data"
   ]
  },
  {
   "cell_type": "code",
   "execution_count": 9,
   "metadata": {
    "collapsed": false,
    "pycharm": {
     "name": "#%%\n"
    }
   },
   "outputs": [
    {
     "data": {
      "text/plain": "      survived   name  pclass    sex    age  sibsp  parch   fare  embarked\n0        False  False   False  False  False  False  False  False     False\n1        False  False   False  False  False  False  False  False     False\n2        False  False   False  False  False  False  False  False     False\n3        False  False   False  False  False  False  False  False     False\n4        False  False   False  False  False  False  False  False     False\n...        ...    ...     ...    ...    ...    ...    ...    ...       ...\n1304     False  False   False  False  False  False  False  False     False\n1305     False  False   False  False   True  False  False  False     False\n1306     False  False   False  False  False  False  False  False     False\n1307     False  False   False  False  False  False  False  False     False\n1308     False  False   False  False  False  False  False  False     False\n\n[1309 rows x 9 columns]",
      "text/html": "<div>\n<style scoped>\n    .dataframe tbody tr th:only-of-type {\n        vertical-align: middle;\n    }\n\n    .dataframe tbody tr th {\n        vertical-align: top;\n    }\n\n    .dataframe thead th {\n        text-align: right;\n    }\n</style>\n<table border=\"1\" class=\"dataframe\">\n  <thead>\n    <tr style=\"text-align: right;\">\n      <th></th>\n      <th>survived</th>\n      <th>name</th>\n      <th>pclass</th>\n      <th>sex</th>\n      <th>age</th>\n      <th>sibsp</th>\n      <th>parch</th>\n      <th>fare</th>\n      <th>embarked</th>\n    </tr>\n  </thead>\n  <tbody>\n    <tr>\n      <th>0</th>\n      <td>False</td>\n      <td>False</td>\n      <td>False</td>\n      <td>False</td>\n      <td>False</td>\n      <td>False</td>\n      <td>False</td>\n      <td>False</td>\n      <td>False</td>\n    </tr>\n    <tr>\n      <th>1</th>\n      <td>False</td>\n      <td>False</td>\n      <td>False</td>\n      <td>False</td>\n      <td>False</td>\n      <td>False</td>\n      <td>False</td>\n      <td>False</td>\n      <td>False</td>\n    </tr>\n    <tr>\n      <th>2</th>\n      <td>False</td>\n      <td>False</td>\n      <td>False</td>\n      <td>False</td>\n      <td>False</td>\n      <td>False</td>\n      <td>False</td>\n      <td>False</td>\n      <td>False</td>\n    </tr>\n    <tr>\n      <th>3</th>\n      <td>False</td>\n      <td>False</td>\n      <td>False</td>\n      <td>False</td>\n      <td>False</td>\n      <td>False</td>\n      <td>False</td>\n      <td>False</td>\n      <td>False</td>\n    </tr>\n    <tr>\n      <th>4</th>\n      <td>False</td>\n      <td>False</td>\n      <td>False</td>\n      <td>False</td>\n      <td>False</td>\n      <td>False</td>\n      <td>False</td>\n      <td>False</td>\n      <td>False</td>\n    </tr>\n    <tr>\n      <th>...</th>\n      <td>...</td>\n      <td>...</td>\n      <td>...</td>\n      <td>...</td>\n      <td>...</td>\n      <td>...</td>\n      <td>...</td>\n      <td>...</td>\n      <td>...</td>\n    </tr>\n    <tr>\n      <th>1304</th>\n      <td>False</td>\n      <td>False</td>\n      <td>False</td>\n      <td>False</td>\n      <td>False</td>\n      <td>False</td>\n      <td>False</td>\n      <td>False</td>\n      <td>False</td>\n    </tr>\n    <tr>\n      <th>1305</th>\n      <td>False</td>\n      <td>False</td>\n      <td>False</td>\n      <td>False</td>\n      <td>True</td>\n      <td>False</td>\n      <td>False</td>\n      <td>False</td>\n      <td>False</td>\n    </tr>\n    <tr>\n      <th>1306</th>\n      <td>False</td>\n      <td>False</td>\n      <td>False</td>\n      <td>False</td>\n      <td>False</td>\n      <td>False</td>\n      <td>False</td>\n      <td>False</td>\n      <td>False</td>\n    </tr>\n    <tr>\n      <th>1307</th>\n      <td>False</td>\n      <td>False</td>\n      <td>False</td>\n      <td>False</td>\n      <td>False</td>\n      <td>False</td>\n      <td>False</td>\n      <td>False</td>\n      <td>False</td>\n    </tr>\n    <tr>\n      <th>1308</th>\n      <td>False</td>\n      <td>False</td>\n      <td>False</td>\n      <td>False</td>\n      <td>False</td>\n      <td>False</td>\n      <td>False</td>\n      <td>False</td>\n      <td>False</td>\n    </tr>\n  </tbody>\n</table>\n<p>1309 rows × 9 columns</p>\n</div>"
     },
     "execution_count": 9,
     "metadata": {},
     "output_type": "execute_result"
    }
   ],
   "source": [
    "# Pandas 判断缺失值一般采用isnull()，生成所有数据的True/False矩阵\n",
    "# 这是元素级别的判断，把对应的所有元素的位置都列出来，元素为空或者为NA就显示为True，否则为False\n",
    "selected_df_data.isnull()"
   ]
  },
  {
   "cell_type": "code",
   "execution_count": 10,
   "metadata": {
    "collapsed": false,
    "pycharm": {
     "name": "#%%\n"
    }
   },
   "outputs": [
    {
     "data": {
      "text/plain": "survived    False\nname        False\npclass      False\nsex         False\nage          True\nsibsp       False\nparch       False\nfare         True\nembarked     True\ndtype: bool"
     },
     "execution_count": 10,
     "metadata": {},
     "output_type": "execute_result"
    }
   ],
   "source": [
    "# 判断哪一列有空值\n",
    "selected_df_data.isnull().any()"
   ]
  },
  {
   "cell_type": "code",
   "execution_count": 11,
   "metadata": {
    "collapsed": false,
    "pycharm": {
     "name": "#%%\n"
    }
   },
   "outputs": [
    {
     "data": {
      "text/plain": "survived      0\nname          0\npclass        0\nsex           0\nage         263\nsibsp         0\nparch         0\nfare          1\nembarked      2\ndtype: int64"
     },
     "execution_count": 11,
     "metadata": {},
     "output_type": "execute_result"
    }
   ],
   "source": [
    "# 判断每一列中有空值的个数\n",
    "selected_df_data.isnull().sum()"
   ]
  },
  {
   "cell_type": "code",
   "execution_count": 12,
   "metadata": {
    "collapsed": false,
    "pycharm": {
     "name": "#%%\n"
    }
   },
   "outputs": [
    {
     "data": {
      "text/plain": "      survived                                               name  pclass  \\\n15           0                                Baumann, Mr. John D       1   \n37           1      Bradley, Mr. George (\"George Arthur Brayton\")       1   \n40           0                          Brewe, Dr. Arthur Jackson       1   \n46           0                              Cairns, Mr. Alexander       1   \n59           1  Cassebeer, Mrs. Henry Arthur Jr (Eleanor Genev...       1   \n...        ...                                                ...     ...   \n1293         0                  Williams, Mr. Howard Hugh \"Harry\"       3   \n1297         0                             Wiseman, Mr. Phillippe       3   \n1302         0                                  Yousif, Mr. Wazli       3   \n1303         0                              Yousseff, Mr. Gerious       3   \n1305         0                              Zabour, Miss. Thamine       3   \n\n         sex  age  sibsp  parch     fare embarked  \n15      male  NaN      0      0  25.9250        S  \n37      male  NaN      0      0  26.5500        S  \n40      male  NaN      0      0  39.6000        C  \n46      male  NaN      0      0  31.0000        S  \n59    female  NaN      0      0  27.7208        C  \n...      ...  ...    ...    ...      ...      ...  \n1293    male  NaN      0      0   8.0500        S  \n1297    male  NaN      0      0   7.2500        S  \n1302    male  NaN      0      0   7.2250        C  \n1303    male  NaN      0      0  14.4583        C  \n1305  female  NaN      1      0  14.4542        C  \n\n[266 rows x 9 columns]",
      "text/html": "<div>\n<style scoped>\n    .dataframe tbody tr th:only-of-type {\n        vertical-align: middle;\n    }\n\n    .dataframe tbody tr th {\n        vertical-align: top;\n    }\n\n    .dataframe thead th {\n        text-align: right;\n    }\n</style>\n<table border=\"1\" class=\"dataframe\">\n  <thead>\n    <tr style=\"text-align: right;\">\n      <th></th>\n      <th>survived</th>\n      <th>name</th>\n      <th>pclass</th>\n      <th>sex</th>\n      <th>age</th>\n      <th>sibsp</th>\n      <th>parch</th>\n      <th>fare</th>\n      <th>embarked</th>\n    </tr>\n  </thead>\n  <tbody>\n    <tr>\n      <th>15</th>\n      <td>0</td>\n      <td>Baumann, Mr. John D</td>\n      <td>1</td>\n      <td>male</td>\n      <td>NaN</td>\n      <td>0</td>\n      <td>0</td>\n      <td>25.9250</td>\n      <td>S</td>\n    </tr>\n    <tr>\n      <th>37</th>\n      <td>1</td>\n      <td>Bradley, Mr. George (\"George Arthur Brayton\")</td>\n      <td>1</td>\n      <td>male</td>\n      <td>NaN</td>\n      <td>0</td>\n      <td>0</td>\n      <td>26.5500</td>\n      <td>S</td>\n    </tr>\n    <tr>\n      <th>40</th>\n      <td>0</td>\n      <td>Brewe, Dr. Arthur Jackson</td>\n      <td>1</td>\n      <td>male</td>\n      <td>NaN</td>\n      <td>0</td>\n      <td>0</td>\n      <td>39.6000</td>\n      <td>C</td>\n    </tr>\n    <tr>\n      <th>46</th>\n      <td>0</td>\n      <td>Cairns, Mr. Alexander</td>\n      <td>1</td>\n      <td>male</td>\n      <td>NaN</td>\n      <td>0</td>\n      <td>0</td>\n      <td>31.0000</td>\n      <td>S</td>\n    </tr>\n    <tr>\n      <th>59</th>\n      <td>1</td>\n      <td>Cassebeer, Mrs. Henry Arthur Jr (Eleanor Genev...</td>\n      <td>1</td>\n      <td>female</td>\n      <td>NaN</td>\n      <td>0</td>\n      <td>0</td>\n      <td>27.7208</td>\n      <td>C</td>\n    </tr>\n    <tr>\n      <th>...</th>\n      <td>...</td>\n      <td>...</td>\n      <td>...</td>\n      <td>...</td>\n      <td>...</td>\n      <td>...</td>\n      <td>...</td>\n      <td>...</td>\n      <td>...</td>\n    </tr>\n    <tr>\n      <th>1293</th>\n      <td>0</td>\n      <td>Williams, Mr. Howard Hugh \"Harry\"</td>\n      <td>3</td>\n      <td>male</td>\n      <td>NaN</td>\n      <td>0</td>\n      <td>0</td>\n      <td>8.0500</td>\n      <td>S</td>\n    </tr>\n    <tr>\n      <th>1297</th>\n      <td>0</td>\n      <td>Wiseman, Mr. Phillippe</td>\n      <td>3</td>\n      <td>male</td>\n      <td>NaN</td>\n      <td>0</td>\n      <td>0</td>\n      <td>7.2500</td>\n      <td>S</td>\n    </tr>\n    <tr>\n      <th>1302</th>\n      <td>0</td>\n      <td>Yousif, Mr. Wazli</td>\n      <td>3</td>\n      <td>male</td>\n      <td>NaN</td>\n      <td>0</td>\n      <td>0</td>\n      <td>7.2250</td>\n      <td>C</td>\n    </tr>\n    <tr>\n      <th>1303</th>\n      <td>0</td>\n      <td>Yousseff, Mr. Gerious</td>\n      <td>3</td>\n      <td>male</td>\n      <td>NaN</td>\n      <td>0</td>\n      <td>0</td>\n      <td>14.4583</td>\n      <td>C</td>\n    </tr>\n    <tr>\n      <th>1305</th>\n      <td>0</td>\n      <td>Zabour, Miss. Thamine</td>\n      <td>3</td>\n      <td>female</td>\n      <td>NaN</td>\n      <td>1</td>\n      <td>0</td>\n      <td>14.4542</td>\n      <td>C</td>\n    </tr>\n  </tbody>\n</table>\n<p>266 rows × 9 columns</p>\n</div>"
     },
     "execution_count": 12,
     "metadata": {},
     "output_type": "execute_result"
    }
   ],
   "source": [
    "# 显示存在空值的列，确定缺失位置\n",
    "selected_df_data[selected_df_data.isnull().values == True]"
   ]
  },
  {
   "cell_type": "markdown",
   "metadata": {
    "collapsed": false,
    "pycharm": {
     "name": "#%% md\n"
    }
   },
   "source": [
    "## 数据预处理函数"
   ]
  },
  {
   "cell_type": "code",
   "execution_count": 13,
   "metadata": {
    "collapsed": false,
    "pycharm": {
     "name": "#%%\n"
    }
   },
   "outputs": [],
   "source": [
    "def prepare_data(df_data):\n",
    "    # 删除姓名列\n",
    "    # drop不改变原有df中的数据，而是返回另一个DataFrame来存放删除后的数据\n",
    "    # axis = 1：代表删除列\n",
    "    df = df_data.drop([\"name\"], axis=1)\n",
    "\n",
    "    # 填充null值（缺失值）\n",
    "    # 此处均填充为平均值\n",
    "    # -------------------------------------------------------------------------\n",
    "    # 为缺失值age记录填充值\n",
    "    age_mean = df[\"age\"].mean()\n",
    "    df[\"age\"] = df[\"age\"].fillna(age_mean)\n",
    "    # -------------------------------------------------------------------------\n",
    "    # 为缺失值fare记录填充值\n",
    "    fare_mean = df[\"fare\"].mean()\n",
    "    df[\"fare\"] = df[\"fare\"].fillna(fare_mean)\n",
    "    # -------------------------------------------------------------------------\n",
    "    # 性别sex由字符转换成数字编码\n",
    "    df[\"sex\"] = df[\"sex\"].map({\"female\": 0, \"male\": 1}).astype(int)\n",
    "    # -------------------------------------------------------------------------\n",
    "    # 为缺失值embarked记录填充值\n",
    "    df[\"embarked\"] = df[\"embarked\"].fillna(\"S\")\n",
    "    # 港口embarked由字母表示转换为数字编码\n",
    "    df[\"embarked\"] = df[\"embarked\"].map({\"C\": 0, \"Q\": 1, \"S\": 2}).astype(int)\n",
    "\n",
    "    # 转换为ndarray数组（numpy格式数组）\n",
    "    ndarray_data = df.values\n",
    "\n",
    "    # 分离特征值和标签值\n",
    "    # ------------------------------------\n",
    "    # 第0列是标签值（survival列）\n",
    "    # [行，列]\n",
    "    # 保留所有行，列值从第1列（第0列）开始填充\n",
    "    label = ndarray_data[:, 0]\n",
    "    # ------------------------------------\n",
    "    # 后 1 ~ 8列为特征值（性别等）\n",
    "    # [行，列]\n",
    "    # 保留所有行，列值从第2列（第1列）开始填充\n",
    "    features = ndarray_data[:, 1:]\n",
    "\n",
    "    # 如有以下例子：\n",
    "    # 制作一份鸡汤，需要用到鸡、水、姜、葱、蒜、盐等材料，但材料间的取值范围均不相同\n",
    "    # 水的取值范围可能在2000克到3000克，但相比较之下盐可能仅需要1克2克，这样的取值范围在多元线性回归中是不合理的\n",
    "    # ----------------------------------------------------------------------------------------\n",
    "    # 为防止不同特征值取值范围之间的差异性，需要对特征数据进行归一化\n",
    "    # 归一化过程：[特征值 / max(特征值) - min(特征值)]\n",
    "    # ----------------------------------------------------------------------------------------\n",
    "    # 对特征数据列进行归一化（缩小差异区间至0~1）处理\n",
    "    # 利用sklearn封装API特征值标准化\n",
    "    minmax_scale = preprocessing.MinMaxScaler(feature_range=(0, 1))\n",
    "    norm_features = minmax_scale.fit_transform(features)\n",
    "\n",
    "    return norm_features, label"
   ]
  },
  {
   "cell_type": "markdown",
   "metadata": {
    "collapsed": false,
    "pycharm": {
     "name": "#%% md\n"
    }
   },
   "source": [
    "## 数据准备"
   ]
  },
  {
   "cell_type": "code",
   "execution_count": 14,
   "metadata": {
    "collapsed": false,
    "pycharm": {
     "name": "#%%\n"
    }
   },
   "outputs": [],
   "source": [
    "# shuffle，打乱数据顺序，为后面训练做准备\n",
    "# 通过Pandas的抽样函数sample实现，frac为百分比\n",
    "# selected_df_data数据保持不变\n",
    "# frac=1代表全部数据都需要进行打乱\n",
    "shuffle_df_data = selected_df_data.sample(frac=1)"
   ]
  },
  {
   "cell_type": "code",
   "execution_count": 15,
   "metadata": {
    "collapsed": false,
    "pycharm": {
     "name": "#%%\n"
    }
   },
   "outputs": [],
   "source": [
    "# 处理后的数据集\n",
    "# x_data = norm_features\n",
    "# y_data = label\n",
    "\n",
    "# FIX THIS\n",
    "x_data, y_data = prepare_data(shuffle_df_data)"
   ]
  },
  {
   "cell_type": "code",
   "execution_count": 16,
   "metadata": {
    "collapsed": false,
    "pycharm": {
     "name": "#%%\n"
    }
   },
   "outputs": [],
   "source": [
    "# 划分训练集和测试集\n",
    "train_size = int(len(x_data) * 0.8)\n",
    "\n",
    "x_train = x_data[:train_size]\n",
    "y_train = y_data[:train_size]\n",
    "\n",
    "x_test = x_data[train_size:]\n",
    "y_test = y_data[train_size:]"
   ]
  },
  {
   "cell_type": "markdown",
   "metadata": {
    "collapsed": false,
    "pycharm": {
     "name": "#%% md\n"
    }
   },
   "source": [
    "## 建立模型结构"
   ]
  },
  {
   "cell_type": "code",
   "execution_count": 17,
   "metadata": {
    "collapsed": false,
    "pycharm": {
     "name": "#%%\n"
    }
   },
   "outputs": [],
   "source": [
    "# 建立Keras序列模型\n",
    "# 7（本例中有7个特征，故输入层为7个神经元） -> 64 -> 32 -> 1（本例中生存值只有0与1两个值，故输出层只有一个神经元）\n",
    "model = tf.keras.models.Sequential()"
   ]
  },
  {
   "cell_type": "code",
   "execution_count": 18,
   "metadata": {
    "collapsed": false,
    "pycharm": {
     "name": "#%%\n"
    }
   },
   "outputs": [],
   "source": [
    "# 第一层隐层\n",
    "model.add(tf.keras.layers.Dense(\n",
    "    units=64,  # 神经元个数\n",
    "    input_dim=7,  # 输入层传递个数，也可不指定，等效于input_shape\n",
    "    use_bias=True,  # 是否使用偏置项\n",
    "    kernel_initializer=\"uniform\",  # 权重初始化方式，此处为unifrom分布\n",
    "    bias_initializer=\"zeros\",  # 偏置项初始化值\n",
    "    activation=\"relu\",  # 激活函数\n",
    "))"
   ]
  },
  {
   "cell_type": "code",
   "execution_count": 19,
   "metadata": {
    "collapsed": false,
    "pycharm": {
     "name": "#%%\n"
    }
   },
   "outputs": [],
   "source": [
    "# 防止层级间过拟合\n",
    "# model.add(tf.keras.layers.Dropout(rate=0.3))"
   ]
  },
  {
   "cell_type": "code",
   "execution_count": 20,
   "metadata": {
    "collapsed": false,
    "pycharm": {
     "name": "#%%\n"
    }
   },
   "outputs": [],
   "source": [
    "# 第二层隐层\n",
    "model.add(tf.keras.layers.Dense(\n",
    "    units=32,\n",
    "    activation=\"sigmoid\"\n",
    "))"
   ]
  },
  {
   "cell_type": "code",
   "execution_count": 21,
   "metadata": {
    "collapsed": false,
    "pycharm": {
     "name": "#%%\n"
    }
   },
   "outputs": [],
   "source": [
    "# 防止层级间过拟合\n",
    "# model.add(tf.keras.layers.Dropout(rate=0.3))"
   ]
  },
  {
   "cell_type": "code",
   "execution_count": 22,
   "metadata": {
    "collapsed": false,
    "pycharm": {
     "name": "#%%\n"
    }
   },
   "outputs": [],
   "source": [
    "# 输出层\n",
    "model.add(tf.keras.layers.Dense(\n",
    "    units=1,\n",
    "    activation=\"sigmoid\"\n",
    "))"
   ]
  },
  {
   "cell_type": "code",
   "execution_count": 23,
   "metadata": {
    "collapsed": false,
    "pycharm": {
     "name": "#%%\n"
    }
   },
   "outputs": [
    {
     "name": "stdout",
     "output_type": "stream",
     "text": [
      "Model: \"sequential\"\n",
      "_________________________________________________________________\n",
      "Layer (type)                 Output Shape              Param #   \n",
      "=================================================================\n",
      "dense (Dense)                (None, 64)                512       \n",
      "_________________________________________________________________\n",
      "dense_1 (Dense)              (None, 32)                2080      \n",
      "_________________________________________________________________\n",
      "dense_2 (Dense)              (None, 1)                 33        \n",
      "=================================================================\n",
      "Total params: 2,625\n",
      "Trainable params: 2,625\n",
      "Non-trainable params: 0\n",
      "_________________________________________________________________\n"
     ]
    }
   ],
   "source": [
    "model.summary()"
   ]
  },
  {
   "cell_type": "markdown",
   "metadata": {
    "collapsed": false
   },
   "source": [
    "## 模型设置"
   ]
  },
  {
   "cell_type": "code",
   "execution_count": 24,
   "metadata": {
    "collapsed": false,
    "pycharm": {
     "name": "#%%\n"
    }
   },
   "outputs": [],
   "source": [
    "model.compile(optimizer=tf.keras.optimizers.Adam(0.003),  # optimizer可以是优化器的名字，也可以是优化器的实例，传入学习率\n",
    "              loss=\"binary_crossentropy\",  # 损失函数名\n",
    "              # 用sigmoid作为激活函数，一般损失函数使用binary_crossentropy（二分交叉熵）\n",
    "              # 用softmax作为激活函数，一般损失函数使用categorical_crossentropy（分类交叉熵）\n",
    "              metrics=[\"accuracy\"]  # 模型要训练和评估的度量值\n",
    "              )"
   ]
  },
  {
   "cell_type": "markdown",
   "metadata": {
    "collapsed": false
   },
   "source": [
    "## 训练日志和模型存储"
   ]
  },
  {
   "cell_type": "code",
   "execution_count": 25,
   "metadata": {
    "collapsed": false,
    "pycharm": {
     "name": "#%%\n"
    }
   },
   "outputs": [
    {
     "name": "stdout",
     "output_type": "stream",
     "text": [
      "WARNING:tensorflow:`period` argument is deprecated. Please use `save_freq` to specify the frequency in number of batches seen.\n"
     ]
    }
   ],
   "source": [
    "log_dir = \"Log/7-Titanic\"\n",
    "checkpoint_path = \"Model_ckpt/7-Titanic/Titanic.{epoch:02d}-{val_loss:.2f}.ckpt\"\n",
    "checkpoint_dir = os.path.dirname(checkpoint_path)\n",
    "\n",
    "# 设置回调参数\n",
    "callbacks = [\n",
    "    tf.keras.callbacks.TensorBoard(log_dir=log_dir,\n",
    "                                   # 直方图频率\n",
    "                                   histogram_freq=2),\n",
    "    # 模型检查点\n",
    "    tf.keras.callbacks.ModelCheckpoint(filepath=checkpoint_path,\n",
    "                                       # 只保存模型权重值，但恢复时需先建立一个与存储模型相同的模型\n",
    "                                       # 若该值为False，则会连带初始模型一起进行打包存储，则在恢复时无需先建立模型\n",
    "                                       save_weights_only=True,\n",
    "                                       # 显示模式，是否显示保存点信息\n",
    "                                       # 0：不显示\n",
    "                                       # 1：显示\n",
    "                                       verbose=1,\n",
    "                                       # 保存周期，此处代表每5个周期保存一次\n",
    "                                       period=5)\n",
    "]\n"
   ]
  },
  {
   "cell_type": "markdown",
   "metadata": {
    "collapsed": false
   },
   "source": [
    "## 模型训练"
   ]
  },
  {
   "cell_type": "code",
   "execution_count": 26,
   "metadata": {
    "collapsed": false,
    "pycharm": {
     "name": "#%%\n"
    }
   },
   "outputs": [
    {
     "name": "stdout",
     "output_type": "stream",
     "text": [
      "Epoch 1/100\n",
      "21/21 - 1s - loss: 0.6991 - accuracy: 0.5054 - val_loss: 0.6098 - val_accuracy: 0.6619\n",
      "Epoch 2/100\n",
      "21/21 - 0s - loss: 0.6040 - accuracy: 0.6344 - val_loss: 0.5596 - val_accuracy: 0.7381\n",
      "Epoch 3/100\n",
      "21/21 - 0s - loss: 0.5348 - accuracy: 0.7622 - val_loss: 0.5071 - val_accuracy: 0.7667\n",
      "Epoch 4/100\n",
      "21/21 - 0s - loss: 0.4876 - accuracy: 0.7909 - val_loss: 0.4899 - val_accuracy: 0.7810\n",
      "Epoch 5/100\n",
      "21/21 - 0s - loss: 0.4749 - accuracy: 0.7921 - val_loss: 0.4833 - val_accuracy: 0.7762\n",
      "\n",
      "Epoch 00005: saving model to Model_ckpt/7-Titanic\\Titanic.05-0.48.ckpt\n",
      "Epoch 6/100\n",
      "21/21 - 0s - loss: 0.4645 - accuracy: 0.7993 - val_loss: 0.4780 - val_accuracy: 0.7857\n",
      "Epoch 7/100\n",
      "21/21 - 0s - loss: 0.4575 - accuracy: 0.8017 - val_loss: 0.4774 - val_accuracy: 0.7667\n",
      "Epoch 8/100\n",
      "21/21 - 0s - loss: 0.4539 - accuracy: 0.8029 - val_loss: 0.4791 - val_accuracy: 0.7714\n",
      "Epoch 9/100\n",
      "21/21 - 0s - loss: 0.4494 - accuracy: 0.8065 - val_loss: 0.4729 - val_accuracy: 0.7714\n",
      "Epoch 10/100\n",
      "21/21 - 0s - loss: 0.4465 - accuracy: 0.8112 - val_loss: 0.4719 - val_accuracy: 0.7952\n",
      "\n",
      "Epoch 00010: saving model to Model_ckpt/7-Titanic\\Titanic.10-0.47.ckpt\n",
      "Epoch 11/100\n",
      "21/21 - 0s - loss: 0.4469 - accuracy: 0.8065 - val_loss: 0.4701 - val_accuracy: 0.7952\n",
      "Epoch 12/100\n",
      "21/21 - 0s - loss: 0.4452 - accuracy: 0.8029 - val_loss: 0.4701 - val_accuracy: 0.7714\n",
      "Epoch 13/100\n",
      "21/21 - 0s - loss: 0.4423 - accuracy: 0.8148 - val_loss: 0.4706 - val_accuracy: 0.7714\n",
      "Epoch 14/100\n",
      "21/21 - 0s - loss: 0.4407 - accuracy: 0.8017 - val_loss: 0.4700 - val_accuracy: 0.7714\n",
      "Epoch 15/100\n",
      "21/21 - 0s - loss: 0.4439 - accuracy: 0.8017 - val_loss: 0.4674 - val_accuracy: 0.7905\n",
      "\n",
      "Epoch 00015: saving model to Model_ckpt/7-Titanic\\Titanic.15-0.47.ckpt\n",
      "Epoch 16/100\n",
      "21/21 - 0s - loss: 0.4379 - accuracy: 0.8088 - val_loss: 0.4713 - val_accuracy: 0.7714\n",
      "Epoch 17/100\n",
      "21/21 - 0s - loss: 0.4376 - accuracy: 0.8088 - val_loss: 0.4654 - val_accuracy: 0.7857\n",
      "Epoch 18/100\n",
      "21/21 - 0s - loss: 0.4387 - accuracy: 0.8053 - val_loss: 0.4659 - val_accuracy: 0.7952\n",
      "Epoch 19/100\n",
      "21/21 - 0s - loss: 0.4404 - accuracy: 0.7969 - val_loss: 0.4647 - val_accuracy: 0.7905\n",
      "Epoch 20/100\n",
      "21/21 - 0s - loss: 0.4371 - accuracy: 0.8124 - val_loss: 0.4656 - val_accuracy: 0.7857\n",
      "\n",
      "Epoch 00020: saving model to Model_ckpt/7-Titanic\\Titanic.20-0.47.ckpt\n",
      "Epoch 21/100\n",
      "21/21 - 0s - loss: 0.4360 - accuracy: 0.8136 - val_loss: 0.4679 - val_accuracy: 0.7667\n",
      "Epoch 22/100\n",
      "21/21 - 0s - loss: 0.4377 - accuracy: 0.8088 - val_loss: 0.4632 - val_accuracy: 0.7810\n",
      "Epoch 23/100\n",
      "21/21 - 0s - loss: 0.4375 - accuracy: 0.8017 - val_loss: 0.4649 - val_accuracy: 0.7905\n",
      "Epoch 24/100\n",
      "21/21 - 0s - loss: 0.4378 - accuracy: 0.8088 - val_loss: 0.4715 - val_accuracy: 0.7714\n",
      "Epoch 25/100\n",
      "21/21 - 0s - loss: 0.4348 - accuracy: 0.8041 - val_loss: 0.4616 - val_accuracy: 0.7857\n",
      "\n",
      "Epoch 00025: saving model to Model_ckpt/7-Titanic\\Titanic.25-0.46.ckpt\n",
      "Epoch 26/100\n",
      "21/21 - 0s - loss: 0.4342 - accuracy: 0.8088 - val_loss: 0.4628 - val_accuracy: 0.7905\n",
      "Epoch 27/100\n",
      "21/21 - 0s - loss: 0.4340 - accuracy: 0.8160 - val_loss: 0.4737 - val_accuracy: 0.7714\n",
      "Epoch 28/100\n",
      "21/21 - 0s - loss: 0.4335 - accuracy: 0.8172 - val_loss: 0.4659 - val_accuracy: 0.7810\n",
      "Epoch 29/100\n",
      "21/21 - 0s - loss: 0.4348 - accuracy: 0.8053 - val_loss: 0.4649 - val_accuracy: 0.7810\n",
      "Epoch 30/100\n",
      "21/21 - 0s - loss: 0.4307 - accuracy: 0.8184 - val_loss: 0.4629 - val_accuracy: 0.7905\n",
      "\n",
      "Epoch 00030: saving model to Model_ckpt/7-Titanic\\Titanic.30-0.46.ckpt\n",
      "Epoch 31/100\n",
      "21/21 - 0s - loss: 0.4326 - accuracy: 0.8065 - val_loss: 0.4663 - val_accuracy: 0.7857\n",
      "Epoch 32/100\n",
      "21/21 - 0s - loss: 0.4306 - accuracy: 0.8136 - val_loss: 0.4611 - val_accuracy: 0.7905\n",
      "Epoch 33/100\n",
      "21/21 - 0s - loss: 0.4358 - accuracy: 0.8053 - val_loss: 0.4762 - val_accuracy: 0.7667\n",
      "Epoch 34/100\n",
      "21/21 - 0s - loss: 0.4351 - accuracy: 0.8065 - val_loss: 0.4652 - val_accuracy: 0.7810\n",
      "Epoch 35/100\n",
      "21/21 - 0s - loss: 0.4310 - accuracy: 0.8088 - val_loss: 0.4605 - val_accuracy: 0.7857\n",
      "\n",
      "Epoch 00035: saving model to Model_ckpt/7-Titanic\\Titanic.35-0.46.ckpt\n",
      "Epoch 36/100\n",
      "21/21 - 0s - loss: 0.4305 - accuracy: 0.8124 - val_loss: 0.4662 - val_accuracy: 0.7857\n",
      "Epoch 37/100\n",
      "21/21 - 0s - loss: 0.4301 - accuracy: 0.8065 - val_loss: 0.4649 - val_accuracy: 0.7857\n",
      "Epoch 38/100\n",
      "21/21 - 0s - loss: 0.4310 - accuracy: 0.8100 - val_loss: 0.4591 - val_accuracy: 0.7857\n",
      "Epoch 39/100\n",
      "21/21 - 0s - loss: 0.4294 - accuracy: 0.8100 - val_loss: 0.4623 - val_accuracy: 0.7905\n",
      "Epoch 40/100\n",
      "21/21 - 0s - loss: 0.4308 - accuracy: 0.8076 - val_loss: 0.4623 - val_accuracy: 0.7857\n",
      "\n",
      "Epoch 00040: saving model to Model_ckpt/7-Titanic\\Titanic.40-0.46.ckpt\n",
      "Epoch 41/100\n",
      "21/21 - 0s - loss: 0.4291 - accuracy: 0.8148 - val_loss: 0.4652 - val_accuracy: 0.7857\n",
      "Epoch 42/100\n",
      "21/21 - 0s - loss: 0.4310 - accuracy: 0.8076 - val_loss: 0.4627 - val_accuracy: 0.7857\n",
      "Epoch 43/100\n",
      "21/21 - 0s - loss: 0.4317 - accuracy: 0.8112 - val_loss: 0.4604 - val_accuracy: 0.7905\n",
      "Epoch 44/100\n",
      "21/21 - 0s - loss: 0.4293 - accuracy: 0.8148 - val_loss: 0.4633 - val_accuracy: 0.7952\n",
      "Epoch 45/100\n",
      "21/21 - 0s - loss: 0.4320 - accuracy: 0.8053 - val_loss: 0.4612 - val_accuracy: 0.7952\n",
      "\n",
      "Epoch 00045: saving model to Model_ckpt/7-Titanic\\Titanic.45-0.46.ckpt\n",
      "Epoch 46/100\n",
      "21/21 - 0s - loss: 0.4287 - accuracy: 0.8076 - val_loss: 0.4599 - val_accuracy: 0.7857\n",
      "Epoch 47/100\n",
      "21/21 - 0s - loss: 0.4369 - accuracy: 0.8088 - val_loss: 0.4637 - val_accuracy: 0.7952\n",
      "Epoch 48/100\n",
      "21/21 - 0s - loss: 0.4362 - accuracy: 0.8112 - val_loss: 0.4592 - val_accuracy: 0.7905\n",
      "Epoch 49/100\n",
      "21/21 - 0s - loss: 0.4276 - accuracy: 0.8172 - val_loss: 0.4704 - val_accuracy: 0.7714\n",
      "Epoch 50/100\n",
      "21/21 - 0s - loss: 0.4292 - accuracy: 0.8124 - val_loss: 0.4596 - val_accuracy: 0.7905\n",
      "\n",
      "Epoch 00050: saving model to Model_ckpt/7-Titanic\\Titanic.50-0.46.ckpt\n",
      "Epoch 51/100\n",
      "21/21 - 0s - loss: 0.4323 - accuracy: 0.8076 - val_loss: 0.4585 - val_accuracy: 0.7810\n",
      "Epoch 52/100\n",
      "21/21 - 0s - loss: 0.4270 - accuracy: 0.8124 - val_loss: 0.4618 - val_accuracy: 0.7857\n",
      "Epoch 53/100\n",
      "21/21 - 0s - loss: 0.4270 - accuracy: 0.8088 - val_loss: 0.4593 - val_accuracy: 0.7857\n",
      "Epoch 54/100\n",
      "21/21 - 0s - loss: 0.4291 - accuracy: 0.8124 - val_loss: 0.4586 - val_accuracy: 0.7905\n",
      "Epoch 55/100\n",
      "21/21 - 0s - loss: 0.4259 - accuracy: 0.8124 - val_loss: 0.4597 - val_accuracy: 0.7905\n",
      "\n",
      "Epoch 00055: saving model to Model_ckpt/7-Titanic\\Titanic.55-0.46.ckpt\n",
      "Epoch 56/100\n",
      "21/21 - 0s - loss: 0.4313 - accuracy: 0.8065 - val_loss: 0.4629 - val_accuracy: 0.7857\n",
      "Epoch 57/100\n",
      "21/21 - 0s - loss: 0.4246 - accuracy: 0.8112 - val_loss: 0.4598 - val_accuracy: 0.7810\n",
      "Epoch 58/100\n",
      "21/21 - 0s - loss: 0.4302 - accuracy: 0.8088 - val_loss: 0.4594 - val_accuracy: 0.7857\n",
      "Epoch 59/100\n",
      "21/21 - 0s - loss: 0.4279 - accuracy: 0.8041 - val_loss: 0.4579 - val_accuracy: 0.7905\n",
      "Epoch 60/100\n",
      "21/21 - 0s - loss: 0.4323 - accuracy: 0.8100 - val_loss: 0.4649 - val_accuracy: 0.7857\n",
      "\n",
      "Epoch 00060: saving model to Model_ckpt/7-Titanic\\Titanic.60-0.46.ckpt\n",
      "Epoch 61/100\n",
      "21/21 - 0s - loss: 0.4303 - accuracy: 0.8088 - val_loss: 0.4743 - val_accuracy: 0.7667\n",
      "Epoch 62/100\n",
      "21/21 - 0s - loss: 0.4314 - accuracy: 0.8172 - val_loss: 0.4615 - val_accuracy: 0.7857\n",
      "Epoch 63/100\n",
      "21/21 - 0s - loss: 0.4262 - accuracy: 0.8136 - val_loss: 0.4600 - val_accuracy: 0.7857\n",
      "Epoch 64/100\n",
      "21/21 - 0s - loss: 0.4274 - accuracy: 0.8100 - val_loss: 0.4603 - val_accuracy: 0.7952\n",
      "Epoch 65/100\n",
      "21/21 - 0s - loss: 0.4272 - accuracy: 0.8088 - val_loss: 0.4590 - val_accuracy: 0.7905\n",
      "\n",
      "Epoch 00065: saving model to Model_ckpt/7-Titanic\\Titanic.65-0.46.ckpt\n",
      "Epoch 66/100\n",
      "21/21 - 0s - loss: 0.4280 - accuracy: 0.8136 - val_loss: 0.4601 - val_accuracy: 0.7905\n",
      "Epoch 67/100\n",
      "21/21 - 0s - loss: 0.4254 - accuracy: 0.8100 - val_loss: 0.4727 - val_accuracy: 0.7667\n",
      "Epoch 68/100\n",
      "21/21 - 0s - loss: 0.4325 - accuracy: 0.8041 - val_loss: 0.4597 - val_accuracy: 0.7952\n",
      "Epoch 69/100\n",
      "21/21 - 0s - loss: 0.4261 - accuracy: 0.8160 - val_loss: 0.4591 - val_accuracy: 0.7905\n",
      "Epoch 70/100\n",
      "21/21 - 0s - loss: 0.4262 - accuracy: 0.8112 - val_loss: 0.4587 - val_accuracy: 0.7905\n",
      "\n",
      "Epoch 00070: saving model to Model_ckpt/7-Titanic\\Titanic.70-0.46.ckpt\n",
      "Epoch 71/100\n",
      "21/21 - 0s - loss: 0.4277 - accuracy: 0.8172 - val_loss: 0.4583 - val_accuracy: 0.7905\n",
      "Epoch 72/100\n",
      "21/21 - 0s - loss: 0.4306 - accuracy: 0.8124 - val_loss: 0.4581 - val_accuracy: 0.7857\n",
      "Epoch 73/100\n",
      "21/21 - 0s - loss: 0.4238 - accuracy: 0.8124 - val_loss: 0.4594 - val_accuracy: 0.7905\n",
      "Epoch 74/100\n",
      "21/21 - 0s - loss: 0.4237 - accuracy: 0.8136 - val_loss: 0.4591 - val_accuracy: 0.7952\n",
      "Epoch 75/100\n",
      "21/21 - 0s - loss: 0.4266 - accuracy: 0.8112 - val_loss: 0.4668 - val_accuracy: 0.7762\n",
      "\n",
      "Epoch 00075: saving model to Model_ckpt/7-Titanic\\Titanic.75-0.47.ckpt\n",
      "Epoch 76/100\n",
      "21/21 - 0s - loss: 0.4260 - accuracy: 0.8112 - val_loss: 0.4604 - val_accuracy: 0.7952\n",
      "Epoch 77/100\n",
      "21/21 - 0s - loss: 0.4257 - accuracy: 0.8112 - val_loss: 0.4621 - val_accuracy: 0.7857\n",
      "Epoch 78/100\n",
      "21/21 - 0s - loss: 0.4311 - accuracy: 0.8160 - val_loss: 0.4598 - val_accuracy: 0.7857\n",
      "Epoch 79/100\n",
      "21/21 - 0s - loss: 0.4240 - accuracy: 0.8136 - val_loss: 0.4612 - val_accuracy: 0.7810\n",
      "Epoch 80/100\n",
      "21/21 - 0s - loss: 0.4230 - accuracy: 0.8112 - val_loss: 0.4667 - val_accuracy: 0.7857\n",
      "\n",
      "Epoch 00080: saving model to Model_ckpt/7-Titanic\\Titanic.80-0.47.ckpt\n",
      "Epoch 81/100\n",
      "21/21 - 0s - loss: 0.4256 - accuracy: 0.8100 - val_loss: 0.4641 - val_accuracy: 0.7762\n",
      "Epoch 82/100\n",
      "21/21 - 0s - loss: 0.4246 - accuracy: 0.8172 - val_loss: 0.4614 - val_accuracy: 0.7857\n",
      "Epoch 83/100\n",
      "21/21 - 0s - loss: 0.4237 - accuracy: 0.8148 - val_loss: 0.4614 - val_accuracy: 0.7857\n",
      "Epoch 84/100\n",
      "21/21 - 0s - loss: 0.4266 - accuracy: 0.8100 - val_loss: 0.4630 - val_accuracy: 0.7762\n",
      "Epoch 85/100\n",
      "21/21 - 0s - loss: 0.4241 - accuracy: 0.8160 - val_loss: 0.4593 - val_accuracy: 0.7905\n",
      "\n",
      "Epoch 00085: saving model to Model_ckpt/7-Titanic\\Titanic.85-0.46.ckpt\n",
      "Epoch 86/100\n",
      "21/21 - 0s - loss: 0.4235 - accuracy: 0.8160 - val_loss: 0.4634 - val_accuracy: 0.7857\n",
      "Epoch 87/100\n",
      "21/21 - 0s - loss: 0.4219 - accuracy: 0.8148 - val_loss: 0.4601 - val_accuracy: 0.7905\n",
      "Epoch 88/100\n",
      "21/21 - 0s - loss: 0.4222 - accuracy: 0.8196 - val_loss: 0.4751 - val_accuracy: 0.7714\n",
      "Epoch 89/100\n",
      "21/21 - 0s - loss: 0.4229 - accuracy: 0.8196 - val_loss: 0.4580 - val_accuracy: 0.8000\n",
      "Epoch 90/100\n",
      "21/21 - 0s - loss: 0.4228 - accuracy: 0.8136 - val_loss: 0.4620 - val_accuracy: 0.7857\n",
      "\n",
      "Epoch 00090: saving model to Model_ckpt/7-Titanic\\Titanic.90-0.46.ckpt\n",
      "Epoch 91/100\n",
      "21/21 - 0s - loss: 0.4229 - accuracy: 0.8100 - val_loss: 0.4595 - val_accuracy: 0.7952\n",
      "Epoch 92/100\n",
      "21/21 - 0s - loss: 0.4260 - accuracy: 0.8220 - val_loss: 0.4614 - val_accuracy: 0.7810\n",
      "Epoch 93/100\n",
      "21/21 - 0s - loss: 0.4285 - accuracy: 0.8220 - val_loss: 0.4579 - val_accuracy: 0.7905\n",
      "Epoch 94/100\n",
      "21/21 - 0s - loss: 0.4277 - accuracy: 0.8172 - val_loss: 0.4590 - val_accuracy: 0.7952\n",
      "Epoch 95/100\n",
      "21/21 - 0s - loss: 0.4251 - accuracy: 0.8184 - val_loss: 0.4660 - val_accuracy: 0.7762\n",
      "\n",
      "Epoch 00095: saving model to Model_ckpt/7-Titanic\\Titanic.95-0.47.ckpt\n",
      "Epoch 96/100\n",
      "21/21 - 0s - loss: 0.4224 - accuracy: 0.8100 - val_loss: 0.4624 - val_accuracy: 0.7857\n",
      "Epoch 97/100\n",
      "21/21 - 0s - loss: 0.4233 - accuracy: 0.8100 - val_loss: 0.4595 - val_accuracy: 0.7952\n",
      "Epoch 98/100\n",
      "21/21 - 0s - loss: 0.4231 - accuracy: 0.8196 - val_loss: 0.4621 - val_accuracy: 0.7857\n",
      "Epoch 99/100\n",
      "21/21 - 0s - loss: 0.4225 - accuracy: 0.8172 - val_loss: 0.4587 - val_accuracy: 0.7905\n",
      "Epoch 100/100\n",
      "21/21 - 0s - loss: 0.4258 - accuracy: 0.8172 - val_loss: 0.4581 - val_accuracy: 0.7952\n",
      "\n",
      "Epoch 00100: saving model to Model_ckpt/7-Titanic\\Titanic.100-0.46.ckpt\n"
     ]
    }
   ],
   "source": [
    "train_history = model.fit(x=x_train,  # 训练数据\n",
    "                          y=y_train,  # 目标数据（标签数据）\n",
    "                          epochs=100,  # 训练迭代次数\n",
    "                          batch_size=40,  # 批次大小\n",
    "                          validation_split=0.2,  # 验证集占比\n",
    "                          callbacks=callbacks,  # 模型回调函数\n",
    "                          verbose=2,  # 训练过程的日志显示，\n",
    "                          # 0：不在标准输出流输出日志信息\n",
    "                          # 1：输出进度条显示\n",
    "                          # 2：每个epoch输出一行记录\n",
    "                          )\n"
   ]
  },
  {
   "cell_type": "code",
   "execution_count": 27,
   "metadata": {
    "collapsed": false,
    "pycharm": {
     "name": "#%%\n"
    }
   },
   "outputs": [
    {
     "data": {
      "text/plain": "{'loss': [0.6990598440170288,\n  0.6040061116218567,\n  0.5347625017166138,\n  0.48762020468711853,\n  0.47487950325012207,\n  0.4645157754421234,\n  0.4575343430042267,\n  0.4539036154747009,\n  0.44944676756858826,\n  0.44652900099754333,\n  0.4469107985496521,\n  0.44520673155784607,\n  0.44230279326438904,\n  0.44074806571006775,\n  0.44393274188041687,\n  0.4379091262817383,\n  0.43762651085853577,\n  0.438679575920105,\n  0.4404221773147583,\n  0.4370936155319214,\n  0.4360096752643585,\n  0.4376875162124634,\n  0.43751218914985657,\n  0.4377693831920624,\n  0.43479636311531067,\n  0.4341910183429718,\n  0.43396899104118347,\n  0.43350157141685486,\n  0.4348328411579132,\n  0.4306698739528656,\n  0.43264132738113403,\n  0.43062055110931396,\n  0.4358099102973938,\n  0.4351372718811035,\n  0.43099528551101685,\n  0.4304588735103607,\n  0.43006348609924316,\n  0.430978387594223,\n  0.42935511469841003,\n  0.4308029115200043,\n  0.429055780172348,\n  0.43104270100593567,\n  0.43166932463645935,\n  0.42930498719215393,\n  0.43195080757141113,\n  0.4287019670009613,\n  0.4369316101074219,\n  0.4362119436264038,\n  0.4275769293308258,\n  0.42919009923934937,\n  0.4322677254676819,\n  0.42701658606529236,\n  0.42701125144958496,\n  0.42907074093818665,\n  0.42586836218833923,\n  0.4312928020954132,\n  0.42456188797950745,\n  0.43020105361938477,\n  0.4279094934463501,\n  0.43225762248039246,\n  0.43027564883232117,\n  0.43138375878334045,\n  0.4262184798717499,\n  0.42739051580429077,\n  0.4271671175956726,\n  0.42798149585723877,\n  0.42542797327041626,\n  0.4324784278869629,\n  0.426118940114975,\n  0.42624226212501526,\n  0.42770707607269287,\n  0.43064314126968384,\n  0.42380091547966003,\n  0.42369285225868225,\n  0.42659154534339905,\n  0.4260483980178833,\n  0.42566853761672974,\n  0.431094765663147,\n  0.42401209473609924,\n  0.4229957163333893,\n  0.42564883828163147,\n  0.4245917797088623,\n  0.4236816167831421,\n  0.42657575011253357,\n  0.42405131459236145,\n  0.4234943985939026,\n  0.42191699147224426,\n  0.42218920588493347,\n  0.422927588224411,\n  0.42282116413116455,\n  0.42293021082878113,\n  0.42596539855003357,\n  0.42850732803344727,\n  0.4276910722255707,\n  0.4250717759132385,\n  0.42244666814804077,\n  0.4233097732067108,\n  0.42313289642333984,\n  0.42248228192329407,\n  0.42578643560409546],\n 'accuracy': [0.5053763389587402,\n  0.6344085931777954,\n  0.7622461318969727,\n  0.7909199595451355,\n  0.7921146750450134,\n  0.7992831468582153,\n  0.801672637462616,\n  0.8028674125671387,\n  0.8064516186714172,\n  0.8112305998802185,\n  0.8064516186714172,\n  0.8028674125671387,\n  0.8148148059844971,\n  0.801672637462616,\n  0.801672637462616,\n  0.8088411092758179,\n  0.8088411092758179,\n  0.8052568435668945,\n  0.7968936562538147,\n  0.8124253153800964,\n  0.8136200904846191,\n  0.8088411092758179,\n  0.801672637462616,\n  0.8088411092758179,\n  0.8040621280670166,\n  0.8088411092758179,\n  0.8160095810890198,\n  0.8172042965888977,\n  0.8052568435668945,\n  0.8183990716934204,\n  0.8064516186714172,\n  0.8136200904846191,\n  0.8052568435668945,\n  0.8064516186714172,\n  0.8088411092758179,\n  0.8124253153800964,\n  0.8064516186714172,\n  0.8100358247756958,\n  0.8100358247756958,\n  0.8076463341712952,\n  0.8148148059844971,\n  0.8076463341712952,\n  0.8112305998802185,\n  0.8148148059844971,\n  0.8052568435668945,\n  0.8076463341712952,\n  0.8088411092758179,\n  0.8112305998802185,\n  0.8172042965888977,\n  0.8124253153800964,\n  0.8076463341712952,\n  0.8124253153800964,\n  0.8088411092758179,\n  0.8124253153800964,\n  0.8124253153800964,\n  0.8064516186714172,\n  0.8112305998802185,\n  0.8088411092758179,\n  0.8040621280670166,\n  0.8100358247756958,\n  0.8088411092758179,\n  0.8172042965888977,\n  0.8136200904846191,\n  0.8100358247756958,\n  0.8088411092758179,\n  0.8136200904846191,\n  0.8100358247756958,\n  0.8040621280670166,\n  0.8160095810890198,\n  0.8112305998802185,\n  0.8172042965888977,\n  0.8124253153800964,\n  0.8124253153800964,\n  0.8136200904846191,\n  0.8112305998802185,\n  0.8112305998802185,\n  0.8112305998802185,\n  0.8160095810890198,\n  0.8136200904846191,\n  0.8112305998802185,\n  0.8100358247756958,\n  0.8172042965888977,\n  0.8148148059844971,\n  0.8100358247756958,\n  0.8160095810890198,\n  0.8160095810890198,\n  0.8148148059844971,\n  0.8195937871932983,\n  0.8195937871932983,\n  0.8136200904846191,\n  0.8100358247756958,\n  0.821983277797699,\n  0.821983277797699,\n  0.8172042965888977,\n  0.8183990716934204,\n  0.8100358247756958,\n  0.8100358247756958,\n  0.8195937871932983,\n  0.8172042965888977,\n  0.8172042965888977],\n 'val_loss': [0.6097636818885803,\n  0.559573233127594,\n  0.5070909857749939,\n  0.4898761808872223,\n  0.4833379089832306,\n  0.47801369428634644,\n  0.4774380624294281,\n  0.47914785146713257,\n  0.4728713631629944,\n  0.47187286615371704,\n  0.47012388706207275,\n  0.4701300859451294,\n  0.4706142842769623,\n  0.4699821174144745,\n  0.4674198031425476,\n  0.4713458716869354,\n  0.4653564691543579,\n  0.4658578038215637,\n  0.46466755867004395,\n  0.46564075350761414,\n  0.4679275453090668,\n  0.4632203280925751,\n  0.4649306833744049,\n  0.47149789333343506,\n  0.4615843892097473,\n  0.4628329277038574,\n  0.4737497568130493,\n  0.46590882539749146,\n  0.4648652672767639,\n  0.46293261647224426,\n  0.4662913978099823,\n  0.4611261188983917,\n  0.4762282967567444,\n  0.46523645520210266,\n  0.46051594614982605,\n  0.46615123748779297,\n  0.464915007352829,\n  0.45914390683174133,\n  0.46229249238967896,\n  0.4622977077960968,\n  0.46517214179039,\n  0.46274107694625854,\n  0.46035662293434143,\n  0.4633096158504486,\n  0.46120133996009827,\n  0.4599064886569977,\n  0.46370428800582886,\n  0.4591822922229767,\n  0.4704030752182007,\n  0.45958858728408813,\n  0.4584541916847229,\n  0.4617701470851898,\n  0.45930758118629456,\n  0.45857906341552734,\n  0.45970800518989563,\n  0.46293511986732483,\n  0.4598346948623657,\n  0.4593693017959595,\n  0.4578990340232849,\n  0.46487918496131897,\n  0.474332332611084,\n  0.46146389842033386,\n  0.45998114347457886,\n  0.4602571725845337,\n  0.4589528739452362,\n  0.4601050019264221,\n  0.472739577293396,\n  0.45965030789375305,\n  0.459070086479187,\n  0.4586524963378906,\n  0.45825013518333435,\n  0.4581386148929596,\n  0.45941001176834106,\n  0.4591389000415802,\n  0.46684303879737854,\n  0.4603516459465027,\n  0.46207815408706665,\n  0.4598274528980255,\n  0.46115872263908386,\n  0.46671515703201294,\n  0.46408843994140625,\n  0.4613887667655945,\n  0.46141523122787476,\n  0.46304455399513245,\n  0.4592820703983307,\n  0.46339428424835205,\n  0.4601162075996399,\n  0.47508785128593445,\n  0.45801660418510437,\n  0.46195170283317566,\n  0.4595131576061249,\n  0.46142807602882385,\n  0.4579141139984131,\n  0.4590001702308655,\n  0.4660232961177826,\n  0.46240854263305664,\n  0.45947450399398804,\n  0.4621274173259735,\n  0.45872747898101807,\n  0.4581319987773895],\n 'val_accuracy': [0.6619047522544861,\n  0.738095223903656,\n  0.7666666507720947,\n  0.7809523940086365,\n  0.776190459728241,\n  0.7857142686843872,\n  0.7666666507720947,\n  0.7714285850524902,\n  0.7714285850524902,\n  0.7952380776405334,\n  0.7952380776405334,\n  0.7714285850524902,\n  0.7714285850524902,\n  0.7714285850524902,\n  0.7904762029647827,\n  0.7714285850524902,\n  0.7857142686843872,\n  0.7952380776405334,\n  0.7904762029647827,\n  0.7857142686843872,\n  0.7666666507720947,\n  0.7809523940086365,\n  0.7904762029647827,\n  0.7714285850524902,\n  0.7857142686843872,\n  0.7904762029647827,\n  0.7714285850524902,\n  0.7809523940086365,\n  0.7809523940086365,\n  0.7904762029647827,\n  0.7857142686843872,\n  0.7904762029647827,\n  0.7666666507720947,\n  0.7809523940086365,\n  0.7857142686843872,\n  0.7857142686843872,\n  0.7857142686843872,\n  0.7857142686843872,\n  0.7904762029647827,\n  0.7857142686843872,\n  0.7857142686843872,\n  0.7857142686843872,\n  0.7904762029647827,\n  0.7952380776405334,\n  0.7952380776405334,\n  0.7857142686843872,\n  0.7952380776405334,\n  0.7904762029647827,\n  0.7714285850524902,\n  0.7904762029647827,\n  0.7809523940086365,\n  0.7857142686843872,\n  0.7857142686843872,\n  0.7904762029647827,\n  0.7904762029647827,\n  0.7857142686843872,\n  0.7809523940086365,\n  0.7857142686843872,\n  0.7904762029647827,\n  0.7857142686843872,\n  0.7666666507720947,\n  0.7857142686843872,\n  0.7857142686843872,\n  0.7952380776405334,\n  0.7904762029647827,\n  0.7904762029647827,\n  0.7666666507720947,\n  0.7952380776405334,\n  0.7904762029647827,\n  0.7904762029647827,\n  0.7904762029647827,\n  0.7857142686843872,\n  0.7904762029647827,\n  0.7952380776405334,\n  0.776190459728241,\n  0.7952380776405334,\n  0.7857142686843872,\n  0.7857142686843872,\n  0.7809523940086365,\n  0.7857142686843872,\n  0.776190459728241,\n  0.7857142686843872,\n  0.7857142686843872,\n  0.776190459728241,\n  0.7904762029647827,\n  0.7857142686843872,\n  0.7904762029647827,\n  0.7714285850524902,\n  0.800000011920929,\n  0.7857142686843872,\n  0.7952380776405334,\n  0.7809523940086365,\n  0.7904762029647827,\n  0.7952380776405334,\n  0.776190459728241,\n  0.7857142686843872,\n  0.7952380776405334,\n  0.7857142686843872,\n  0.7904762029647827,\n  0.7952380776405334]}"
     },
     "execution_count": 27,
     "metadata": {},
     "output_type": "execute_result"
    }
   ],
   "source": [
    "train_history.history"
   ]
  },
  {
   "cell_type": "code",
   "execution_count": 28,
   "metadata": {
    "collapsed": false,
    "pycharm": {
     "name": "#%%\n"
    }
   },
   "outputs": [
    {
     "data": {
      "text/plain": "dict_keys(['loss', 'accuracy', 'val_loss', 'val_accuracy'])"
     },
     "execution_count": 28,
     "metadata": {},
     "output_type": "execute_result"
    }
   ],
   "source": [
    "train_history.history.keys()"
   ]
  },
  {
   "cell_type": "markdown",
   "metadata": {
    "collapsed": false
   },
   "source": [
    "## 训练过程可视化"
   ]
  },
  {
   "cell_type": "code",
   "execution_count": 29,
   "metadata": {
    "collapsed": false,
    "pycharm": {
     "name": "#%%\n"
    }
   },
   "outputs": [],
   "source": [
    "def show_train_history(train_history, train_metric, val_metric):\n",
    "    plt.plot(train_history.history[train_metric])\n",
    "    plt.plot(train_history.history[val_metric])\n",
    "\n",
    "    plt.title(\"Train History\")\n",
    "    plt.xlabel(\"Epochs\")\n",
    "    plt.ylabel(train_metric)\n",
    "\n",
    "    plt.legend([\"Train\", \"Validation\"], loc=\"upper left\")\n",
    "\n",
    "    plt.show()"
   ]
  },
  {
   "cell_type": "code",
   "execution_count": 30,
   "metadata": {
    "collapsed": false,
    "pycharm": {
     "name": "#%%\n"
    }
   },
   "outputs": [
    {
     "data": {
      "text/plain": "<Figure size 432x288 with 1 Axes>",
      "image/png": "[encoded data removed]"
     },
     "metadata": {
      "needs_background": "light"
     },
     "output_type": "display_data"
    }
   ],
   "source": [
    "show_train_history(train_history, \"loss\", \"val_loss\")"
   ]
  },
  {
   "cell_type": "code",
   "execution_count": 31,
   "metadata": {
    "collapsed": false,
    "pycharm": {
     "name": "#%%\n"
    }
   },
   "outputs": [
    {
     "data": {
      "text/plain": "<Figure size 432x288 with 1 Axes>",
      "image/png": "[encoded data removed]"
     },
     "metadata": {
      "needs_background": "light"
     },
     "output_type": "display_data"
    }
   ],
   "source": [
    "show_train_history(train_history, \"accuracy\", \"val_accuracy\")"
   ]
  },
  {
   "cell_type": "markdown",
   "metadata": {
    "collapsed": false,
    "pycharm": {
     "name": "#%% md\n"
    }
   },
   "source": [
    "## 恢复模型"
   ]
  },
  {
   "cell_type": "code",
   "execution_count": 34,
   "metadata": {
    "collapsed": false,
    "pycharm": {
     "name": "#%%\n"
    }
   },
   "outputs": [
    {
     "data": {
      "text/plain": "'Model_ckpt/7-Titanic\\\\Titanic.100-0.46.ckpt'"
     },
     "execution_count": 34,
     "metadata": {},
     "output_type": "execute_result"
    }
   ],
   "source": [
    "latest = tf.train.latest_checkpoint(checkpoint_dir)\n",
    "\n",
    "latest"
   ]
  },
  {
   "cell_type": "code",
   "execution_count": 35,
   "metadata": {
    "collapsed": false,
    "pycharm": {
     "name": "#%%\n"
    }
   },
   "outputs": [
    {
     "data": {
      "text/plain": "<tensorflow.python.training.tracking.util.CheckpointLoadStatus at 0x1d4226f19b0>"
     },
     "execution_count": 35,
     "metadata": {},
     "output_type": "execute_result"
    }
   ],
   "source": [
    "model.load_weights(latest)"
   ]
  },
  {
   "cell_type": "markdown",
   "metadata": {
    "collapsed": false
   },
   "source": [
    "## 评估模型"
   ]
  },
  {
   "cell_type": "code",
   "execution_count": 36,
   "metadata": {
    "collapsed": false,
    "pycharm": {
     "name": "#%%\n"
    }
   },
   "outputs": [
    {
     "name": "stdout",
     "output_type": "stream",
     "text": [
      "9/9 [==============================] - 0s 2ms/step - loss: 0.4530 - accuracy: 0.8092\n"
     ]
    }
   ],
   "source": [
    "result = model.evaluate(x=x_test, y=y_test)"
   ]
  },
  {
   "cell_type": "code",
   "execution_count": 37,
   "metadata": {
    "collapsed": false,
    "pycharm": {
     "name": "#%%\n"
    }
   },
   "outputs": [
    {
     "data": {
      "text/plain": "[0.45301368832588196, 0.8091602921485901]"
     },
     "execution_count": 37,
     "metadata": {},
     "output_type": "execute_result"
    }
   ],
   "source": [
    "result"
   ]
  },
  {
   "cell_type": "code",
   "execution_count": 38,
   "metadata": {
    "collapsed": false,
    "pycharm": {
     "name": "#%%\n"
    }
   },
   "outputs": [
    {
     "data": {
      "text/plain": "['loss', 'accuracy']"
     },
     "execution_count": 38,
     "metadata": {},
     "output_type": "execute_result"
    }
   ],
   "source": [
    "model.metrics_names"
   ]
  },
  {
   "cell_type": "markdown",
   "metadata": {
    "collapsed": false,
    "pycharm": {
     "name": "#%% md\n"
    }
   },
   "source": [
    "## 模型应用：预测Jack和Rose的生存概率"
   ]
  },
  {
   "cell_type": "code",
   "execution_count": 39,
   "metadata": {
    "collapsed": false,
    "pycharm": {
     "name": "#%%\n"
    }
   },
   "outputs": [],
   "source": [
    "use_selected_cols = [\"survived\", \"name\", \"pclass\", \"sex\", \"age\", \"sibsp\", \"parch\", \"fare\", \"embarked\"]\n",
    "use_selected_df_data = df_data[selected_cols]"
   ]
  },
  {
   "cell_type": "code",
   "execution_count": 40,
   "metadata": {
    "collapsed": false,
    "pycharm": {
     "name": "#%%\n"
    }
   },
   "outputs": [
    {
     "data": {
      "text/plain": "      survived                                             name  pclass  \\\n0            1                    Allen, Miss. Elisabeth Walton       1   \n1            1                   Allison, Master. Hudson Trevor       1   \n2            0                     Allison, Miss. Helen Loraine       1   \n3            0             Allison, Mr. Hudson Joshua Creighton       1   \n4            0  Allison, Mrs. Hudson J C (Bessie Waldo Daniels)       1   \n...        ...                                              ...     ...   \n1304         0                             Zabour, Miss. Hileni       3   \n1305         0                            Zabour, Miss. Thamine       3   \n1306         0                        Zakarian, Mr. Mapriededer       3   \n1307         0                              Zakarian, Mr. Ortin       3   \n1308         0                               Zimmerman, Mr. Leo       3   \n\n         sex      age  sibsp  parch      fare embarked  \n0     female  29.0000      0      0  211.3375        S  \n1       male   0.9167      1      2  151.5500        S  \n2     female   2.0000      1      2  151.5500        S  \n3       male  30.0000      1      2  151.5500        S  \n4     female  25.0000      1      2  151.5500        S  \n...      ...      ...    ...    ...       ...      ...  \n1304  female  14.5000      1      0   14.4542        C  \n1305  female      NaN      1      0   14.4542        C  \n1306    male  26.5000      0      0    7.2250        C  \n1307    male  27.0000      0      0    7.2250        C  \n1308    male  29.0000      0      0    7.8750        S  \n\n[1309 rows x 9 columns]",
      "text/html": "<div>\n<style scoped>\n    .dataframe tbody tr th:only-of-type {\n        vertical-align: middle;\n    }\n\n    .dataframe tbody tr th {\n        vertical-align: top;\n    }\n\n    .dataframe thead th {\n        text-align: right;\n    }\n</style>\n<table border=\"1\" class=\"dataframe\">\n  <thead>\n    <tr style=\"text-align: right;\">\n      <th></th>\n      <th>survived</th>\n      <th>name</th>\n      <th>pclass</th>\n      <th>sex</th>\n      <th>age</th>\n      <th>sibsp</th>\n      <th>parch</th>\n      <th>fare</th>\n      <th>embarked</th>\n    </tr>\n  </thead>\n  <tbody>\n    <tr>\n      <th>0</th>\n      <td>1</td>\n      <td>Allen, Miss. Elisabeth Walton</td>\n      <td>1</td>\n      <td>female</td>\n      <td>29.0000</td>\n      <td>0</td>\n      <td>0</td>\n      <td>211.3375</td>\n      <td>S</td>\n    </tr>\n    <tr>\n      <th>1</th>\n      <td>1</td>\n      <td>Allison, Master. Hudson Trevor</td>\n      <td>1</td>\n      <td>male</td>\n      <td>0.9167</td>\n      <td>1</td>\n      <td>2</td>\n      <td>151.5500</td>\n      <td>S</td>\n    </tr>\n    <tr>\n      <th>2</th>\n      <td>0</td>\n      <td>Allison, Miss. Helen Loraine</td>\n      <td>1</td>\n      <td>female</td>\n      <td>2.0000</td>\n      <td>1</td>\n      <td>2</td>\n      <td>151.5500</td>\n      <td>S</td>\n    </tr>\n    <tr>\n      <th>3</th>\n      <td>0</td>\n      <td>Allison, Mr. Hudson Joshua Creighton</td>\n      <td>1</td>\n      <td>male</td>\n      <td>30.0000</td>\n      <td>1</td>\n      <td>2</td>\n      <td>151.5500</td>\n      <td>S</td>\n    </tr>\n    <tr>\n      <th>4</th>\n      <td>0</td>\n      <td>Allison, Mrs. Hudson J C (Bessie Waldo Daniels)</td>\n      <td>1</td>\n      <td>female</td>\n      <td>25.0000</td>\n      <td>1</td>\n      <td>2</td>\n      <td>151.5500</td>\n      <td>S</td>\n    </tr>\n    <tr>\n      <th>...</th>\n      <td>...</td>\n      <td>...</td>\n      <td>...</td>\n      <td>...</td>\n      <td>...</td>\n      <td>...</td>\n      <td>...</td>\n      <td>...</td>\n      <td>...</td>\n    </tr>\n    <tr>\n      <th>1304</th>\n      <td>0</td>\n      <td>Zabour, Miss. Hileni</td>\n      <td>3</td>\n      <td>female</td>\n      <td>14.5000</td>\n      <td>1</td>\n      <td>0</td>\n      <td>14.4542</td>\n      <td>C</td>\n    </tr>\n    <tr>\n      <th>1305</th>\n      <td>0</td>\n      <td>Zabour, Miss. Thamine</td>\n      <td>3</td>\n      <td>female</td>\n      <td>NaN</td>\n      <td>1</td>\n      <td>0</td>\n      <td>14.4542</td>\n      <td>C</td>\n    </tr>\n    <tr>\n      <th>1306</th>\n      <td>0</td>\n      <td>Zakarian, Mr. Mapriededer</td>\n      <td>3</td>\n      <td>male</td>\n      <td>26.5000</td>\n      <td>0</td>\n      <td>0</td>\n      <td>7.2250</td>\n      <td>C</td>\n    </tr>\n    <tr>\n      <th>1307</th>\n      <td>0</td>\n      <td>Zakarian, Mr. Ortin</td>\n      <td>3</td>\n      <td>male</td>\n      <td>27.0000</td>\n      <td>0</td>\n      <td>0</td>\n      <td>7.2250</td>\n      <td>C</td>\n    </tr>\n    <tr>\n      <th>1308</th>\n      <td>0</td>\n      <td>Zimmerman, Mr. Leo</td>\n      <td>3</td>\n      <td>male</td>\n      <td>29.0000</td>\n      <td>0</td>\n      <td>0</td>\n      <td>7.8750</td>\n      <td>S</td>\n    </tr>\n  </tbody>\n</table>\n<p>1309 rows × 9 columns</p>\n</div>"
     },
     "execution_count": 40,
     "metadata": {},
     "output_type": "execute_result"
    }
   ],
   "source": [
    "use_selected_df_data"
   ]
  },
  {
   "cell_type": "code",
   "execution_count": 41,
   "metadata": {
    "collapsed": false,
    "pycharm": {
     "name": "#%%\n"
    }
   },
   "outputs": [
    {
     "data": {
      "text/plain": "['survived',\n 'name',\n 'pclass',\n 'sex',\n 'age',\n 'sibsp',\n 'parch',\n 'fare',\n 'embarked']"
     },
     "execution_count": 41,
     "metadata": {},
     "output_type": "execute_result"
    }
   ],
   "source": [
    "# 旅客信息字段\n",
    "use_selected_cols"
   ]
  },
  {
   "cell_type": "code",
   "execution_count": 42,
   "metadata": {
    "collapsed": false,
    "pycharm": {
     "name": "#%%\n"
    }
   },
   "outputs": [],
   "source": [
    "# 添加Jack和Rose的旅客信息\n",
    "Jack_Info = [0, \"Jack\", 3, \"male\", 23, 1, 0, 5.0000, \"S\"]\n",
    "Rose_Info = [1, \"Rose\", 1, \"female\", 20, 1, 0, 100.0000, \"S\"]"
   ]
  },
  {
   "cell_type": "code",
   "execution_count": 43,
   "metadata": {
    "collapsed": false,
    "pycharm": {
     "name": "#%%\n"
    }
   },
   "outputs": [],
   "source": [
    "# 创建新的旅客DataFrame\n",
    "passenger_pd = pd.DataFrame([Jack_Info, Rose_Info], columns=use_selected_cols)"
   ]
  },
  {
   "cell_type": "code",
   "execution_count": 44,
   "metadata": {
    "collapsed": false,
    "pycharm": {
     "name": "#%%\n"
    }
   },
   "outputs": [],
   "source": [
    "# 在老数据后追加新旅客信息#\n",
    "all_passenger_pd = use_selected_df_data.append(passenger_pd)"
   ]
  },
  {
   "cell_type": "code",
   "execution_count": 45,
   "metadata": {
    "collapsed": false,
    "pycharm": {
     "name": "#%%\n"
    }
   },
   "outputs": [
    {
     "data": {
      "text/plain": "      survived                name  pclass     sex   age  sibsp  parch  \\\n1308         0  Zimmerman, Mr. Leo       3    male  29.0      0      0   \n0            0                Jack       3    male  23.0      1      0   \n1            1                Rose       1  female  20.0      1      0   \n\n         fare embarked  \n1308    7.875        S  \n0       5.000        S  \n1     100.000        S  ",
      "text/html": "<div>\n<style scoped>\n    .dataframe tbody tr th:only-of-type {\n        vertical-align: middle;\n    }\n\n    .dataframe tbody tr th {\n        vertical-align: top;\n    }\n\n    .dataframe thead th {\n        text-align: right;\n    }\n</style>\n<table border=\"1\" class=\"dataframe\">\n  <thead>\n    <tr style=\"text-align: right;\">\n      <th></th>\n      <th>survived</th>\n      <th>name</th>\n      <th>pclass</th>\n      <th>sex</th>\n      <th>age</th>\n      <th>sibsp</th>\n      <th>parch</th>\n      <th>fare</th>\n      <th>embarked</th>\n    </tr>\n  </thead>\n  <tbody>\n    <tr>\n      <th>1308</th>\n      <td>0</td>\n      <td>Zimmerman, Mr. Leo</td>\n      <td>3</td>\n      <td>male</td>\n      <td>29.0</td>\n      <td>0</td>\n      <td>0</td>\n      <td>7.875</td>\n      <td>S</td>\n    </tr>\n    <tr>\n      <th>0</th>\n      <td>0</td>\n      <td>Jack</td>\n      <td>3</td>\n      <td>male</td>\n      <td>23.0</td>\n      <td>1</td>\n      <td>0</td>\n      <td>5.000</td>\n      <td>S</td>\n    </tr>\n    <tr>\n      <th>1</th>\n      <td>1</td>\n      <td>Rose</td>\n      <td>1</td>\n      <td>female</td>\n      <td>20.0</td>\n      <td>1</td>\n      <td>0</td>\n      <td>100.000</td>\n      <td>S</td>\n    </tr>\n  </tbody>\n</table>\n</div>"
     },
     "execution_count": 45,
     "metadata": {},
     "output_type": "execute_result"
    }
   ],
   "source": [
    "# 新加入数据将加到最后，此处显示倒数3条数据\n",
    "all_passenger_pd[-3:]"
   ]
  },
  {
   "cell_type": "code",
   "execution_count": 46,
   "metadata": {
    "collapsed": false,
    "pycharm": {
     "name": "#%%\n"
    }
   },
   "outputs": [
    {
     "data": {
      "text/plain": "      survived                                             name  pclass  \\\n0            1                    Allen, Miss. Elisabeth Walton       1   \n1            1                   Allison, Master. Hudson Trevor       1   \n2            0                     Allison, Miss. Helen Loraine       1   \n3            0             Allison, Mr. Hudson Joshua Creighton       1   \n4            0  Allison, Mrs. Hudson J C (Bessie Waldo Daniels)       1   \n...        ...                                              ...     ...   \n1306         0                        Zakarian, Mr. Mapriededer       3   \n1307         0                              Zakarian, Mr. Ortin       3   \n1308         0                               Zimmerman, Mr. Leo       3   \n0            0                                             Jack       3   \n1            1                                             Rose       1   \n\n         sex      age  sibsp  parch      fare embarked  \n0     female  29.0000      0      0  211.3375        S  \n1       male   0.9167      1      2  151.5500        S  \n2     female   2.0000      1      2  151.5500        S  \n3       male  30.0000      1      2  151.5500        S  \n4     female  25.0000      1      2  151.5500        S  \n...      ...      ...    ...    ...       ...      ...  \n1306    male  26.5000      0      0    7.2250        C  \n1307    male  27.0000      0      0    7.2250        C  \n1308    male  29.0000      0      0    7.8750        S  \n0       male  23.0000      1      0    5.0000        S  \n1     female  20.0000      1      0  100.0000        S  \n\n[1311 rows x 9 columns]",
      "text/html": "<div>\n<style scoped>\n    .dataframe tbody tr th:only-of-type {\n        vertical-align: middle;\n    }\n\n    .dataframe tbody tr th {\n        vertical-align: top;\n    }\n\n    .dataframe thead th {\n        text-align: right;\n    }\n</style>\n<table border=\"1\" class=\"dataframe\">\n  <thead>\n    <tr style=\"text-align: right;\">\n      <th></th>\n      <th>survived</th>\n      <th>name</th>\n      <th>pclass</th>\n      <th>sex</th>\n      <th>age</th>\n      <th>sibsp</th>\n      <th>parch</th>\n      <th>fare</th>\n      <th>embarked</th>\n    </tr>\n  </thead>\n  <tbody>\n    <tr>\n      <th>0</th>\n      <td>1</td>\n      <td>Allen, Miss. Elisabeth Walton</td>\n      <td>1</td>\n      <td>female</td>\n      <td>29.0000</td>\n      <td>0</td>\n      <td>0</td>\n      <td>211.3375</td>\n      <td>S</td>\n    </tr>\n    <tr>\n      <th>1</th>\n      <td>1</td>\n      <td>Allison, Master. Hudson Trevor</td>\n      <td>1</td>\n      <td>male</td>\n      <td>0.9167</td>\n      <td>1</td>\n      <td>2</td>\n      <td>151.5500</td>\n      <td>S</td>\n    </tr>\n    <tr>\n      <th>2</th>\n      <td>0</td>\n      <td>Allison, Miss. Helen Loraine</td>\n      <td>1</td>\n      <td>female</td>\n      <td>2.0000</td>\n      <td>1</td>\n      <td>2</td>\n      <td>151.5500</td>\n      <td>S</td>\n    </tr>\n    <tr>\n      <th>3</th>\n      <td>0</td>\n      <td>Allison, Mr. Hudson Joshua Creighton</td>\n      <td>1</td>\n      <td>male</td>\n      <td>30.0000</td>\n      <td>1</td>\n      <td>2</td>\n      <td>151.5500</td>\n      <td>S</td>\n    </tr>\n    <tr>\n      <th>4</th>\n      <td>0</td>\n      <td>Allison, Mrs. Hudson J C (Bessie Waldo Daniels)</td>\n      <td>1</td>\n      <td>female</td>\n      <td>25.0000</td>\n      <td>1</td>\n      <td>2</td>\n      <td>151.5500</td>\n      <td>S</td>\n    </tr>\n    <tr>\n      <th>...</th>\n      <td>...</td>\n      <td>...</td>\n      <td>...</td>\n      <td>...</td>\n      <td>...</td>\n      <td>...</td>\n      <td>...</td>\n      <td>...</td>\n      <td>...</td>\n    </tr>\n    <tr>\n      <th>1306</th>\n      <td>0</td>\n      <td>Zakarian, Mr. Mapriededer</td>\n      <td>3</td>\n      <td>male</td>\n      <td>26.5000</td>\n      <td>0</td>\n      <td>0</td>\n      <td>7.2250</td>\n      <td>C</td>\n    </tr>\n    <tr>\n      <th>1307</th>\n      <td>0</td>\n      <td>Zakarian, Mr. Ortin</td>\n      <td>3</td>\n      <td>male</td>\n      <td>27.0000</td>\n      <td>0</td>\n      <td>0</td>\n      <td>7.2250</td>\n      <td>C</td>\n    </tr>\n    <tr>\n      <th>1308</th>\n      <td>0</td>\n      <td>Zimmerman, Mr. Leo</td>\n      <td>3</td>\n      <td>male</td>\n      <td>29.0000</td>\n      <td>0</td>\n      <td>0</td>\n      <td>7.8750</td>\n      <td>S</td>\n    </tr>\n    <tr>\n      <th>0</th>\n      <td>0</td>\n      <td>Jack</td>\n      <td>3</td>\n      <td>male</td>\n      <td>23.0000</td>\n      <td>1</td>\n      <td>0</td>\n      <td>5.0000</td>\n      <td>S</td>\n    </tr>\n    <tr>\n      <th>1</th>\n      <td>1</td>\n      <td>Rose</td>\n      <td>1</td>\n      <td>female</td>\n      <td>20.0000</td>\n      <td>1</td>\n      <td>0</td>\n      <td>100.0000</td>\n      <td>S</td>\n    </tr>\n  </tbody>\n</table>\n<p>1311 rows × 9 columns</p>\n</div>"
     },
     "execution_count": 46,
     "metadata": {},
     "output_type": "execute_result"
    }
   ],
   "source": [
    "all_passenger_pd"
   ]
  },
  {
   "cell_type": "code",
   "execution_count": 47,
   "metadata": {
    "collapsed": false,
    "pycharm": {
     "name": "#%%\n"
    }
   },
   "outputs": [],
   "source": [
    "# 数据准备\n",
    "x_features, y_label = prepare_data(all_passenger_pd)"
   ]
  },
  {
   "cell_type": "code",
   "execution_count": 48,
   "metadata": {
    "collapsed": false,
    "pycharm": {
     "name": "#%%\n"
    }
   },
   "outputs": [],
   "source": [
    "# 利用模型计算旅客生存概率\n",
    "sur_probability = model.predict(x_features)"
   ]
  },
  {
   "cell_type": "code",
   "execution_count": 49,
   "metadata": {
    "collapsed": false,
    "pycharm": {
     "name": "#%%\n"
    }
   },
   "outputs": [
    {
     "data": {
      "text/plain": "array([[0.97889173],\n       [0.61295193],\n       [0.9823484 ],\n       [0.26621246],\n       [0.97434944]], dtype=float32)"
     },
     "execution_count": 49,
     "metadata": {},
     "output_type": "execute_result"
    }
   ],
   "source": [
    "sur_probability[:5]"
   ]
  },
  {
   "cell_type": "code",
   "execution_count": 50,
   "metadata": {
    "collapsed": false,
    "pycharm": {
     "name": "#%%\n"
    }
   },
   "outputs": [],
   "source": [
    "all_passenger_pd.insert(len(all_passenger_pd.columns), \"sur_probability\", sur_probability)"
   ]
  },
  {
   "cell_type": "code",
   "execution_count": 51,
   "metadata": {
    "collapsed": false,
    "pycharm": {
     "name": "#%%\n"
    }
   },
   "outputs": [
    {
     "data": {
      "text/plain": "      survived                       name  pclass     sex   age  sibsp  parch  \\\n1306         0  Zakarian, Mr. Mapriededer       3    male  26.5      0      0   \n1307         0        Zakarian, Mr. Ortin       3    male  27.0      0      0   \n1308         0         Zimmerman, Mr. Leo       3    male  29.0      0      0   \n0            0                       Jack       3    male  23.0      1      0   \n1            1                       Rose       1  female  20.0      1      0   \n\n         fare embarked  sur_probability  \n1306    7.225        C         0.246948  \n1307    7.225        C         0.242255  \n1308    7.875        S         0.111428  \n0       5.000        S         0.110999  \n1     100.000        S         0.977311  ",
      "text/html": "<div>\n<style scoped>\n    .dataframe tbody tr th:only-of-type {\n        vertical-align: middle;\n    }\n\n    .dataframe tbody tr th {\n        vertical-align: top;\n    }\n\n    .dataframe thead th {\n        text-align: right;\n    }\n</style>\n<table border=\"1\" class=\"dataframe\">\n  <thead>\n    <tr style=\"text-align: right;\">\n      <th></th>\n      <th>survived</th>\n      <th>name</th>\n      <th>pclass</th>\n      <th>sex</th>\n      <th>age</th>\n      <th>sibsp</th>\n      <th>parch</th>\n      <th>fare</th>\n      <th>embarked</th>\n      <th>sur_probability</th>\n    </tr>\n  </thead>\n  <tbody>\n    <tr>\n      <th>1306</th>\n      <td>0</td>\n      <td>Zakarian, Mr. Mapriededer</td>\n      <td>3</td>\n      <td>male</td>\n      <td>26.5</td>\n      <td>0</td>\n      <td>0</td>\n      <td>7.225</td>\n      <td>C</td>\n      <td>0.246948</td>\n    </tr>\n    <tr>\n      <th>1307</th>\n      <td>0</td>\n      <td>Zakarian, Mr. Ortin</td>\n      <td>3</td>\n      <td>male</td>\n      <td>27.0</td>\n      <td>0</td>\n      <td>0</td>\n      <td>7.225</td>\n      <td>C</td>\n      <td>0.242255</td>\n    </tr>\n    <tr>\n      <th>1308</th>\n      <td>0</td>\n      <td>Zimmerman, Mr. Leo</td>\n      <td>3</td>\n      <td>male</td>\n      <td>29.0</td>\n      <td>0</td>\n      <td>0</td>\n      <td>7.875</td>\n      <td>S</td>\n      <td>0.111428</td>\n    </tr>\n    <tr>\n      <th>0</th>\n      <td>0</td>\n      <td>Jack</td>\n      <td>3</td>\n      <td>male</td>\n      <td>23.0</td>\n      <td>1</td>\n      <td>0</td>\n      <td>5.000</td>\n      <td>S</td>\n      <td>0.110999</td>\n    </tr>\n    <tr>\n      <th>1</th>\n      <td>1</td>\n      <td>Rose</td>\n      <td>1</td>\n      <td>female</td>\n      <td>20.0</td>\n      <td>1</td>\n      <td>0</td>\n      <td>100.000</td>\n      <td>S</td>\n      <td>0.977311</td>\n    </tr>\n  </tbody>\n</table>\n</div>"
     },
     "execution_count": 51,
     "metadata": {},
     "output_type": "execute_result"
    }
   ],
   "source": [
    "all_passenger_pd[-5:]"
   ]
  }
 ],
 "metadata": {
  "kernelspec": {
   "display_name": "Python 3",
   "language": "python",
   "name": "python3"
  },
  "language_info": {
   "codemirror_mode": {
    "name": "ipython",
    "version": 3
   },
   "file_extension": ".py",
   "mimetype": "text/x-python",
   "name": "python",
   "nbconvert_exporter": "python",
   "pygments_lexer": "ipython3",
   "version": "3.9.9"
  }
 },
 "nbformat": 4,
 "nbformat_minor": 0
}