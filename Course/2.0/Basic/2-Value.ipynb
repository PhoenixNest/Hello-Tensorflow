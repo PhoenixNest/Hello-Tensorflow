{
 "cells": [
  {
   "cell_type": "code",
   "execution_count": 2,
   "metadata": {
    "collapsed": true,
    "pycharm": {
     "name": "#%%\n"
    }
   },
   "outputs": [],
   "source": [
    "import tensorflow as tf"
   ]
  },
  {
   "cell_type": "markdown",
   "source": [
    "```python\n",
    "tf.constant{\n",
    "    value,\n",
    "    dtype=None,\n",
    "    shape=None,\n",
    "    name='Const'\n",
    "}\n",
    "```"
   ],
   "metadata": {
    "collapsed": false,
    "pycharm": {
     "name": "#%% md\n"
    }
   }
  },
  {
   "cell_type": "code",
   "execution_count": 4,
   "outputs": [
    {
     "name": "stdout",
     "output_type": "stream",
     "text": [
      "tf.Tensor([1 2], shape=(2,), dtype=int32)\n"
     ]
    }
   ],
   "source": [
    "# 常量\n",
    "a = tf.constant([1, 2])\n",
    "\n",
    "print(a)"
   ],
   "metadata": {
    "collapsed": false,
    "pycharm": {
     "name": "#%%\n"
    }
   }
  },
  {
   "cell_type": "markdown",
   "source": [
    "```python\n",
    "tf.Variable{\n",
    "    initial_value,\n",
    "    dtype=None,\n",
    "    shape=None,\n",
    "    trainable=True,\n",
    "    name='Variable'\n",
    "}\n",
    "```"
   ],
   "metadata": {
    "collapsed": false
   }
  },
  {
   "cell_type": "code",
   "execution_count": 7,
   "outputs": [
    {
     "name": "stdout",
     "output_type": "stream",
     "text": [
      "<tf.Variable 'Variable:0' shape=(2,) dtype=int32, numpy=array([1, 2])>\n",
      "<tf.Variable 'Variable:0' shape=(2,) dtype=int32, numpy=array([2, 3])>\n"
     ]
    }
   ],
   "source": [
    "# 变量\n",
    "\n",
    "# 初始化时必须赋值，与定义常量一样\n",
    "b = tf.Variable([1, 2])\n",
    "\n",
    "print(b)\n",
    "\n",
    "# 也可用一个张量作为初始值\n",
    "cons = tf.constant([2, 3])\n",
    "c = tf.Variable(cons)\n",
    "print(c)"
   ],
   "metadata": {
    "collapsed": false,
    "pycharm": {
     "name": "#%%\n"
    }
   }
  },
  {
   "cell_type": "markdown",
   "source": [
    "在 TF 中创建变量后，一般无需人工进行赋值，系统会根据算法模型，在训练优化过程中自动调整变量的值\n",
    "\n",
    "在变量的参数中，trainable参数用于表征当前变量是否需要自动优化，创建变量时该参数默认为 True"
   ],
   "metadata": {
    "collapsed": false,
    "pycharm": {
     "name": "#%% md\n"
    }
   }
  },
  {
   "cell_type": "code",
   "execution_count": 11,
   "outputs": [
    {
     "name": "stdout",
     "output_type": "stream",
     "text": [
      "<tf.Variable 'Variable:0' shape=() dtype=int32, numpy=6>\n",
      "<tf.Variable 'Variable:0' shape=() dtype=int32, numpy=6>\n",
      "<tf.Variable 'Variable:0' shape=() dtype=int32, numpy=4>\n"
     ]
    }
   ],
   "source": [
    "# 变量赋值 - assign()\n",
    "\n",
    "v = tf.Variable(5)\n",
    "\n",
    "v.assign(v + 1)\n",
    "\n",
    "print(v)\n",
    "\n",
    "# 也可使用 TF 中的一些内置赋值函数对变量进行赋值\n",
    "v1 = tf.Variable(5)\n",
    "v2 = tf.Variable(5)\n",
    "\n",
    "v1.assign_add(1)\n",
    "\n",
    "v2.assign_sub(1)\n",
    "\n",
    "print(v1)\n",
    "print(v2)"
   ],
   "metadata": {
    "collapsed": false,
    "pycharm": {
     "name": "#%%\n"
    }
   }
  }
 ],
 "metadata": {
  "kernelspec": {
   "display_name": "Python 3",
   "language": "python",
   "name": "python3"
  },
  "language_info": {
   "codemirror_mode": {
    "name": "ipython",
    "version": 2
   },
   "file_extension": ".py",
   "mimetype": "text/x-python",
   "name": "python",
   "nbconvert_exporter": "python",
   "pygments_lexer": "ipython2",
   "version": "2.7.6"
  }
 },
 "nbformat": 4,
 "nbformat_minor": 0
}