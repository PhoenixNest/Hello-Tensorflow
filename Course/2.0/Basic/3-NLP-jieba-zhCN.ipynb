{
 "cells": [
  {
   "cell_type": "markdown",
   "metadata": {
    "collapsed": true,
    "pycharm": {
     "name": "#%% md\n"
    }
   },
   "source": [
    "## 自然语言处理基础（zhCN）"
   ]
  },
  {
   "cell_type": "code",
   "execution_count": 25,
   "outputs": [],
   "source": [
    "import jieba"
   ],
   "metadata": {
    "collapsed": false,
    "pycharm": {
     "name": "#%%\n"
    }
   }
  },
  {
   "cell_type": "code",
   "execution_count": 26,
   "outputs": [],
   "source": [
    "text = \"我就读于吉林大学珠海学院\""
   ],
   "metadata": {
    "collapsed": false,
    "pycharm": {
     "name": "#%%\n"
    }
   }
  },
  {
   "cell_type": "code",
   "execution_count": 27,
   "outputs": [
    {
     "data": {
      "text/plain": "'我就读于吉林大学珠海学院'"
     },
     "execution_count": 27,
     "metadata": {},
     "output_type": "execute_result"
    }
   ],
   "source": [
    "text"
   ],
   "metadata": {
    "collapsed": false,
    "pycharm": {
     "name": "#%%\n"
    }
   }
  },
  {
   "cell_type": "code",
   "execution_count": 28,
   "outputs": [],
   "source": [
    "word_list = jieba.cut(text)"
   ],
   "metadata": {
    "collapsed": false,
    "pycharm": {
     "name": "#%%\n"
    }
   }
  },
  {
   "cell_type": "code",
   "execution_count": 29,
   "outputs": [
    {
     "name": "stdout",
     "output_type": "stream",
     "text": [
      "<generator object Tokenizer.cut at 0x000001EE4BF16E40>\n"
     ]
    }
   ],
   "source": [
    "print(word_list)"
   ],
   "metadata": {
    "collapsed": false,
    "pycharm": {
     "name": "#%%\n"
    }
   }
  },
  {
   "cell_type": "code",
   "execution_count": 30,
   "outputs": [
    {
     "name": "stdout",
     "output_type": "stream",
     "text": [
      "['我', '就读于', '吉林大学', '珠海', '学院']\n"
     ]
    }
   ],
   "source": [
    "print(list(word_list))"
   ],
   "metadata": {
    "collapsed": false,
    "pycharm": {
     "name": "#%%\n"
    }
   }
  },
  {
   "cell_type": "code",
   "execution_count": 31,
   "outputs": [
    {
     "name": "stdout",
     "output_type": "stream",
     "text": [
      "精确模式分词结果：我/就读于/吉林大学/珠海/学院\n"
     ]
    }
   ],
   "source": [
    "# 精准模式（缺省值）\n",
    "word_list = jieba.cut(text, cut_all=False)\n",
    "print(\"精确模式分词结果：\" + \"/\".join(word_list))"
   ],
   "metadata": {
    "collapsed": false,
    "pycharm": {
     "name": "#%%\n"
    }
   }
  },
  {
   "cell_type": "code",
   "execution_count": 32,
   "outputs": [
    {
     "name": "stdout",
     "output_type": "stream",
     "text": [
      "全模式分词结果：我/就读/就读于/吉林/吉林大学/大学/珠海/学院\n"
     ]
    }
   ],
   "source": [
    "# 全模式\n",
    "word_list = jieba.cut(text, cut_all=True)\n",
    "print(\"全模式分词结果：\" + \"/\".join(word_list))"
   ],
   "metadata": {
    "collapsed": false,
    "pycharm": {
     "name": "#%%\n"
    }
   }
  },
  {
   "cell_type": "code",
   "execution_count": 33,
   "outputs": [
    {
     "name": "stdout",
     "output_type": "stream",
     "text": [
      "搜索引擎模式分词结果：我/就读/就读于/吉林/大学/吉林大学/珠海/学院\n"
     ]
    }
   ],
   "source": [
    "# 搜索引擎模式\n",
    "word_list = jieba.cut_for_search(text)\n",
    "print(\"搜索引擎模式分词结果：\" + \"/\".join(word_list))"
   ],
   "metadata": {
    "collapsed": false,
    "pycharm": {
     "name": "#%%\n"
    }
   }
  },
  {
   "cell_type": "code",
   "execution_count": 34,
   "outputs": [
    {
     "name": "stdout",
     "output_type": "stream",
     "text": [
      "['我', '就读于', '吉林大学', '珠海', '学院']\n"
     ]
    }
   ],
   "source": [
    "word_list = jieba.lcut(text)\n",
    "print(word_list)"
   ],
   "metadata": {
    "collapsed": false,
    "pycharm": {
     "name": "#%%\n"
    }
   }
  },
  {
   "cell_type": "code",
   "execution_count": 35,
   "outputs": [
    {
     "name": "stdout",
     "output_type": "stream",
     "text": [
      "['我', '就读', '就读于', '吉林', '大学', '吉林大学', '珠海', '学院']\n"
     ]
    }
   ],
   "source": [
    "word_list = jieba.lcut_for_search(text)\n",
    "print(word_list)"
   ],
   "metadata": {
    "collapsed": false,
    "pycharm": {
     "name": "#%%\n"
    }
   }
  },
  {
   "cell_type": "code",
   "execution_count": 36,
   "outputs": [
    {
     "name": "stdout",
     "output_type": "stream",
     "text": [
      "['我', '就读于', '吉林大学珠海学院']\n"
     ]
    }
   ],
   "source": [
    "# 上述例子中，jieba库将”吉林大学珠海学院“这一完整名词切分成了“吉林大学”、“珠海”与“学院”三个词，不符合预期效果\n",
    "# 为让jieba库自动识别“吉林大学珠海学院”，可预先读取本地词典，提高分词准确率\n",
    "jieba.load_userdict(\"Files/mydict.txt\")\n",
    "word_list = jieba.lcut(text)\n",
    "print(word_list)"
   ],
   "metadata": {
    "collapsed": false,
    "pycharm": {
     "name": "#%%\n"
    }
   }
  }
 ],
 "metadata": {
  "kernelspec": {
   "display_name": "Python 3",
   "language": "python",
   "name": "python3"
  },
  "language_info": {
   "codemirror_mode": {
    "name": "ipython",
    "version": 2
   },
   "file_extension": ".py",
   "mimetype": "text/x-python",
   "name": "python",
   "nbconvert_exporter": "python",
   "pygments_lexer": "ipython2",
   "version": "2.7.6"
  }
 },
 "nbformat": 4,
 "nbformat_minor": 0
}