{
 "cells": [
  {
   "cell_type": "markdown",
   "metadata": {
    "collapsed": false
   },
   "source": [
    "## 使用卷积神经网络对CIFAR-10数据集进行分类"
   ]
  },
  {
   "cell_type": "code",
   "execution_count": 48,
   "metadata": {
    "collapsed": false,
    "pycharm": {
     "name": "#%%\n"
    }
   },
   "outputs": [
    {
     "name": "stdout",
     "output_type": "stream",
     "text": [
      "2.7.0\n"
     ]
    }
   ],
   "source": [
    "import matplotlib.pyplot as plt\n",
    "import numpy as np\n",
    "import tensorflow as tf\n",
    "\n",
    "print(tf.__version__)"
   ]
  },
  {
   "cell_type": "markdown",
   "metadata": {
    "collapsed": false,
    "pycharm": {
     "name": "#%% md\n"
    }
   },
   "source": [
    "## 下载数据集"
   ]
  },
  {
   "cell_type": "code",
   "execution_count": 49,
   "metadata": {
    "collapsed": false,
    "pycharm": {
     "name": "#%%\n"
    }
   },
   "outputs": [],
   "source": [
    "datasets = tf.keras.datasets.cifar10\n",
    "(x_train, y_train), (x_test, y_test) = datasets.load_data()"
   ]
  },
  {
   "cell_type": "markdown",
   "metadata": {
    "collapsed": false,
    "pycharm": {
     "name": "#%% md\n"
    }
   },
   "source": [
    "## 查看数据集信息"
   ]
  },
  {
   "cell_type": "code",
   "execution_count": 50,
   "metadata": {
    "collapsed": false,
    "pycharm": {
     "name": "#%%\n"
    }
   },
   "outputs": [
    {
     "name": "stdout",
     "output_type": "stream",
     "text": [
      "Training data shape:  (50000, 32, 32, 3)\n",
      "Training label shape:  (50000, 1)\n",
      "Test data shape:  (10000, 32, 32, 3)\n",
      "Test labels shape:  (10000, 1)\n"
     ]
    }
   ],
   "source": [
    "print(\"Training data shape: \", x_train.shape)\n",
    "print(\"Training label shape: \", y_train.shape)\n",
    "print(\"Test data shape: \", x_test.shape)\n",
    "print(\"Test labels shape: \", y_test.shape)"
   ]
  },
  {
   "cell_type": "markdown",
   "metadata": {
    "collapsed": false,
    "pycharm": {
     "name": "#%% md\n"
    }
   },
   "source": [
    "## 查看单项image和label"
   ]
  },
  {
   "cell_type": "code",
   "execution_count": 51,
   "metadata": {
    "collapsed": false,
    "pycharm": {
     "name": "#%%\n"
    }
   },
   "outputs": [
    {
     "data": {
      "text/plain": "<matplotlib.image.AxesImage at 0x176cbee9d30>"
     },
     "execution_count": 51,
     "metadata": {},
     "output_type": "execute_result"
    },
    {
     "data": {
      "text/plain": "<Figure size 432x288 with 1 Axes>",
      "image/png": "[encoded data removed]"
     },
     "metadata": {
      "needs_background": "light"
     },
     "output_type": "display_data"
    }
   ],
   "source": [
    "plt.imshow(x_train[6])"
   ]
  },
  {
   "cell_type": "markdown",
   "metadata": {
    "collapsed": false,
    "pycharm": {
     "name": "#%% md\n"
    }
   },
   "source": [
    "## 查看对应的标签值"
   ]
  },
  {
   "cell_type": "code",
   "execution_count": 52,
   "metadata": {
    "collapsed": false,
    "pycharm": {
     "name": "#%%\n"
    }
   },
   "outputs": [
    {
     "data": {
      "text/plain": "array([2], dtype=uint8)"
     },
     "execution_count": 52,
     "metadata": {},
     "output_type": "execute_result"
    }
   ],
   "source": [
    "y_train[6]"
   ]
  },
  {
   "cell_type": "markdown",
   "metadata": {
    "collapsed": false,
    "pycharm": {
     "name": "#%% md\n"
    }
   },
   "source": [
    "## 定义标签字典 每一个数字所代表的图像类别的名称"
   ]
  },
  {
   "cell_type": "code",
   "execution_count": 53,
   "metadata": {
    "collapsed": false,
    "pycharm": {
     "name": "#%%\n"
    }
   },
   "outputs": [],
   "source": [
    "label_dict = {0: \"airplane\", 1: \"automobile\", 2: \"bird\", 3: \"cat\", 4: \"deer\", 5: \"dog\", 6: \"frog\", 7: \"horse\",\n",
    "              8: \"ship\", 9: \"truck\"}"
   ]
  },
  {
   "cell_type": "code",
   "execution_count": 54,
   "metadata": {
    "collapsed": false,
    "pycharm": {
     "name": "#%%\n"
    }
   },
   "outputs": [
    {
     "data": {
      "text/plain": "'bird'"
     },
     "execution_count": 54,
     "metadata": {},
     "output_type": "execute_result"
    }
   ],
   "source": [
    "label_dict[y_train[6][0]]"
   ]
  },
  {
   "cell_type": "markdown",
   "metadata": {
    "collapsed": false,
    "pycharm": {
     "name": "#%% md\n"
    }
   },
   "source": [
    "## 数据预处理"
   ]
  },
  {
   "cell_type": "code",
   "execution_count": 55,
   "metadata": {
    "collapsed": false,
    "pycharm": {
     "name": "#%%\n"
    }
   },
   "outputs": [
    {
     "data": {
      "text/plain": "array([59, 62, 63], dtype=uint8)"
     },
     "execution_count": 55,
     "metadata": {},
     "output_type": "execute_result"
    }
   ],
   "source": [
    "# 特征数据标准化\n",
    "x_train[0][0][0]"
   ]
  },
  {
   "cell_type": "code",
   "execution_count": 56,
   "metadata": {
    "collapsed": false,
    "pycharm": {
     "name": "#%%\n"
    }
   },
   "outputs": [],
   "source": [
    "# 对图像image进行数字标签化\n",
    "x_train = x_train.astype(\"float32\") / 255.0\n",
    "x_test = x_test.astype(\"float32\") / 255.0"
   ]
  },
  {
   "cell_type": "markdown",
   "metadata": {
    "collapsed": false,
    "pycharm": {
     "name": "#%% md\n"
    }
   },
   "source": [
    "## 定义网格结构\n",
    "\n",
    "+ 图像特征提取：通过卷积层1，降采样层1，卷积层2以及降采样层2的处理，提取图像的特征\n",
    "+ 全连接神经网路：全连接层、输出层所组成的网络结构"
   ]
  },
  {
   "cell_type": "markdown",
   "metadata": {
    "collapsed": false
   },
   "source": [
    "| 输入层                | 卷积层1                                    | 降采样层1                                      | 卷积层2                                     | 降采样层2                                    | 全连接层                                 | 输出层                      |\n",
    "|--------------------|-----------------------------------------|--------------------------------------------|------------------------------------------|------------------------------------------|--------------------------------------|--------------------------|\n",
    "|  32*32图像，通道为3（RGB） | 第1次卷积：输入通道：3，输出通道：32，卷积后图像尺寸不变，依然是32*32 | 第一次降采样：将32*32图像缩小为16*16；池化不改变通道数量，因此依然是32个 | 第2次卷积：输入通道：32，输出通道：64，卷积后图像尺寸不变，依然是16*16 | 第二次降采样：将16*16图像缩小为8*8；池化不改变通道数量，因此依然是64个 | 将64个8*8的图像转换为长度为4096的一维向量，该层有128个神经元 | 输出层共有10个神经元，对应到0-9这10个类别 |"
   ]
  },
  {
   "cell_type": "code",
   "execution_count": 57,
   "metadata": {
    "collapsed": false,
    "pycharm": {
     "name": "#%%\n"
    }
   },
   "outputs": [],
   "source": [
    "# 建立卷积神经网络CNN模型\n",
    "model = tf.keras.models.Sequential()\n",
    "\n",
    "# 第1个卷积层\n",
    "model.add(tf.keras.layers.Conv2D(filters=32,\n",
    "                                 kernel_size=(3, 3),\n",
    "                                 input_shape=(32, 32, 3),\n",
    "                                 activation=\"relu\",\n",
    "                                 padding=\"same\"))\n",
    "\n",
    "# 防止过拟合\n",
    "model.add(tf.keras.layers.Dropout(rate=0.3))\n",
    "\n",
    "# 第1个池化层（将32*32的图像缩小为16*16，池化不改变通道数量）\n",
    "model.add(tf.keras.layers.MaxPooling2D(pool_size=(2, 2)))\n",
    "\n",
    "# 第2个卷积层\n",
    "model.add(tf.keras.layers.Conv2D(filters=64,\n",
    "                                 kernel_size=(3, 3),\n",
    "                                 activation=\"relu\",\n",
    "                                 padding=\"same\"))\n",
    "\n",
    "# 防止过拟合\n",
    "model.add(tf.keras.layers.Dropout(rate=0.3))\n",
    "\n",
    "# 第2个池化层（将16*16的图像缩小为8*8，池化不改变通道数量）\n",
    "model.add(tf.keras.layers.MaxPooling2D(pool_size=(2, 2)))\n",
    "\n",
    "# 平坦层（将64个8*8的图像转化为长度是4096的一维向量）\n",
    "model.add(tf.keras.layers.Flatten())\n",
    "\n",
    "# 全连接层\n",
    "model.add(tf.keras.layers.Dense(128, activation=\"relu\"))\n",
    "model.add(tf.keras.layers.Dropout(rate=0.3))\n",
    "\n",
    "model.add(tf.keras.layers.Dense(64, activation=\"relu\"))\n",
    "model.add(tf.keras.layers.Dropout(rate=0.3))\n",
    "\n",
    "model.add(tf.keras.layers.Dense(32, activation=\"relu\"))\n",
    "model.add(tf.keras.layers.Dropout(rate=0.3))\n",
    "\n",
    "# 添加输出层\n",
    "model.add(tf.keras.layers.Dense(10, activation=\"softmax\"))"
   ]
  },
  {
   "cell_type": "code",
   "execution_count": 58,
   "metadata": {
    "collapsed": false,
    "pycharm": {
     "name": "#%%\n"
    }
   },
   "outputs": [
    {
     "name": "stdout",
     "output_type": "stream",
     "text": [
      "Model: \"sequential_2\"\n",
      "_________________________________________________________________\n",
      " Layer (type)                Output Shape              Param #   \n",
      "=================================================================\n",
      " conv2d_4 (Conv2D)           (None, 32, 32, 32)        896       \n",
      "                                                                 \n",
      " dropout_4 (Dropout)         (None, 32, 32, 32)        0         \n",
      "                                                                 \n",
      " max_pooling2d_4 (MaxPooling  (None, 16, 16, 32)       0         \n",
      " 2D)                                                             \n",
      "                                                                 \n",
      " conv2d_5 (Conv2D)           (None, 16, 16, 64)        18496     \n",
      "                                                                 \n",
      " dropout_5 (Dropout)         (None, 16, 16, 64)        0         \n",
      "                                                                 \n",
      " max_pooling2d_5 (MaxPooling  (None, 8, 8, 64)         0         \n",
      " 2D)                                                             \n",
      "                                                                 \n",
      " flatten_2 (Flatten)         (None, 4096)              0         \n",
      "                                                                 \n",
      " dense_6 (Dense)             (None, 128)               524416    \n",
      "                                                                 \n",
      " dropout_6 (Dropout)         (None, 128)               0         \n",
      "                                                                 \n",
      " dense_7 (Dense)             (None, 64)                8256      \n",
      "                                                                 \n",
      " dropout_7 (Dropout)         (None, 64)                0         \n",
      "                                                                 \n",
      " dense_8 (Dense)             (None, 32)                2080      \n",
      "                                                                 \n",
      " dropout_8 (Dropout)         (None, 32)                0         \n",
      "                                                                 \n",
      " dense_9 (Dense)             (None, 10)                330       \n",
      "                                                                 \n",
      "=================================================================\n",
      "Total params: 554,474\n",
      "Trainable params: 554,474\n",
      "Non-trainable params: 0\n",
      "_________________________________________________________________\n"
     ]
    }
   ],
   "source": [
    "model.summary()"
   ]
  },
  {
   "cell_type": "markdown",
   "metadata": {
    "collapsed": false,
    "pycharm": {
     "name": "#%% md\n"
    }
   },
   "source": [
    "## 模型训练"
   ]
  },
  {
   "cell_type": "code",
   "execution_count": 59,
   "metadata": {
    "collapsed": false,
    "pycharm": {
     "name": "#%%\n"
    }
   },
   "outputs": [],
   "source": [
    "# 设置训练参数\n",
    "train_epochs = 50\n",
    "batch_size = 100"
   ]
  },
  {
   "cell_type": "code",
   "execution_count": 60,
   "metadata": {
    "collapsed": false,
    "pycharm": {
     "name": "#%%\n"
    }
   },
   "outputs": [],
   "source": [
    "# 设置训练模式\n",
    "model.compile(optimizer=\"adam\",\n",
    "              loss=\"sparse_categorical_crossentropy\",\n",
    "              metrics=[\"accuracy\"])"
   ]
  },
  {
   "cell_type": "code",
   "execution_count": 61,
   "metadata": {
    "collapsed": false,
    "pycharm": {
     "name": "#%%\n"
    }
   },
   "outputs": [
    {
     "name": "stdout",
     "output_type": "stream",
     "text": [
      "Epoch 1/40\n",
      "400/400 [==============================] - 5s 12ms/step - loss: 1.9204 - accuracy: 0.2730 - val_loss: 1.6683 - val_accuracy: 0.4483\n",
      "Epoch 2/40\n",
      "400/400 [==============================] - 5s 12ms/step - loss: 1.5565 - accuracy: 0.4224 - val_loss: 1.4398 - val_accuracy: 0.5217\n",
      "Epoch 3/40\n",
      "400/400 [==============================] - 5s 12ms/step - loss: 1.3892 - accuracy: 0.5023 - val_loss: 1.2960 - val_accuracy: 0.5767\n",
      "Epoch 4/40\n",
      "400/400 [==============================] - 5s 12ms/step - loss: 1.2906 - accuracy: 0.5426 - val_loss: 1.2232 - val_accuracy: 0.5834\n",
      "Epoch 5/40\n",
      "400/400 [==============================] - 5s 12ms/step - loss: 1.2290 - accuracy: 0.5690 - val_loss: 1.1502 - val_accuracy: 0.6250\n",
      "Epoch 6/40\n",
      "400/400 [==============================] - 5s 11ms/step - loss: 1.1731 - accuracy: 0.5935 - val_loss: 1.1007 - val_accuracy: 0.6430\n",
      "Epoch 7/40\n",
      "400/400 [==============================] - 4s 11ms/step - loss: 1.1261 - accuracy: 0.6102 - val_loss: 1.0252 - val_accuracy: 0.6584\n",
      "Epoch 8/40\n",
      "400/400 [==============================] - 4s 11ms/step - loss: 1.0984 - accuracy: 0.6226 - val_loss: 1.0627 - val_accuracy: 0.6508\n",
      "Epoch 9/40\n",
      "400/400 [==============================] - 4s 11ms/step - loss: 1.0538 - accuracy: 0.6408 - val_loss: 1.0620 - val_accuracy: 0.6493\n",
      "Epoch 10/40\n",
      "400/400 [==============================] - 5s 11ms/step - loss: 1.0366 - accuracy: 0.6463 - val_loss: 0.9995 - val_accuracy: 0.6690\n",
      "Epoch 11/40\n",
      "400/400 [==============================] - 4s 11ms/step - loss: 1.0141 - accuracy: 0.6549 - val_loss: 0.9766 - val_accuracy: 0.6796\n",
      "Epoch 12/40\n",
      "400/400 [==============================] - 4s 11ms/step - loss: 0.9874 - accuracy: 0.6672 - val_loss: 0.9723 - val_accuracy: 0.6791\n",
      "Epoch 13/40\n",
      "400/400 [==============================] - 4s 11ms/step - loss: 0.9750 - accuracy: 0.6709 - val_loss: 0.9406 - val_accuracy: 0.6955\n",
      "Epoch 14/40\n",
      "400/400 [==============================] - 4s 11ms/step - loss: 0.9494 - accuracy: 0.6741 - val_loss: 0.9344 - val_accuracy: 0.6947\n",
      "Epoch 15/40\n",
      "400/400 [==============================] - 5s 11ms/step - loss: 0.9386 - accuracy: 0.6844 - val_loss: 0.9224 - val_accuracy: 0.6953\n",
      "Epoch 16/40\n",
      "400/400 [==============================] - 5s 12ms/step - loss: 0.9218 - accuracy: 0.6857 - val_loss: 0.9368 - val_accuracy: 0.6889\n",
      "Epoch 17/40\n",
      "400/400 [==============================] - 5s 12ms/step - loss: 0.8951 - accuracy: 0.6965 - val_loss: 0.9146 - val_accuracy: 0.7056\n",
      "Epoch 18/40\n",
      "400/400 [==============================] - 4s 11ms/step - loss: 0.8864 - accuracy: 0.7017 - val_loss: 0.9316 - val_accuracy: 0.6904\n",
      "Epoch 19/40\n",
      "400/400 [==============================] - 4s 11ms/step - loss: 0.8663 - accuracy: 0.7061 - val_loss: 0.9041 - val_accuracy: 0.6990\n",
      "Epoch 20/40\n",
      "400/400 [==============================] - 5s 11ms/step - loss: 0.8532 - accuracy: 0.7102 - val_loss: 0.9133 - val_accuracy: 0.6932\n",
      "Epoch 21/40\n",
      "400/400 [==============================] - 4s 11ms/step - loss: 0.8411 - accuracy: 0.7174 - val_loss: 0.8966 - val_accuracy: 0.7032\n",
      "Epoch 22/40\n",
      "400/400 [==============================] - 5s 11ms/step - loss: 0.8370 - accuracy: 0.7189 - val_loss: 0.9198 - val_accuracy: 0.6987\n",
      "Epoch 23/40\n",
      "400/400 [==============================] - 4s 11ms/step - loss: 0.8161 - accuracy: 0.7256 - val_loss: 0.9117 - val_accuracy: 0.6974\n",
      "Epoch 24/40\n",
      "400/400 [==============================] - 4s 11ms/step - loss: 0.8130 - accuracy: 0.7279 - val_loss: 0.9340 - val_accuracy: 0.6953\n",
      "Epoch 25/40\n",
      "400/400 [==============================] - 4s 11ms/step - loss: 0.8053 - accuracy: 0.7297 - val_loss: 0.8839 - val_accuracy: 0.7110\n",
      "Epoch 26/40\n",
      "400/400 [==============================] - 4s 11ms/step - loss: 0.7945 - accuracy: 0.7316 - val_loss: 0.8805 - val_accuracy: 0.7102\n",
      "Epoch 27/40\n",
      "400/400 [==============================] - 4s 11ms/step - loss: 0.7800 - accuracy: 0.7375 - val_loss: 0.8723 - val_accuracy: 0.7112\n",
      "Epoch 28/40\n",
      "400/400 [==============================] - 4s 11ms/step - loss: 0.7841 - accuracy: 0.7364 - val_loss: 0.8638 - val_accuracy: 0.7127\n",
      "Epoch 29/40\n",
      "400/400 [==============================] - 4s 11ms/step - loss: 0.7579 - accuracy: 0.7433 - val_loss: 0.8720 - val_accuracy: 0.7140\n",
      "Epoch 30/40\n",
      "400/400 [==============================] - 4s 11ms/step - loss: 0.7657 - accuracy: 0.7417 - val_loss: 0.9102 - val_accuracy: 0.6949\n",
      "Epoch 31/40\n",
      "400/400 [==============================] - 4s 11ms/step - loss: 0.7499 - accuracy: 0.7476 - val_loss: 0.8529 - val_accuracy: 0.7164\n",
      "Epoch 32/40\n",
      "400/400 [==============================] - 5s 11ms/step - loss: 0.7386 - accuracy: 0.7512 - val_loss: 0.8626 - val_accuracy: 0.7133\n",
      "Epoch 33/40\n",
      "400/400 [==============================] - 4s 11ms/step - loss: 0.7299 - accuracy: 0.7550 - val_loss: 0.8685 - val_accuracy: 0.7154\n",
      "Epoch 34/40\n",
      "400/400 [==============================] - 4s 11ms/step - loss: 0.7229 - accuracy: 0.7562 - val_loss: 0.8440 - val_accuracy: 0.7183\n",
      "Epoch 35/40\n",
      "400/400 [==============================] - 4s 11ms/step - loss: 0.7171 - accuracy: 0.7606 - val_loss: 0.8618 - val_accuracy: 0.7163\n",
      "Epoch 36/40\n",
      "400/400 [==============================] - 4s 11ms/step - loss: 0.7141 - accuracy: 0.7600 - val_loss: 0.8792 - val_accuracy: 0.7077\n",
      "Epoch 37/40\n",
      "400/400 [==============================] - 4s 11ms/step - loss: 0.7134 - accuracy: 0.7630 - val_loss: 0.8481 - val_accuracy: 0.7181\n",
      "Epoch 38/40\n",
      "400/400 [==============================] - 4s 11ms/step - loss: 0.7024 - accuracy: 0.7663 - val_loss: 0.8550 - val_accuracy: 0.7169\n",
      "Epoch 39/40\n",
      "400/400 [==============================] - 4s 11ms/step - loss: 0.6883 - accuracy: 0.7693 - val_loss: 0.8498 - val_accuracy: 0.7207\n",
      "Epoch 40/40\n",
      "400/400 [==============================] - 4s 11ms/step - loss: 0.6833 - accuracy: 0.7703 - val_loss: 0.8891 - val_accuracy: 0.7093\n"
     ]
    }
   ],
   "source": [
    "# 训练模型\n",
    "train_history = model.fit(x=x_train,\n",
    "                          y=y_train,\n",
    "                          epochs=train_epochs,\n",
    "                          validation_split=0.2,\n",
    "                          batch_size=batch_size,\n",
    "                          verbose=1)"
   ]
  },
  {
   "cell_type": "code",
   "execution_count": 62,
   "outputs": [],
   "source": [
    "def show_train_history(train_history, train_metric, val_metric):\n",
    "    plt.plot(train_history.history[train_metric])\n",
    "    plt.plot(train_history.history[val_metric])\n",
    "\n",
    "    plt.title(\"Train History\")\n",
    "    plt.xlabel(\"Epochs\")\n",
    "    plt.ylabel(train_metric)\n",
    "\n",
    "    plt.legend([\"Train\", \"Validation\"], loc=\"upper left\")\n",
    "\n",
    "    plt.show()"
   ],
   "metadata": {
    "collapsed": false,
    "pycharm": {
     "name": "#%%\n"
    }
   }
  },
  {
   "cell_type": "code",
   "execution_count": 63,
   "outputs": [
    {
     "data": {
      "text/plain": "<Figure size 432x288 with 1 Axes>",
      "image/png": "[encoded data removed]"
     },
     "metadata": {
      "needs_background": "light"
     },
     "output_type": "display_data"
    }
   ],
   "source": [
    "show_train_history(train_history, \"loss\", \"val_loss\")"
   ],
   "metadata": {
    "collapsed": false,
    "pycharm": {
     "name": "#%%\n"
    }
   }
  },
  {
   "cell_type": "code",
   "execution_count": 64,
   "outputs": [
    {
     "data": {
      "text/plain": "<Figure size 432x288 with 1 Axes>",
      "image/png": "[encoded data removed]"
     },
     "metadata": {
      "needs_background": "light"
     },
     "output_type": "display_data"
    }
   ],
   "source": [
    "show_train_history(train_history, \"accuracy\", \"val_accuracy\")"
   ],
   "metadata": {
    "collapsed": false,
    "pycharm": {
     "name": "#%%\n"
    }
   }
  },
  {
   "cell_type": "markdown",
   "source": [
    "## 评估模型"
   ],
   "metadata": {
    "collapsed": false,
    "pycharm": {
     "name": "#%% md\n"
    }
   }
  },
  {
   "cell_type": "code",
   "execution_count": 65,
   "outputs": [
    {
     "name": "stdout",
     "output_type": "stream",
     "text": [
      "313/313 - 1s - loss: 0.9050 - accuracy: 0.7020 - 1s/epoch - 4ms/step\n",
      "Test accuracy:  0.7020000219345093\n"
     ]
    }
   ],
   "source": [
    "test_loss, test_acc = model.evaluate(x_test, y_test, verbose=2)\n",
    "\n",
    "print(\"Test accuracy: \", test_acc)"
   ],
   "metadata": {
    "collapsed": false,
    "pycharm": {
     "name": "#%%\n"
    }
   }
  },
  {
   "cell_type": "code",
   "execution_count": 66,
   "outputs": [],
   "source": [
    "## 应用模型"
   ],
   "metadata": {
    "collapsed": false,
    "pycharm": {
     "name": "#%%\n"
    }
   }
  },
  {
   "cell_type": "code",
   "execution_count": 67,
   "outputs": [],
   "source": [
    "# 进行预测\n",
    "test_pred = model.predict(x_test)"
   ],
   "metadata": {
    "collapsed": false,
    "pycharm": {
     "name": "#%%\n"
    }
   }
  },
  {
   "cell_type": "code",
   "execution_count": 68,
   "outputs": [
    {
     "data": {
      "text/plain": "(10000, 10)"
     },
     "execution_count": 68,
     "metadata": {},
     "output_type": "execute_result"
    }
   ],
   "source": [
    "\n",
    "test_pred.shape"
   ],
   "metadata": {
    "collapsed": false,
    "pycharm": {
     "name": "#%%\n"
    }
   }
  },
  {
   "cell_type": "code",
   "execution_count": 69,
   "outputs": [
    {
     "data": {
      "text/plain": "3"
     },
     "execution_count": 69,
     "metadata": {},
     "output_type": "execute_result"
    }
   ],
   "source": [
    "np.argmax(test_pred[0])"
   ],
   "metadata": {
    "collapsed": false,
    "pycharm": {
     "name": "#%%\n"
    }
   }
  },
  {
   "cell_type": "code",
   "execution_count": 70,
   "outputs": [
    {
     "data": {
      "text/plain": "<matplotlib.image.AxesImage at 0x1767f1f85b0>"
     },
     "execution_count": 70,
     "metadata": {},
     "output_type": "execute_result"
    },
    {
     "data": {
      "text/plain": "<Figure size 432x288 with 1 Axes>",
      "image/png": "[encoded data removed]"
     },
     "metadata": {
      "needs_background": "light"
     },
     "output_type": "display_data"
    }
   ],
   "source": [
    "plt.imshow(x_test[0])"
   ],
   "metadata": {
    "collapsed": false,
    "pycharm": {
     "name": "#%%\n"
    }
   }
  },
  {
   "cell_type": "code",
   "execution_count": 74,
   "outputs": [
    {
     "data": {
      "text/plain": "array([3], dtype=uint8)"
     },
     "execution_count": 74,
     "metadata": {},
     "output_type": "execute_result"
    }
   ],
   "source": [
    "y_test[0]"
   ],
   "metadata": {
    "collapsed": false,
    "pycharm": {
     "name": "#%%\n"
    }
   }
  },
  {
   "cell_type": "code",
   "execution_count": 73,
   "outputs": [
    {
     "data": {
      "text/plain": "'cat'"
     },
     "execution_count": 73,
     "metadata": {},
     "output_type": "execute_result"
    }
   ],
   "source": [
    "label_dict[y_test[0][0]]"
   ],
   "metadata": {
    "collapsed": false,
    "pycharm": {
     "name": "#%%\n"
    }
   }
  }
 ],
 "metadata": {
  "kernelspec": {
   "display_name": "Python 3",
   "language": "python",
   "name": "python3"
  },
  "language_info": {
   "codemirror_mode": {
    "name": "ipython",
    "version": 2
   },
   "file_extension": ".py",
   "mimetype": "text/x-python",
   "name": "python",
   "nbconvert_exporter": "python",
   "pygments_lexer": "ipython2",
   "version": "2.7.6"
  }
 },
 "nbformat": 4,
 "nbformat_minor": 0
}