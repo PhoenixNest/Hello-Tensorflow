{
 "cells": [
  {
   "cell_type": "markdown",
   "source": [
    "# Minst 手写数字识别\n",
    "\n",
    "## 使用Keras进行多层神经网络建模"
   ],
   "metadata": {
    "collapsed": false
   }
  },
  {
   "cell_type": "code",
   "execution_count": 221,
   "outputs": [
    {
     "name": "stdout",
     "output_type": "stream",
     "text": [
      "2.7.0\n"
     ]
    }
   ],
   "source": [
    "import matplotlib.pyplot as plt\n",
    "import tensorflow as tf\n",
    "import tensorflow.keras as keras\n",
    "import numpy as np\n",
    "\n",
    "print(tf.__version__)"
   ],
   "metadata": {
    "collapsed": false,
    "pycharm": {
     "name": "#%%\n"
    }
   }
  },
  {
   "cell_type": "markdown",
   "source": [
    "## 载入数据"
   ],
   "metadata": {
    "collapsed": false,
    "pycharm": {
     "name": "#%% md\n"
    }
   }
  },
  {
   "cell_type": "code",
   "execution_count": 222,
   "outputs": [],
   "source": [
    "# 获取 Mints手写数字数据集\n",
    "mnist = keras.datasets.mnist\n",
    "\n",
    "# 训练数据，测试数据\n",
    "(train_images, train_labels), (test_images, test_labels) = mnist.load_data()"
   ],
   "metadata": {
    "collapsed": false,
    "pycharm": {
     "name": "#%%\n"
    }
   }
  },
  {
   "cell_type": "markdown",
   "source": [
    "## 特征数据归一化"
   ],
   "metadata": {
    "collapsed": false
   }
  },
  {
   "cell_type": "code",
   "execution_count": 223,
   "outputs": [],
   "source": [
    "# 对图像images进行数字标准化\n",
    "train_images = train_images / 255.0\n",
    "test_images = test_images / 255.0"
   ],
   "metadata": {
    "collapsed": false,
    "pycharm": {
     "name": "#%%\n"
    }
   }
  },
  {
   "cell_type": "markdown",
   "source": [
    "## 独热编码（本例中将使用Keras中的sparse_categorical_crossentropy，可无需先进行独热编码）"
   ],
   "metadata": {
    "collapsed": false
   }
  },
  {
   "cell_type": "code",
   "execution_count": 224,
   "outputs": [],
   "source": [
    "# 对标签数据进行 one-hot-Encoding 独热编码\n",
    "# train_label_ohe = tf.one_hot(train_labels, depth=10).numpy()\n",
    "# test_label_ohe = tf.one_hot(test_labels, depth=10).numpy()"
   ],
   "metadata": {
    "collapsed": false,
    "pycharm": {
     "name": "#%%\n"
    }
   }
  },
  {
   "cell_type": "markdown",
   "source": [
    "## 建立模型"
   ],
   "metadata": {
    "collapsed": false,
    "pycharm": {
     "name": "#%% md\n"
    }
   }
  },
  {
   "cell_type": "code",
   "execution_count": 225,
   "outputs": [],
   "source": [
    "# 建立 Sequential 线性堆叠模型\n",
    "model = tf.keras.models.Sequential()"
   ],
   "metadata": {
    "collapsed": false,
    "pycharm": {
     "name": "#%%\n"
    }
   }
  },
  {
   "cell_type": "markdown",
   "source": [
    "## 添加输入层（平坦层，Flatten）"
   ],
   "metadata": {
    "collapsed": false,
    "pycharm": {
     "name": "#%% md\n"
    }
   }
  },
  {
   "cell_type": "code",
   "execution_count": 226,
   "outputs": [],
   "source": [
    "model.add(tf.keras.layers.Flatten(input_shape=(28, 28)))"
   ],
   "metadata": {
    "collapsed": false,
    "pycharm": {
     "name": "#%%\n"
    }
   }
  },
  {
   "cell_type": "markdown",
   "source": [
    "## 添加隐藏层（密集层，Dense）"
   ],
   "metadata": {
    "collapsed": false,
    "pycharm": {
     "name": "#%% md\n"
    }
   }
  },
  {
   "cell_type": "code",
   "execution_count": 227,
   "outputs": [],
   "source": [
    "# 添加全连接层1\n",
    "model.add(tf.keras.layers.Dense(units=64,  # 神经元个数\n",
    "                                # input_dim = 784,# 该参数可不填，系统会自动对从输入层过来的数据进行降维\n",
    "                                kernel_initializer=\"normal\",\n",
    "                                activation=\"relu\"))"
   ],
   "metadata": {
    "collapsed": false,
    "pycharm": {
     "name": "#%%\n"
    }
   }
  },
  {
   "cell_type": "code",
   "execution_count": 228,
   "outputs": [],
   "source": [
    "# 添加全连接层2\n",
    "model.add(tf.keras.layers.Dense(units=32,\n",
    "                                # input_dim = 256,# 该参数可不填，系统会自动对从输入层过来的数据进行降维\n",
    "                                kernel_initializer=\"normal\",\n",
    "                                activation=\"relu\"))"
   ],
   "metadata": {
    "collapsed": false,
    "pycharm": {
     "name": "#%%\n"
    }
   }
  },
  {
   "cell_type": "markdown",
   "source": [
    "## 添加输出层（还是密集层）"
   ],
   "metadata": {
    "collapsed": false,
    "pycharm": {
     "name": "#%% md\n"
    }
   }
  },
  {
   "cell_type": "code",
   "execution_count": 229,
   "outputs": [],
   "source": [
    "# 添加输出层\n",
    "model.add(tf.keras.layers.Dense(10, activation=\"softmax\"))"
   ],
   "metadata": {
    "collapsed": false,
    "pycharm": {
     "name": "#%%\n"
    }
   }
  },
  {
   "cell_type": "markdown",
   "source": [
    "## 输出模型摘要"
   ],
   "metadata": {
    "collapsed": false,
    "pycharm": {
     "name": "#%% md\n"
    }
   }
  },
  {
   "cell_type": "code",
   "execution_count": 230,
   "outputs": [
    {
     "name": "stdout",
     "output_type": "stream",
     "text": [
      "Model: \"sequential_20\"\n",
      "_________________________________________________________________\n",
      " Layer (type)                Output Shape              Param #   \n",
      "=================================================================\n",
      " flatten_21 (Flatten)        (None, 784)               0         \n",
      "                                                                 \n",
      " dense_59 (Dense)            (None, 64)                50240     \n",
      "                                                                 \n",
      " dense_60 (Dense)            (None, 32)                2080      \n",
      "                                                                 \n",
      " dense_61 (Dense)            (None, 10)                330       \n",
      "                                                                 \n",
      "=================================================================\n",
      "Total params: 52,650\n",
      "Trainable params: 52,650\n",
      "Non-trainable params: 0\n",
      "_________________________________________________________________\n"
     ]
    }
   ],
   "source": [
    "model.summary()"
   ],
   "metadata": {
    "collapsed": false,
    "pycharm": {
     "name": "#%%\n"
    }
   }
  },
  {
   "cell_type": "markdown",
   "source": [
    "## 以上建模也可一次性建成"
   ],
   "metadata": {
    "collapsed": false,
    "pycharm": {
     "name": "#%% md\n"
    }
   }
  },
  {
   "cell_type": "code",
   "execution_count": 231,
   "outputs": [],
   "source": [
    "# 等效于上面逐层添加\n",
    "model = tf.keras.models.Sequential([\n",
    "    tf.keras.layers.Flatten(input_shape=(28, 28)),\n",
    "    tf.keras.layers.Dense(units=64, kernel_initializer=\"normal\", activation=\"relu\"),\n",
    "    tf.keras.layers.Dense(units=32, kernel_initializer=\"normal\", activation=\"relu\"),\n",
    "    tf.keras.layers.Dense(10, activation=\"softmax\")\n",
    "])"
   ],
   "metadata": {
    "collapsed": false,
    "pycharm": {
     "name": "#%%\n"
    }
   }
  },
  {
   "cell_type": "markdown",
   "source": [
    "## 定义模型训练模式"
   ],
   "metadata": {
    "collapsed": false,
    "pycharm": {
     "name": "#%% md\n"
    }
   }
  },
  {
   "cell_type": "code",
   "execution_count": 232,
   "outputs": [],
   "source": [
    "model.compile(\n",
    "    optimizer=\"Adam\",  # 优化器\n",
    "    # loss=\"categorical_crossentropy\",  # 损失函数\n",
    "    loss=\"sparse_categorical_crossentropy\",  # 损失函数（整合独热编码API）\n",
    "    metrics=[\"accuracy\"]\n",
    ")"
   ],
   "metadata": {
    "collapsed": false,
    "pycharm": {
     "name": "#%%\n"
    }
   }
  },
  {
   "cell_type": "markdown",
   "source": [
    "## 模型训练"
   ],
   "metadata": {
    "collapsed": false,
    "pycharm": {
     "name": "#%% md\n"
    }
   }
  },
  {
   "cell_type": "code",
   "execution_count": 233,
   "outputs": [],
   "source": [
    "# 设置训练参数\n",
    "train_epochs = 10\n",
    "batch_size = 30"
   ],
   "metadata": {
    "collapsed": false,
    "pycharm": {
     "name": "#%%\n"
    }
   }
  },
  {
   "cell_type": "code",
   "execution_count": 234,
   "outputs": [
    {
     "name": "stdout",
     "output_type": "stream",
     "text": [
      "Epoch 1/10\n",
      "1600/1600 [==============================] - 6s 4ms/step - loss: 0.3482 - accuracy: 0.8982 - val_loss: 0.1739 - val_accuracy: 0.9495\n",
      "Epoch 2/10\n",
      "1600/1600 [==============================] - 6s 3ms/step - loss: 0.1509 - accuracy: 0.9553 - val_loss: 0.1423 - val_accuracy: 0.9567\n",
      "Epoch 3/10\n",
      "1600/1600 [==============================] - 5s 3ms/step - loss: 0.1082 - accuracy: 0.9667 - val_loss: 0.1166 - val_accuracy: 0.9647\n",
      "Epoch 4/10\n",
      "1600/1600 [==============================] - 5s 3ms/step - loss: 0.0829 - accuracy: 0.9750 - val_loss: 0.1067 - val_accuracy: 0.9678\n",
      "Epoch 5/10\n",
      "1600/1600 [==============================] - 5s 3ms/step - loss: 0.0673 - accuracy: 0.9794 - val_loss: 0.1006 - val_accuracy: 0.9702\n",
      "Epoch 6/10\n",
      "1600/1600 [==============================] - 5s 3ms/step - loss: 0.0547 - accuracy: 0.9826 - val_loss: 0.1044 - val_accuracy: 0.9709\n",
      "Epoch 7/10\n",
      "1600/1600 [==============================] - 6s 4ms/step - loss: 0.0462 - accuracy: 0.9853 - val_loss: 0.1060 - val_accuracy: 0.9715\n",
      "Epoch 8/10\n",
      "1600/1600 [==============================] - 5s 3ms/step - loss: 0.0393 - accuracy: 0.9872 - val_loss: 0.1073 - val_accuracy: 0.9695\n",
      "Epoch 9/10\n",
      "1600/1600 [==============================] - 5s 3ms/step - loss: 0.0331 - accuracy: 0.9896 - val_loss: 0.1016 - val_accuracy: 0.9749\n",
      "Epoch 10/10\n",
      "1600/1600 [==============================] - 5s 3ms/step - loss: 0.0289 - accuracy: 0.9909 - val_loss: 0.1171 - val_accuracy: 0.9698\n"
     ]
    }
   ],
   "source": [
    "# 模型训练\n",
    "train_history = model.fit(\n",
    "    x=train_images,  # 训练数据\n",
    "    # y=train_label_ohe,  # 目标数据（标签数据）\n",
    "    y=train_labels,  # 目标数据（标签数据）\n",
    "    epochs=train_epochs,  # 训练迭代次数\n",
    "    batch_size=batch_size,  # 批次大小\n",
    "    validation_split=0.2,  # 验证集占比\n",
    "    verbose=1,  # 训练过程的日志显示，\n",
    "    # verbose=2\n",
    "    # 0：不在标准输出流输出日志信息\n",
    "    # 1：输出进度条显示\n",
    "    # 2：每个epoch输出一行记录\n",
    ")"
   ],
   "metadata": {
    "collapsed": false,
    "pycharm": {
     "name": "#%%\n"
    }
   }
  },
  {
   "cell_type": "markdown",
   "source": [
    "## 模型历史"
   ],
   "metadata": {
    "collapsed": false,
    "pycharm": {
     "name": "#%% md\n"
    }
   }
  },
  {
   "cell_type": "code",
   "execution_count": 235,
   "outputs": [
    {
     "data": {
      "text/plain": "{'loss': [0.3482276201248169,\n  0.1508565992116928,\n  0.10820555686950684,\n  0.0828528106212616,\n  0.06734287738800049,\n  0.054677560925483704,\n  0.04615674167871475,\n  0.039299145340919495,\n  0.03314066678285599,\n  0.0289368387311697],\n 'accuracy': [0.8982083201408386,\n  0.9553333520889282,\n  0.9666666388511658,\n  0.9750000238418579,\n  0.9793750047683716,\n  0.9825624823570251,\n  0.9853125214576721,\n  0.9871875047683716,\n  0.9896458387374878,\n  0.9909166693687439],\n 'val_loss': [0.17391924560070038,\n  0.1422809511423111,\n  0.11657361686229706,\n  0.10670682042837143,\n  0.10061926394701004,\n  0.10440091788768768,\n  0.10595012456178665,\n  0.10730248689651489,\n  0.10157106816768646,\n  0.11709706485271454],\n 'val_accuracy': [0.9495000243186951,\n  0.9567499756813049,\n  0.9647499918937683,\n  0.9677500128746033,\n  0.9701666831970215,\n  0.9709166884422302,\n  0.9714999794960022,\n  0.9695000052452087,\n  0.9749166369438171,\n  0.9698333144187927]}"
     },
     "execution_count": 235,
     "metadata": {},
     "output_type": "execute_result"
    }
   ],
   "source": [
    "# history是一个字典型数据\n",
    "# 包含了【loss：训练集损失率、accuracy：训练集准确率、val_loss：验证集损失率、val_accuracy验证集准确率】\n",
    "train_history.history"
   ],
   "metadata": {
    "collapsed": false,
    "pycharm": {
     "name": "#%%\n"
    }
   }
  },
  {
   "cell_type": "markdown",
   "source": [
    "## 训练过程可视化"
   ],
   "metadata": {
    "collapsed": false,
    "pycharm": {
     "name": "#%% md\n"
    }
   }
  },
  {
   "cell_type": "code",
   "execution_count": 236,
   "outputs": [],
   "source": [
    "def show_train_history(train_history, train_metric, val_metric):\n",
    "    plt.plot(train_history.history[train_metric])\n",
    "    plt.plot(train_history.history[val_metric])\n",
    "\n",
    "    plt.title(\"Train History\")\n",
    "    plt.xlabel(\"Epochs\")\n",
    "    plt.ylabel(train_metric)\n",
    "\n",
    "    plt.legend([\"Train\", \"Validation\"], loc=\"upper left\")\n",
    "\n",
    "    plt.show()"
   ],
   "metadata": {
    "collapsed": false,
    "pycharm": {
     "name": "#%%\n"
    }
   }
  },
  {
   "cell_type": "code",
   "execution_count": 237,
   "outputs": [
    {
     "data": {
      "text/plain": "<Figure size 432x288 with 1 Axes>",
      "image/png": "[encoded data removed]"
     },
     "metadata": {
      "needs_background": "light"
     },
     "output_type": "display_data"
    }
   ],
   "source": [
    "show_train_history(train_history,\"loss\",\"val_loss\")"
   ],
   "metadata": {
    "collapsed": false,
    "pycharm": {
     "name": "#%%\n"
    }
   }
  },
  {
   "cell_type": "code",
   "execution_count": 238,
   "outputs": [
    {
     "data": {
      "text/plain": "<Figure size 432x288 with 1 Axes>",
      "image/png": "[encoded data removed]"
     },
     "metadata": {
      "needs_background": "light"
     },
     "output_type": "display_data"
    }
   ],
   "source": [
    "show_train_history(train_history,\"accuracy\",\"val_accuracy\")"
   ],
   "metadata": {
    "collapsed": false,
    "pycharm": {
     "name": "#%%\n"
    }
   }
  },
  {
   "cell_type": "markdown",
   "source": [
    "## 评估模型"
   ],
   "metadata": {
    "collapsed": false,
    "pycharm": {
     "name": "#%% md\n"
    }
   }
  },
  {
   "cell_type": "code",
   "execution_count": 239,
   "outputs": [
    {
     "name": "stdout",
     "output_type": "stream",
     "text": [
      "313/313 [==============================] - 1s 3ms/step - loss: 0.1094 - accuracy: 0.9731\n"
     ]
    }
   ],
   "source": [
    "yy = model.evaluate(test_images, test_labels,verbose=1)"
   ],
   "metadata": {
    "collapsed": false,
    "pycharm": {
     "name": "#%%\n"
    }
   }
  },
  {
   "cell_type": "code",
   "execution_count": 240,
   "outputs": [
    {
     "data": {
      "text/plain": "[0.10941366851329803, 0.9731000065803528]"
     },
     "execution_count": 240,
     "metadata": {},
     "output_type": "execute_result"
    }
   ],
   "source": [
    "yy"
   ],
   "metadata": {
    "collapsed": false,
    "pycharm": {
     "name": "#%%\n"
    }
   }
  },
  {
   "cell_type": "code",
   "execution_count": 241,
   "outputs": [
    {
     "data": {
      "text/plain": "['loss', 'accuracy']"
     },
     "execution_count": 241,
     "metadata": {},
     "output_type": "execute_result"
    }
   ],
   "source": [
    "model.metrics_names"
   ],
   "metadata": {
    "collapsed": false,
    "pycharm": {
     "name": "#%%\n"
    }
   }
  },
  {
   "cell_type": "markdown",
   "source": [
    "## 应用模型"
   ],
   "metadata": {
    "collapsed": false,
    "pycharm": {
     "name": "#%% md\n"
    }
   }
  },
  {
   "cell_type": "code",
   "execution_count": 242,
   "outputs": [],
   "source": [
    "test_pred = model.predict(test_images)"
   ],
   "metadata": {
    "collapsed": false,
    "pycharm": {
     "name": "#%%\n"
    }
   }
  },
  {
   "cell_type": "code",
   "execution_count": 243,
   "outputs": [
    {
     "data": {
      "text/plain": "(10000, 10)"
     },
     "execution_count": 243,
     "metadata": {},
     "output_type": "execute_result"
    }
   ],
   "source": [
    "test_pred.shape"
   ],
   "metadata": {
    "collapsed": false,
    "pycharm": {
     "name": "#%%\n"
    }
   }
  },
  {
   "cell_type": "code",
   "execution_count": 244,
   "outputs": [
    {
     "data": {
      "text/plain": "7"
     },
     "execution_count": 244,
     "metadata": {},
     "output_type": "execute_result"
    }
   ],
   "source": [
    "np.argmax(test_pred[0])"
   ],
   "metadata": {
    "collapsed": false,
    "pycharm": {
     "name": "#%%\n"
    }
   }
  },
  {
   "cell_type": "markdown",
   "source": [
    "## 使用Keras的API进行模型预测\n",
    "\n",
    "但在TensorFlow 2.6版本中删除了这个predict_classes函数"
   ],
   "metadata": {
    "collapsed": false,
    "pycharm": {
     "name": "#%% md\n"
    }
   }
  },
  {
   "cell_type": "code",
   "execution_count": 245,
   "outputs": [],
   "source": [
    "# test_pred = model.predict_classes(test_images)"
   ],
   "metadata": {
    "collapsed": false,
    "pycharm": {
     "name": "#%%\n"
    }
   }
  },
  {
   "cell_type": "code",
   "execution_count": 246,
   "outputs": [],
   "source": [
    "# test_pred[0]"
   ],
   "metadata": {
    "collapsed": false,
    "pycharm": {
     "name": "#%%\n"
    }
   }
  },
  {
   "cell_type": "code",
   "execution_count": 247,
   "outputs": [],
   "source": [
    "# test_labels[0]"
   ],
   "metadata": {
    "collapsed": false,
    "pycharm": {
     "name": "#%%\n"
    }
   }
  }
 ],
 "metadata": {
  "kernelspec": {
   "display_name": "Python 3",
   "language": "python",
   "name": "python3"
  },
  "language_info": {
   "codemirror_mode": {
    "name": "ipython",
    "version": 2
   },
   "file_extension": ".py",
   "mimetype": "text/x-python",
   "name": "python",
   "nbconvert_exporter": "python",
   "pygments_lexer": "ipython2",
   "version": "2.7.6"
  }
 },
 "nbformat": 4,
 "nbformat_minor": 0
}